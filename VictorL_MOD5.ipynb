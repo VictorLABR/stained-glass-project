{
  "nbformat": 4,
  "nbformat_minor": 0,
  "metadata": {
    "colab": {
      "provenance": []
    },
    "kernelspec": {
      "name": "python3",
      "display_name": "Python 3"
    },
    "language_info": {
      "name": "python"
    }
  },
  "cells": [
    {
      "cell_type": "markdown",
      "source": [
        "Criando a base de dados e transformando-a em um dicionário de trabalho"
      ],
      "metadata": {
        "id": "oClUkbM8m2n7"
      }
    },
    {
      "cell_type": "code",
      "execution_count": 1,
      "metadata": {
        "colab": {
          "base_uri": "https://localhost:8080/"
        },
        "id": "fgRnnLO-lllE",
        "outputId": "4e935b25-8adc-4ebe-b974-f6989f7fb77d"
      },
      "outputs": [
        {
          "output_type": "stream",
          "name": "stdout",
          "text": [
            "Overwriting credito.csv\n"
          ]
        }
      ],
      "source": [
        "%%writefile credito.csv\n",
        "id_vendedor,valor_emprestimos,quantidade_emprestimos,data\n",
        "104271,448.0,1,20161208\n",
        "21476,826.7,3,20161208\n",
        "87440,313.6,3,20161208\n",
        "15980,-8008.0,6,20161208\n",
        "215906,2212.0,5,20161208\n",
        "33696,2771.3,2,20161208\n",
        "33893,2240.0,3,20161208\n",
        "123974,2021.95,2,20161208\n",
        "225870,4039.0,2,20161208"
      ]
    },
    {
      "cell_type": "code",
      "source": [
        "emprestimos = []\n",
        "with open(file='./credito.csv', mode='r', encoding='utf8') as fp:\n",
        "  fp.readline()\n",
        "  linha = fp.readline()\n",
        "  while linha:\n",
        "    linha_emprestimo = {}\n",
        "    linha_elementos = linha.strip().split(sep=',')\n",
        "    linha_emprestimo['id_vendedor'] = linha_elementos[0]\n",
        "    linha_emprestimo['valor_emprestimos'] = linha_elementos[1]\n",
        "    linha_emprestimo['quantidade_emprestimos'] = linha_elementos[2]\n",
        "    linha_emprestimo['data'] = linha_elementos[3]\n",
        "    emprestimos.append(linha_emprestimo)\n",
        "    linha = fp.readline()\n",
        "\n",
        "for emprestimo in emprestimos:\n",
        "  print(emprestimo)"
      ],
      "metadata": {
        "colab": {
          "base_uri": "https://localhost:8080/"
        },
        "id": "cjyrguSBl-OE",
        "outputId": "4360029a-19e7-42c9-9e17-96123e42ffe8"
      },
      "execution_count": 2,
      "outputs": [
        {
          "output_type": "stream",
          "name": "stdout",
          "text": [
            "{'id_vendedor': '104271', 'valor_emprestimos': '448.0', 'quantidade_emprestimos': '1', 'data': '20161208'}\n",
            "{'id_vendedor': '21476', 'valor_emprestimos': '826.7', 'quantidade_emprestimos': '3', 'data': '20161208'}\n",
            "{'id_vendedor': '87440', 'valor_emprestimos': '313.6', 'quantidade_emprestimos': '3', 'data': '20161208'}\n",
            "{'id_vendedor': '15980', 'valor_emprestimos': '-8008.0', 'quantidade_emprestimos': '6', 'data': '20161208'}\n",
            "{'id_vendedor': '215906', 'valor_emprestimos': '2212.0', 'quantidade_emprestimos': '5', 'data': '20161208'}\n",
            "{'id_vendedor': '33696', 'valor_emprestimos': '2771.3', 'quantidade_emprestimos': '2', 'data': '20161208'}\n",
            "{'id_vendedor': '33893', 'valor_emprestimos': '2240.0', 'quantidade_emprestimos': '3', 'data': '20161208'}\n",
            "{'id_vendedor': '123974', 'valor_emprestimos': '2021.95', 'quantidade_emprestimos': '2', 'data': '20161208'}\n",
            "{'id_vendedor': '225870', 'valor_emprestimos': '4039.0', 'quantidade_emprestimos': '2', 'data': '20161208'}\n"
          ]
        }
      ]
    },
    {
      "cell_type": "markdown",
      "source": [
        "Exercício 1: Aplicar a função **map** no dicionário de empréstimos para **extrair** os valores da chave **valor_emprestimos** na **lista** **valor_emprestimos_lista**. Faça também a conversão de **str** para **float**."
      ],
      "metadata": {
        "id": "yN4eBrW1nIbr"
      }
    },
    {
      "cell_type": "code",
      "source": [
        "valor_emprestimos_lista = list(map(lambda x: float(x['valor_emprestimos']), emprestimos))\n",
        "print(valor_emprestimos_lista)\n",
        "print(len(valor_emprestimos_lista)) # verificar quantos id's foram lidos 9/9"
      ],
      "metadata": {
        "colab": {
          "base_uri": "https://localhost:8080/"
        },
        "id": "-YXqPC3KnfH3",
        "outputId": "8ec30db3-57b8-44bb-a015-7d9c5cbdd549"
      },
      "execution_count": 3,
      "outputs": [
        {
          "output_type": "stream",
          "name": "stdout",
          "text": [
            "[448.0, 826.7, 313.6, -8008.0, 2212.0, 2771.3, 2240.0, 2021.95, 4039.0]\n",
            "9\n"
          ]
        }
      ]
    },
    {
      "cell_type": "markdown",
      "source": [
        "Exercício 2: Aplicar a função **filter** na lista **valor_emprestimos_lista** para **filtrar** apenas os valores maiores que zero (os valores negativos são erros na Base de Dados). Salve os valores na lista **valor_emprestimos_lista_filtrada**."
      ],
      "metadata": {
        "id": "4nQbUaHAyDNP"
      }
    },
    {
      "cell_type": "code",
      "source": [
        "valor_emprestimos_lista_filtrada = list(filter(lambda x: x> 0, valor_emprestimos_lista))\n",
        "print(valor_emprestimos_lista_filtrada)\n",
        "print(len(valor_emprestimos_lista_filtrada)) # verificar quantos id's foram filtrados 1/9"
      ],
      "metadata": {
        "colab": {
          "base_uri": "https://localhost:8080/"
        },
        "id": "gTGWDj1AynM7",
        "outputId": "5cff9cd5-f4c8-4573-f93f-37cf48bfe9b2"
      },
      "execution_count": 4,
      "outputs": [
        {
          "output_type": "stream",
          "name": "stdout",
          "text": [
            "[448.0, 826.7, 313.6, 2212.0, 2771.3, 2240.0, 2021.95, 4039.0]\n",
            "8\n"
          ]
        }
      ]
    },
    {
      "cell_type": "markdown",
      "source": [
        "Exercício 3.1: Aplicar a função **reduce** para somar os elementos da lista **valor_emprestimos_lista_filtrada** na variável **soma_valor_emprestimos**."
      ],
      "metadata": {
        "id": "zxwZecff0bgY"
      }
    },
    {
      "cell_type": "code",
      "source": [
        "from functools import reduce\n",
        "\n",
        "soma_valor_emprestimos = reduce(lambda x,y: round(x+y,2), valor_emprestimos_lista_filtrada)\n",
        "print(soma_valor_emprestimos)"
      ],
      "metadata": {
        "colab": {
          "base_uri": "https://localhost:8080/"
        },
        "id": "8ahVmFaE0o9-",
        "outputId": "e54d441c-a134-4f09-89d5-91a29e2616d0"
      },
      "execution_count": 5,
      "outputs": [
        {
          "output_type": "stream",
          "name": "stdout",
          "text": [
            "14872.55\n"
          ]
        }
      ]
    },
    {
      "cell_type": "markdown",
      "source": [
        "Exercício 3.2: Aplicar a função **reduce** para obter a média aritimética dos elementos da lista **valor_emprestimos_lista_filtrada** na variável **media_valor_emprestimos**.\n",
        "\n",
        "*DICA*: Para calcular o tamanho da lista, isto é, a quantidade de elementos nela, utilize a função len() dentro do argumento da função e coloque a lista valor_emprestimos_lista_filtrada."
      ],
      "metadata": {
        "id": "T3Kv5-HL1qgJ"
      }
    },
    {
      "cell_type": "code",
      "source": [
        "from functools import reduce\n",
        "\n",
        "media_emprestimos = reduce(lambda x,y: round(soma_valor_emprestimos/len(valor_emprestimos_lista_filtrada),2), valor_emprestimos_lista_filtrada)\n",
        "print(media_emprestimos)"
      ],
      "metadata": {
        "colab": {
          "base_uri": "https://localhost:8080/"
        },
        "id": "5a3l6oAH2Ua0",
        "outputId": "f6008254-4847-4b8a-f538-d6151985f97f"
      },
      "execution_count": 6,
      "outputs": [
        {
          "output_type": "stream",
          "name": "stdout",
          "text": [
            "1859.07\n"
          ]
        }
      ]
    },
    {
      "cell_type": "markdown",
      "source": [
        "Exercício 3.3 (**DESAFIO**): Aplicar a função **reduce** para obter o desvio-padrão amostral da lista **valor_emprestimos_lista_filtrada** na variável **desvio_padrao_valor_emprestimos**."
      ],
      "metadata": {
        "id": "dmnpaU0k2y83"
      }
    },
    {
      "cell_type": "code",
      "source": [
        "from functools import reduce\n",
        "from math import sqrt\n",
        "\n",
        "desvio_padrao_emprestimos = round(sqrt(float(reduce(lambda x,y: x+y, (map(lambda x: (x - media_emprestimos)**2, valor_emprestimos_lista_filtrada))))/(len(valor_emprestimos_lista_filtrada)-1)),2)\n",
        "print(desvio_padrao_emprestimos)"
      ],
      "metadata": {
        "colab": {
          "base_uri": "https://localhost:8080/"
        },
        "id": "um8yY1-x2zYJ",
        "outputId": "db9d04e5-38b3-481a-89fa-d40cdd5bb77b"
      },
      "execution_count": 7,
      "outputs": [
        {
          "output_type": "stream",
          "name": "stdout",
          "text": [
            "1272.0\n"
          ]
        }
      ]
    }
  ]
}