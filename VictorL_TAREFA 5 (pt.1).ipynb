{
 "cells": [
  {
   "cell_type": "markdown",
   "metadata": {},
   "source": [
    "# Módulo 5 Tarefa 1\n",
    "## Base de nascidos vivos do DataSUS\n",
    "O DataSUS disponibiliza diversos arquivos de dados com relação a seus segurados, conforme a [lei da transparência de informações públicas](https://www.sisgov.com/transparencia-acesso-informacao/#:~:text=A%20Lei%20da%20Transpar%C3%AAncia%20(LC,em%20um%20site%20na%20internet.). \n",
    "\n",
    "Essas informações podem ser obtidas pela internet [aqui](http://www2.datasus.gov.br/DATASUS/index.php?area=0901&item=1). Como o processo de obtenção desses arquivos foge um pouco do nosso escopo, deixamos o arquivo ```SINASC_RO_2019.csv``` já como vai ser encontrado no DataSUS. O dicionário de dados está no arquivo ```estrutura_sinasc_para_CD.pdf``` (o nome do arquivo tal qual no portal do DataSUS).\n",
    "\n",
    "### Nosso objetivo\n",
    "Queremos deixar uma base organizada para podermos estudar a relação entre partos com risco para o bebê e algumas condições como tempo de parto, consultas de pré-natal etc.\n",
    "\n",
    "#### Preparação da base\n",
    "1. Carregue a base 'SINASC_RO_2019.csv'. Conte o número de registros e o número de registros não duplicados da base. Dica: você aprendeu um método que remove duplicados, encadeie este método com um outro método que conta o número de linhas. **Há linhas duplicadas?**  \n",
    "\n",
    "2. Conte o número de valores *missing* por variável.  \n",
    "\n",
    "3. Ok, no item anterior você deve ter achado pouco prático ler a informação de tantas variáveis, muitas delas nem devem ser interesantes. Então crie uma seleção dessa base somente com as colunas que interessam. São elas:\n",
    "``` \n",
    "['LOCNASC', 'IDADEMAE', 'ESTCIVMAE', 'ESCMAE', 'QTDFILVIVO', \n",
    "    'GESTACAO', 'GRAVIDEZ', 'CONSULTAS', 'APGAR5'] \n",
    "```\n",
    "Refaça a contagem de valores *missings*.  \n",
    "\n",
    "4. Apgar é uma *nota* que o pediatra dá ao bebê quando nasce de acordo com algumas características associadas principalmente à respiração. Apgar 1 e Apgar 5 são as notas 1 e 5 minutos do nascimento. Apgar5 será a nossa variável de interesse principal. Então remova todos os registros com Apgar5 não preenchido. Para esta seleção, conte novamente o número de linhas e o número de *missings*.  \n",
    "\n",
    "5. observe que as variáveis ```['ESTCIVMAE', 'CONSULTAS']``` possuem o código ```9```, que significa *ignorado*. Vamos assumir que o não preenchido é o mesmo que o código ```9```.<br>\n",
    "6. Substitua os valores faltantes da quantitativa (```QTDFILVIVO```) por zero.  \n",
    "7. Das restantes, decida que valore te parece mais adequado (um 'não preenchido' ou um valor 'mais provável' como no item anterior) e preencha. Justifique. Lembre-se de que tratamento de dados é trabalho do cientista, e que estamos tomando decisões a todo o momento - não há necessariamente certo e errado aqui.  \n",
    "8. O Apgar possui uma classificação indicando se o bebê passou por asfixia:\n",
    "- Entre 8 e 10 está em uma faixa 'normal'. \n",
    "- Entre 6 e 7, significa que o recém-nascido passou por 'asfixia leve'. \n",
    "- Entre 4 e 5 significa 'asfixia moderada'.\n",
    "- Entre 0 e 3 significa 'asfixia severa'.  \n",
    "\n",
    "Crie uma categorização dessa variável com essa codificação e calcule as frequências dessa categorização.  \n",
    "<br>\n",
    "9. Renomeie as variáveis para que fiquem no *snake case*, ou seja, em letras minúsculas, com um *underscore* entre as palávras. Dica: repare que se você não quiser criar um *dataframe* novo, você vai precisar usar a opção ```inplace = True```."
   ]
  },
  {
   "cell_type": "code",
   "execution_count": null,
   "metadata": {},
   "outputs": [],
   "source": [
    "import pandas as pd\n",
    "import requests\n",
    "\n",
    "sinasc = pd.read_csv('SINASC_RO_2019.csv') # carregando a Base de Dados e transferindo-a para um DataFrame\n",
    "print(sinasc.shape) # exibindo as dimensões da Base\n",
    "\n",
    "# simultaneamente retirando as duplicatas e verificando se houve remoção quando comparado a original\n",
    "sinasc.drop_duplicates().shape"
   ]
  },
  {
   "cell_type": "code",
   "execution_count": null,
   "metadata": {},
   "outputs": [],
   "source": [
    "# como há 69 variáveis, apenas as 5 primeiras e 5 últimas estão exibidas, mas todas estão contabilizadas\n",
    "sinasc.isna().sum()"
   ]
  },
  {
   "cell_type": "code",
   "execution_count": null,
   "metadata": {},
   "outputs": [],
   "source": [
    "sinasc_filtrado = sinasc.loc[:, [\"LOCNASC\",\n",
    "                                 \"IDADEMAE\",\n",
    "                                 \"ESTCIVMAE\",\n",
    "                                 \"ESCMAE\",\n",
    "                                 \"QTDFILVIVO\",\n",
    "                                 \"GESTACAO\",\n",
    "                                 \"GRAVIDEZ\",\n",
    "                                 \"CONSULTAS\",\n",
    "                                 \"APGAR5\"]]\n",
    "print(sinasc_filtrado.shape) # conferindo as dimensões da Base filtrada\n",
    "\n",
    "sinasc_filtrado.isna().sum()"
   ]
  },
  {
   "cell_type": "code",
   "execution_count": null,
   "metadata": {},
   "outputs": [],
   "source": [
    "sinasc_principal = sinasc_filtrado.dropna(subset= [\"APGAR5\"])\n",
    "\n",
    "# 27028 -26925 =103, confirmando o dado anterior. Logo, foram retiradas 103 linhas (apenas 0,38% da Base de Dados)\n",
    "print(sinasc_principal.shape)\n",
    "sinasc_principal.isna().sum() # verificando a contagem de missings APGAR5 igual a 0"
   ]
  },
  {
   "cell_type": "code",
   "execution_count": null,
   "metadata": {},
   "outputs": [],
   "source": [
    "# passando o valor 9 para todos os missing das variaveis\n",
    "sinasc_principal[\"ESTCIVMAE\"].fillna(9)\n",
    "sinasc_principal[\"CONSULTAS\"].fillna(9)\n",
    "\n",
    "sinasc_principal.shape # conferindo a Base de Dados principal"
   ]
  },
  {
   "cell_type": "code",
   "execution_count": null,
   "metadata": {},
   "outputs": [],
   "source": [
    "sinasc_principal[\"QTDFILVIVO\"].fillna(0) # passando o valor 0 para todos os missings da variável\n",
    "\n",
    "sinasc_principal.shape # conferindo a Base de Dados principal"
   ]
  },
  {
   "cell_type": "code",
   "execution_count": null,
   "metadata": {},
   "outputs": [],
   "source": [
    "# bloco de análise para decisão coerente com as informações contidas na Base de Dados para as variáveis numéricas\n",
    "print(sinasc_principal[\"LOCNASC\"].mean())\n",
    "print(sinasc_principal[\"LOCNASC\"].median())\n",
    "print(sinasc_principal[\"IDADEMAE\"].mean())\n",
    "print(sinasc_principal[\"IDADEMAE\"].median())"
   ]
  },
  {
   "cell_type": "code",
   "execution_count": null,
   "metadata": {},
   "outputs": [],
   "source": [
    "# bloco de análise para decisão coerente com as informações contidas na Base de Dados para as variáveis categóricas\n",
    "print(pd.get_dummies(sinasc_principal[\"ESCMAE\"]).sum())\n",
    "print(pd.get_dummies(sinasc_principal[\"GESTACAO\"]).sum())\n",
    "print(pd.get_dummies(sinasc_principal[\"GRAVIDEZ\"]).sum())"
   ]
  },
  {
   "cell_type": "code",
   "execution_count": null,
   "metadata": {},
   "outputs": [],
   "source": [
    "# atribuição dos valores vazios aos mais adequados para cada variável\n",
    "sinasc_principal[\"LOCNASC\"].fillna(sinasc_principal[\"LOCNASC\"].median())\n",
    "sinasc_principal[\"IDADEMAE\"].fillna(sinasc_principal[\"IDADEMAE\"].median())\n",
    "sinasc_principal[\"ESCMAE\"].fillna(\"8 a 11 anos\")\n",
    "sinasc_principal[\"GESTACAO\"].fillna(\"37 a 41 semanas\")\n",
    "sinasc_principal[\"GRAVIDEZ\"].fillna(\"Única\")\n",
    "\n",
    "print(sinasc_principal.columns)"
   ]
  },
  {
   "cell_type": "code",
   "execution_count": null,
   "metadata": {},
   "outputs": [],
   "source": [
    "# categorização dos índices em uma nova coluna\n",
    "sinasc_principal.loc[sinasc_principal[\"APGAR5\"] >= 8, \"APGAR5_cat\"] = \"normal\"\n",
    "sinasc_principal.loc[(sinasc_principal[\"APGAR5\"] > 5) & (sinasc_principal[\"APGAR5\"] < 8), \"APGAR5_cat\"] = \"asfixia leve\"\n",
    "sinasc_principal.loc[(sinasc_principal[\"APGAR5\"] > 3) & (sinasc_principal[\"APGAR5\"] <= 5), \"APGAR5_cat\"] = \"asfixia moderada\"\n",
    "sinasc_principal.loc[sinasc_principal[\"APGAR5\"] <= 3, \"APGAR5_cat\"] = \"asfixia severa\"\n",
    "\n",
    "sinasc_principal.head(5)"
   ]
  },
  {
   "cell_type": "code",
   "execution_count": null,
   "metadata": {},
   "outputs": [],
   "source": [
    "# como eu desejei renomear as colunas de acordo com a minha preferência de identificação, não houve necessidade do inplace\n",
    "sinasc_principal.columns = [\"local_nasc\",\n",
    "                            \"idade_mae\",\n",
    "                            \"estado_civ_mae\",\n",
    "                            \"escol_mae\",\n",
    "                            \"qtd_filho_vivo\",\n",
    "                            \"tempo_gestacao\",\n",
    "                            \"tipo_gravidez\",\n",
    "                            \"qtd_consultas\",\n",
    "                            \"valor_apgar5\",\n",
    "                            \"cat_apgar5\"]\n",
    "\n",
    "sinasc_principal"
   ]
  },
  {
   "cell_type": "code",
   "execution_count": null,
   "metadata": {},
   "outputs": [],
   "source": []
  }
 ],
 "metadata": {
  "kernelspec": {
   "display_name": "Python 3 (ipykernel)",
   "language": "python",
   "name": "python3"
  },
  "language_info": {
   "codemirror_mode": {
    "name": "ipython",
    "version": 3
   },
   "file_extension": ".py",
   "mimetype": "text/x-python",
   "name": "python",
   "nbconvert_exporter": "python",
   "pygments_lexer": "ipython3",
   "version": "3.9.13"
  }
 },
 "nbformat": 4,
 "nbformat_minor": 4
}
