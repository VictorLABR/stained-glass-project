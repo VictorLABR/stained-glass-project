{
 "cells": [
  {
   "cell_type": "markdown",
   "metadata": {},
   "source": [
    "# Tarefa 03\n",
    "\n",
    "- Leia os enunciados com atenção\n",
    "- Saiba que pode haver mais de uma resposta correta\n",
    "- Insira novas células de código sempre que achar necessário\n",
    "- Em caso de dúvidas, procure os Tutores\n",
    "- Divirta-se :)"
   ]
  },
  {
   "cell_type": "code",
   "execution_count": 30,
   "metadata": {},
   "outputs": [],
   "source": [
    "import pandas as pd\n",
    "import requests"
   ]
  },
  {
   "cell_type": "markdown",
   "metadata": {},
   "source": [
    "####  1) Lendo de APIs\n",
    "Vimos em aula como carregar dados públicos do governo através de um API (*Application Programming Interface*). No exemplo de aula, baixamos os dados de pedidos de verificação de limites (PVL) realizados por estados, e selecionamos apenas aqueles referentes ao estado de São Paulo.\n",
    "\n",
    "1. Repita os mesmos passos feitos em aula, mas selecione os PVLs realizados por municípios no estado do Rio de Janeiro.\n",
    "2. Quais são os três *status* das solicitações mais frequentes na base? Quais são suas frequências?\n",
    "3. Construa uma nova variável que contenha o ano do **status**. Observe que ```data_status``` vem como tipo *object* no **DataFrame**. Dica: você pode usar o método ```.str``` para transformar o tipo da variável em string, em seguida um método como [**slice()**](https://pandas.pydata.org/docs/reference/api/pandas.Series.str.slice.html) ou [**split()**](https://pandas.pydata.org/pandas-docs/stable/reference/api/pandas.Series.str.split.html).\n",
    "4. Indique a frequência de cada ano do campo construído no item (3)."
   ]
  },
  {
   "cell_type": "code",
   "execution_count": 31,
   "metadata": {},
   "outputs": [
    {
     "name": "stdout",
     "output_type": "stream",
     "text": [
      "O status 200 é equivalente ao status OK. Esta requisição retorna: 200\n"
     ]
    }
   ],
   "source": [
    "url = \"https://apidatalake.tesouro.gov.br/ords/sadipem/tt/pvl?uf=RJ&tipo_interessado=Munic%C3%ADpio\"\n",
    "req = requests.get(url)\n",
    "\n",
    "print(\"O status 200 é equivalente ao status OK. Esta requisição retorna:\", req.status_code)"
   ]
  },
  {
   "cell_type": "code",
   "execution_count": 32,
   "metadata": {},
   "outputs": [
    {
     "data": {
      "text/html": [
       "<div>\n",
       "<style scoped>\n",
       "    .dataframe tbody tr th:only-of-type {\n",
       "        vertical-align: middle;\n",
       "    }\n",
       "\n",
       "    .dataframe tbody tr th {\n",
       "        vertical-align: top;\n",
       "    }\n",
       "\n",
       "    .dataframe thead th {\n",
       "        text-align: right;\n",
       "    }\n",
       "</style>\n",
       "<table border=\"1\" class=\"dataframe\">\n",
       "  <thead>\n",
       "    <tr style=\"text-align: right;\">\n",
       "      <th></th>\n",
       "      <th>id_pleito</th>\n",
       "      <th>tipo_interessado</th>\n",
       "      <th>interessado</th>\n",
       "      <th>cod_ibge</th>\n",
       "      <th>uf</th>\n",
       "      <th>num_pvl</th>\n",
       "      <th>status</th>\n",
       "      <th>num_processo</th>\n",
       "      <th>data_protocolo</th>\n",
       "      <th>tipo_operacao</th>\n",
       "      <th>finalidade</th>\n",
       "      <th>tipo_credor</th>\n",
       "      <th>credor</th>\n",
       "      <th>moeda</th>\n",
       "      <th>valor</th>\n",
       "      <th>pvl_assoc_divida</th>\n",
       "      <th>pvl_contradado_credor</th>\n",
       "      <th>data_status</th>\n",
       "    </tr>\n",
       "  </thead>\n",
       "  <tbody>\n",
       "    <tr>\n",
       "      <th>0</th>\n",
       "      <td>10226</td>\n",
       "      <td>Município</td>\n",
       "      <td>Conceição de Macabu</td>\n",
       "      <td>3301405</td>\n",
       "      <td>RJ</td>\n",
       "      <td>None</td>\n",
       "      <td>Arquivado</td>\n",
       "      <td>17944.001149/2008-14</td>\n",
       "      <td>2008-08-14T03:00:00Z</td>\n",
       "      <td>Operação contratual interna</td>\n",
       "      <td>Caminho da Escola 2</td>\n",
       "      <td>Instituição Financeira Nacional</td>\n",
       "      <td>Banco do Brasil S/A</td>\n",
       "      <td>Real</td>\n",
       "      <td>400700.0</td>\n",
       "      <td>0</td>\n",
       "      <td>0</td>\n",
       "      <td>30/10/2008</td>\n",
       "    </tr>\n",
       "    <tr>\n",
       "      <th>1</th>\n",
       "      <td>10281</td>\n",
       "      <td>Município</td>\n",
       "      <td>Rio de Janeiro</td>\n",
       "      <td>3304557</td>\n",
       "      <td>RJ</td>\n",
       "      <td>None</td>\n",
       "      <td>Deferido</td>\n",
       "      <td>17944.001161/2008-29</td>\n",
       "      <td>2008-06-13T03:00:00Z</td>\n",
       "      <td>Operação contratual interna</td>\n",
       "      <td>PAC - Saneamento - 2008 B</td>\n",
       "      <td>Instituição Financeira Nacional</td>\n",
       "      <td>Caixa Econômica Federal</td>\n",
       "      <td>Real</td>\n",
       "      <td>56947800.0</td>\n",
       "      <td>1</td>\n",
       "      <td>0</td>\n",
       "      <td>30/06/2008</td>\n",
       "    </tr>\n",
       "    <tr>\n",
       "      <th>2</th>\n",
       "      <td>11501</td>\n",
       "      <td>Município</td>\n",
       "      <td>Belford Roxo</td>\n",
       "      <td>3300456</td>\n",
       "      <td>RJ</td>\n",
       "      <td>None</td>\n",
       "      <td>Encaminhado à PGFN com manifestação técnica fa...</td>\n",
       "      <td>17944.001463/2007-16</td>\n",
       "      <td>2007-11-29T02:00:00Z</td>\n",
       "      <td>Operação contratual externa (com garantia da U...</td>\n",
       "      <td>Infraestrutura</td>\n",
       "      <td>Instituição Financeira Internacional</td>\n",
       "      <td>Banco Interamericano de Desenvolvimento</td>\n",
       "      <td>Dólar dos EUA</td>\n",
       "      <td>13200000.0</td>\n",
       "      <td>0</td>\n",
       "      <td>0</td>\n",
       "      <td>28/08/2008</td>\n",
       "    </tr>\n",
       "  </tbody>\n",
       "</table>\n",
       "</div>"
      ],
      "text/plain": [
       "   id_pleito tipo_interessado          interessado  cod_ibge  uf num_pvl  \\\n",
       "0      10226        Município  Conceição de Macabu   3301405  RJ    None   \n",
       "1      10281        Município       Rio de Janeiro   3304557  RJ    None   \n",
       "2      11501        Município         Belford Roxo   3300456  RJ    None   \n",
       "\n",
       "                                              status          num_processo  \\\n",
       "0                                          Arquivado  17944.001149/2008-14   \n",
       "1                                           Deferido  17944.001161/2008-29   \n",
       "2  Encaminhado à PGFN com manifestação técnica fa...  17944.001463/2007-16   \n",
       "\n",
       "         data_protocolo                                      tipo_operacao  \\\n",
       "0  2008-08-14T03:00:00Z                        Operação contratual interna   \n",
       "1  2008-06-13T03:00:00Z                        Operação contratual interna   \n",
       "2  2007-11-29T02:00:00Z  Operação contratual externa (com garantia da U...   \n",
       "\n",
       "                  finalidade                           tipo_credor  \\\n",
       "0        Caminho da Escola 2       Instituição Financeira Nacional   \n",
       "1  PAC - Saneamento - 2008 B       Instituição Financeira Nacional   \n",
       "2             Infraestrutura  Instituição Financeira Internacional   \n",
       "\n",
       "                                    credor          moeda       valor  \\\n",
       "0                      Banco do Brasil S/A           Real    400700.0   \n",
       "1                  Caixa Econômica Federal           Real  56947800.0   \n",
       "2  Banco Interamericano de Desenvolvimento  Dólar dos EUA  13200000.0   \n",
       "\n",
       "   pvl_assoc_divida  pvl_contradado_credor data_status  \n",
       "0                 0                      0  30/10/2008  \n",
       "1                 1                      0  30/06/2008  \n",
       "2                 0                      0  28/08/2008  "
      ]
     },
     "execution_count": 32,
     "metadata": {},
     "output_type": "execute_result"
    }
   ],
   "source": [
    "dados_json = req.json()\n",
    "\n",
    "df = pd.json_normalize(dados_json) # ação necessária porque há arrays com tamanhos diferentes nesta Base de Dados\n",
    "\n",
    "items_df = pd.DataFrame(df[\"items\"].iloc[0]) # novo DataFrame porque todas as informações estavam agrupadas em na primeira coluna como lista de dicionários, impossibilitando trabalhá-la\n",
    "items_df.head(3)"
   ]
  },
  {
   "cell_type": "code",
   "execution_count": 33,
   "metadata": {},
   "outputs": [
    {
     "data": {
      "text/plain": [
       "Deferido                                                 95\n",
       "Arquivado                                                53\n",
       "Regularizado                                             26\n",
       "Arquivado por decurso de prazo                           24\n",
       "Deferido (PVL-IF)                                        19\n",
       "Encaminhado à PGFN com manifestação técnica favorável    14\n",
       "Arquivado a pedido                                        6\n",
       "Em retificação pelo interessado                           2\n",
       "Em retificação pelo interessado (PVL-IF)                  1\n",
       "Em retificação pelo credor                                1\n",
       "Name: status, dtype: int64"
      ]
     },
     "execution_count": 33,
     "metadata": {},
     "output_type": "execute_result"
    }
   ],
   "source": [
    "items_df[\"status\"].value_counts() # exibindo em ordem de frequência, logo seriam \"Deferido\", \"Arquivado\" e \"Regularizado\""
   ]
  },
  {
   "cell_type": "code",
   "execution_count": 34,
   "metadata": {},
   "outputs": [
    {
     "data": {
      "text/plain": [
       "0      2008\n",
       "1      2008\n",
       "2      2008\n",
       "3      2008\n",
       "4      2011\n",
       "       ... \n",
       "236    2008\n",
       "237    2019\n",
       "238    2020\n",
       "239    2019\n",
       "240    2020\n",
       "Name: 2, Length: 241, dtype: object"
      ]
     },
     "execution_count": 34,
     "metadata": {},
     "output_type": "execute_result"
    }
   ],
   "source": [
    "ano_status = items_df[\"data_status\"].str.split(\"/\", expand=True).get(2) # tive que usar o parâmetro \"expand\" para percorrer todas as linhas\n",
    "ano_status"
   ]
  },
  {
   "cell_type": "code",
   "execution_count": 35,
   "metadata": {},
   "outputs": [
    {
     "data": {
      "text/plain": [
       "2008    37\n",
       "2007    29\n",
       "2014    20\n",
       "2010    19\n",
       "2019    17\n",
       "2013    15\n",
       "2020    15\n",
       "2012    13\n",
       "2022    12\n",
       "2011    10\n",
       "2023     9\n",
       "2009     9\n",
       "2015     8\n",
       "2017     5\n",
       "2021     5\n",
       "2002     4\n",
       "2006     4\n",
       "2016     4\n",
       "2018     4\n",
       "2003     1\n",
       "2004     1\n",
       "Name: 2, dtype: int64"
      ]
     },
     "execution_count": 35,
     "metadata": {},
     "output_type": "execute_result"
    }
   ],
   "source": [
    "ano_status.value_counts() # O ano que houve mais solicitações foi 2008"
   ]
  },
  {
   "cell_type": "markdown",
   "metadata": {},
   "source": [
    "####  2) Melhorando a interação com o API\n",
    "Observe dois URLs de consultas diferentes, por exemplo o URL utilizado em aula, e o URL feito no exercício anterior. Compare-os e observe as diferenças.\n",
    "\n",
    "1. Faça uma função em Python que recebe como argumento o UF da consulta e o tipo de interessado (```'Estado'```ou ```Município```), e que devolve os dados da consulta no formato *DataFrame*.\n",
    "2. Quantas solicitações para o Estado podem ser consultadas para Minas Gerais com *status* em 'Arquivado por decurso de prazo' estão registradas?\n",
    "3. Qual é o município da Bahia com mais solicitações deferidas?\n",
    "4. Salve um arquivo .csv com os dados de solicitações da Bahia, com interessado = 'Estado'"
   ]
  },
  {
   "cell_type": "code",
   "execution_count": 36,
   "metadata": {},
   "outputs": [],
   "source": [
    "def obter_dados(UF, tipo_interessado):\n",
    "    url = f\"https://apidatalake.tesouro.gov.br/ords/sadipem/tt/pvl?uf={UF}&tipo_interessado={tipo_interessado}\"\n",
    "    resposta = requests.get(url)\n",
    "    dados = resposta.json()\n",
    "    df = pd.json_normalize(dados)\n",
    "    ndf = pd.DataFrame(df[\"items\"].iloc[0])\n",
    "    return ndf"
   ]
  },
  {
   "cell_type": "code",
   "execution_count": 37,
   "metadata": {},
   "outputs": [
    {
     "data": {
      "text/plain": [
       "Encaminhado à PGFN com manifestação técnica favorável    20\n",
       "Deferido                                                  7\n",
       "Arquivado a pedido                                        5\n",
       "Arquivado pela STN                                        3\n",
       "Arquivado                                                 3\n",
       "Indeferido                                                1\n",
       "Arquivado por decurso de prazo                            1\n",
       "Name: status, dtype: int64"
      ]
     },
     "execution_count": 37,
     "metadata": {},
     "output_type": "execute_result"
    }
   ],
   "source": [
    "MG_est = obter_dados(\"MG\", \"Estado\")\n",
    "MG_est[\"status\"].value_counts() # apenas 1 registro"
   ]
  },
  {
   "cell_type": "code",
   "execution_count": 38,
   "metadata": {},
   "outputs": [
    {
     "data": {
      "text/plain": [
       "Camaçari                  19\n",
       "Luís Eduardo Magalhães    17\n",
       "Salvador                  17\n",
       "Amargosa                  14\n",
       "Irecê                     14\n",
       "                          ..\n",
       "Matina                     1\n",
       "Boninal                    1\n",
       "Angical                    1\n",
       "Ituaçu                     1\n",
       "Inhambupe                  1\n",
       "Name: interessado, Length: 289, dtype: int64"
      ]
     },
     "execution_count": 38,
     "metadata": {},
     "output_type": "execute_result"
    }
   ],
   "source": [
    "BA_mun = obter_dados(\"BA\", \"Município\")\n",
    "BA_mun[\"interessado\"].value_counts() # Camaçari, Litoral Norte, próximo à capital Salvador"
   ]
  },
  {
   "cell_type": "code",
   "execution_count": 39,
   "metadata": {},
   "outputs": [],
   "source": [
    "BA_est = obter_dados(\"BA\", \"Estado\")\n",
    "BA_est.to_csv(\"dados_solicitacoes_EstadoBA_sem_index_separados.csv\", index= False, sep=';')"
   ]
  }
 ],
 "metadata": {
  "kernelspec": {
   "display_name": "Python 3 (ipykernel)",
   "language": "python",
   "name": "python3"
  },
  "language_info": {
   "codemirror_mode": {
    "name": "ipython",
    "version": 3
   },
   "file_extension": ".py",
   "mimetype": "text/x-python",
   "name": "python",
   "nbconvert_exporter": "python",
   "pygments_lexer": "ipython3",
   "version": "3.9.13"
  }
 },
 "nbformat": 4,
 "nbformat_minor": 4
}
