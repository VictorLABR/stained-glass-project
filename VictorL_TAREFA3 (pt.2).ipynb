{
  "cells": [
    {
      "cell_type": "markdown",
      "source": [
        "*   Tome a liberdade de incluir a ATIVIDADE 2 que estava no caderno de aula."
      ],
      "metadata": {
        "id": "3l2SwiBHJHGs"
      }
    },
    {
      "cell_type": "markdown",
      "source": [
        "ATIVIDADE 2\n",
        "Você tem duas strings: nome_campo e nome_cadastro, uma delas veio através de um campo preenchido pelo usuário, e a outra veio de uma tabela cadastral do sistema. Escreva uma função que compara as duas retornando True caso sejam iguais e Falsecaso sejam diferentes, sem considerar diferenças de maiúsculas e minúsculas utilizando um dos métodos vistos."
      ],
      "metadata": {
        "id": "0qr5wwfhGd6R"
      }
    },
    {
      "cell_type": "code",
      "source": [
        "def compara_nome(nome_campo, nome_sistema):\n",
        "    if nome_campo.lower() == nome_sistema.lower():\n",
        "      print(True)\n",
        "    else:\n",
        "      print(False)"
      ],
      "metadata": {
        "id": "4exA9e0ZGwSl"
      },
      "execution_count": 1,
      "outputs": []
    },
    {
      "cell_type": "code",
      "source": [
        "# teste 1\n",
        "compara_nome(\"VICTor\",\"Victor\")"
      ],
      "metadata": {
        "colab": {
          "base_uri": "https://localhost:8080/"
        },
        "id": "GEIpotk0Gx3I",
        "outputId": "4cb980e5-7373-450c-8c43-6717c8bae974"
      },
      "execution_count": 2,
      "outputs": [
        {
          "output_type": "stream",
          "name": "stdout",
          "text": [
            "True\n"
          ]
        }
      ]
    },
    {
      "cell_type": "code",
      "source": [
        "# teste 2\n",
        "compara_nome(\"Pedro\",\"João\")"
      ],
      "metadata": {
        "colab": {
          "base_uri": "https://localhost:8080/"
        },
        "id": "Ev9e2QLgGyUA",
        "outputId": "3b43df67-b183-43cc-d7b8-a7c708715c37"
      },
      "execution_count": 3,
      "outputs": [
        {
          "output_type": "stream",
          "name": "stdout",
          "text": [
            "False\n"
          ]
        }
      ]
    },
    {
      "cell_type": "markdown",
      "source": [
        "Tendo como input nome, sobrenome e nome completo, escreva duas funções que: a) identifiquem se o nome e sobrenome estão contidos no nome completo b) dado verdadeiro na anterior, retorne True se o nome completo está no formato de citação (sobrenome antes do nome) e False caso contrário."
      ],
      "metadata": {
        "id": "D4JeoH-QG_2V"
      }
    },
    {
      "cell_type": "code",
      "source": [
        "conferencia = lambda nome, sobrenome, nome_completo: nome in nome_completo and sobrenome in nome_completo"
      ],
      "metadata": {
        "id": "qoJmFbw0HAjd"
      },
      "execution_count": 18,
      "outputs": []
    },
    {
      "cell_type": "code",
      "source": [
        "eh_citacao = lambda nome, sobrenome, nome_completo: True if (conferencia(nome, sobrenome, nome_completo) == True and nome_completo.split()[0] == sobrenome) else False"
      ],
      "metadata": {
        "id": "5_BvJB3YJfJH"
      },
      "execution_count": 23,
      "outputs": []
    },
    {
      "cell_type": "code",
      "source": [
        "# teste 1 conferencia\n",
        "conferencia(\"Victor\", \"Abreu\", \"Victor Lovato de Abreu\")"
      ],
      "metadata": {
        "colab": {
          "base_uri": "https://localhost:8080/"
        },
        "id": "0AicM11wHCaj",
        "outputId": "995cfa85-8d5a-4ef2-e46f-eb31dd5b7653"
      },
      "execution_count": 24,
      "outputs": [
        {
          "output_type": "execute_result",
          "data": {
            "text/plain": [
              "True"
            ]
          },
          "metadata": {},
          "execution_count": 24
        }
      ]
    },
    {
      "cell_type": "code",
      "source": [
        "# teste 1 citacao\n",
        "eh_citacao(\"Victor\", \"Abreu\", \"Abreu Victor Lovato de\")"
      ],
      "metadata": {
        "colab": {
          "base_uri": "https://localhost:8080/"
        },
        "id": "TLjGZUkWHiYu",
        "outputId": "51488092-77ee-44e7-93e9-19bf930e1cfd"
      },
      "execution_count": 28,
      "outputs": [
        {
          "output_type": "execute_result",
          "data": {
            "text/plain": [
              "True"
            ]
          },
          "metadata": {},
          "execution_count": 28
        }
      ]
    },
    {
      "cell_type": "code",
      "source": [
        "# teste 2 conferencia\n",
        "conferencia(\"Victor\", \"Abril\", \"Victor Lovato de Abreu\")"
      ],
      "metadata": {
        "colab": {
          "base_uri": "https://localhost:8080/"
        },
        "id": "6nLqQ_m0HgRP",
        "outputId": "d9ce98c5-3107-4a2d-b3f8-bb650ce6dde0"
      },
      "execution_count": 26,
      "outputs": [
        {
          "output_type": "execute_result",
          "data": {
            "text/plain": [
              "False"
            ]
          },
          "metadata": {},
          "execution_count": 26
        }
      ]
    },
    {
      "cell_type": "code",
      "source": [
        "# teste 2 citacao\n",
        "eh_citacao(\"Victor\", \"Abreu\", \"Victor Lovato de Abreu\")"
      ],
      "metadata": {
        "colab": {
          "base_uri": "https://localhost:8080/"
        },
        "id": "EVIjtAWdHCQI",
        "outputId": "1a9ade86-67e1-426b-ddab-7504c6c36730"
      },
      "execution_count": 27,
      "outputs": [
        {
          "output_type": "execute_result",
          "data": {
            "text/plain": [
              "False"
            ]
          },
          "metadata": {},
          "execution_count": 27
        }
      ]
    },
    {
      "cell_type": "markdown",
      "source": [
        "\n",
        "\n",
        "---\n",
        "\n"
      ],
      "metadata": {
        "id": "HTY_bgSGJU9S"
      }
    },
    {
      "cell_type": "code",
      "execution_count": 32,
      "metadata": {
        "id": "fFhFteHV695k"
      },
      "outputs": [],
      "source": [
        "import numpy as np"
      ]
    },
    {
      "cell_type": "markdown",
      "metadata": {
        "id": "YLWEzg3N695m"
      },
      "source": [
        "### 1) Alturas  \n",
        "i. No trecho de código abaixo, crie um ndarray chamado ```altura_em_centimetros``` transformando a lista ```lista_de_alturas``` em um ndarray do numpy com a função ```np.array()```  \n",
        "ii. Crie um outro objeto ```altura_em_metros```, com os valores de ```altura_em_centimetros``` convertidos para metros."
      ]
    },
    {
      "cell_type": "code",
      "execution_count": 33,
      "metadata": {
        "id": "tx6DbJk7695o",
        "colab": {
          "base_uri": "https://localhost:8080/"
        },
        "outputId": "d297082a-2b8d-4c86-d9cf-fa6f24123904"
      },
      "outputs": [
        {
          "output_type": "execute_result",
          "data": {
            "text/plain": [
              "[170, 175, 180, 185]"
            ]
          },
          "metadata": {},
          "execution_count": 33
        }
      ],
      "source": [
        "lista_de_alturas = list(range(170, 190, 5))\n",
        "lista_de_alturas"
      ]
    },
    {
      "cell_type": "code",
      "execution_count": 34,
      "metadata": {
        "id": "-tXC4lyT695o",
        "colab": {
          "base_uri": "https://localhost:8080/"
        },
        "outputId": "629fa113-47df-41e8-e755-8a1683bf8611"
      },
      "outputs": [
        {
          "output_type": "execute_result",
          "data": {
            "text/plain": [
              "array([170, 175, 180, 185])"
            ]
          },
          "metadata": {},
          "execution_count": 34
        }
      ],
      "source": [
        "altura_em_centimetros = np.array(lista_de_alturas)\n",
        "\n",
        "altura_em_centimetros"
      ]
    },
    {
      "cell_type": "code",
      "execution_count": 35,
      "metadata": {
        "id": "zFDQt9_K695p",
        "colab": {
          "base_uri": "https://localhost:8080/"
        },
        "outputId": "e114c512-2156-4693-a2b6-d9b94abd7eb3"
      },
      "outputs": [
        {
          "output_type": "execute_result",
          "data": {
            "text/plain": [
              "array([1.7 , 1.75, 1.8 , 1.85])"
            ]
          },
          "metadata": {},
          "execution_count": 35
        }
      ],
      "source": [
        "altura_em_metros = altura_em_centimetros / 100\n",
        "\n",
        "altura_em_metros "
      ]
    },
    {
      "cell_type": "markdown",
      "metadata": {
        "id": "hlsDzubv695p"
      },
      "source": [
        "### 2) IMC  \n",
        "i. Considere que pesos em kg dessas pessoas, na mesma ordem, estão na lista pesos ```lista_pesos = [70, 75, 80, 85]```. Crie um **ndarray** chamado ```pesos``` com a função ```np.array()``` que contenha esses valores.  \n",
        "ii. Utilizando o objeto que contém as alturas em metros e esse objeto que contém os respectivos pesos em quilos, calcule o IMC desses indivíduos utilizando a aritmética de arrays e guarde os resultados em um objeto chamado ```imc```."
      ]
    },
    {
      "cell_type": "code",
      "execution_count": 39,
      "metadata": {
        "id": "YL87C0It695p",
        "outputId": "3599a31a-5bb4-4134-b002-617977235dd8",
        "colab": {
          "base_uri": "https://localhost:8080/"
        }
      },
      "outputs": [
        {
          "output_type": "execute_result",
          "data": {
            "text/plain": [
              "array([70, 75, 80, 85])"
            ]
          },
          "metadata": {},
          "execution_count": 39
        }
      ],
      "source": [
        "lista_pesos = [70, 75, 80, 85]\n",
        "lista_pesos\n",
        "\n",
        "pesos = np.array(lista_pesos)\n",
        "pesos"
      ]
    },
    {
      "cell_type": "code",
      "execution_count": 43,
      "metadata": {
        "id": "WgZtY2Ox695q",
        "colab": {
          "base_uri": "https://localhost:8080/"
        },
        "outputId": "1e226c02-3e77-43e0-bb88-5a8bda4b835d"
      },
      "outputs": [
        {
          "output_type": "execute_result",
          "data": {
            "text/plain": [
              "array([24.22145329, 24.48979592, 24.69135802, 24.83564646])"
            ]
          },
          "metadata": {},
          "execution_count": 43
        }
      ],
      "source": [
        "imc = pesos / altura_em_metros ** 2\n",
        "imc"
      ]
    },
    {
      "cell_type": "markdown",
      "metadata": {
        "id": "k1JIBxZb695r"
      },
      "source": [
        "### 3) Endividamento\n",
        "\n",
        "Cálculos de novas variáveis como endividamento total e comprometimento de renda são essenciais para a construção de modelos financeiros em ciência de dados. Áreas não financeiras terão cálculos semelhantes também. Vamos praticar:\n",
        "\n",
        "Considere que o seguinte ndarray contém os dados de 4 pessoas, total a ser pago a empréstimos mensalmente e renda familiar:\n",
        "\n",
        "| custo fixo | dívida financeira | renda familiar |\n",
        "|:----:|:----:|:---|\n",
        "| 3000  | 1000 | 6000 |\n",
        "| 2500  | 2500 | 5500 |\n",
        "| 1000  | 3000 | 7000 |\n",
        "| 10000 | 5000 | 16000 |\n",
        "\n",
        "i. Transforme a lista de listas ```dados_financeiros``` no ndarray ```nd_financeiros```.\n",
        "> ``` dados_financeiros[[3000, 2500, 1000, 10000],[1000, 2500, 3000, 5000],[6000, 5500, 7000, 16000]] ```\n",
        "\n",
        "ii. Utilize o método ```.transpose ``` e certifique-se de que esse ndarray tenha uma linha por indivíduo e uma coluna por informação. Utilizando a indexação do numpy, imprima no output a segunda linha do array, depois a segunda coluna.\n",
        "\n",
        "iii. Pratique aritmética com nearrays e calcule o endividamento total como:\n",
        "$$endividamento\\hspace{.2cm}total = \\frac{custo \\hspace{.2cm}fixo + dívida\\hspace{.2cm}financeira}{renda\\hspace{.2cm}familiar}$$\n",
        "Guarde os resultados em uma variável chamada ```endividamento_total``` e verifique os resultados imprimindo o conteúdo dessa variável no output.\n",
        "\n",
        "iv. Considere que há um erro de digitação que precisa ser corrigido: 3o indivíduo na verdade não possui renda familiar de R\\\\$7.000,00, mas sim R\\\\$ 10.000,00. Corrija esse valor e refaça os cálculos."
      ]
    },
    {
      "cell_type": "code",
      "execution_count": 51,
      "metadata": {
        "id": "k17jw6kT695r",
        "colab": {
          "base_uri": "https://localhost:8080/"
        },
        "outputId": "198a7a7a-d8ab-497d-c7c8-b276f48b1a65"
      },
      "outputs": [
        {
          "output_type": "execute_result",
          "data": {
            "text/plain": [
              "array([[ 3000,  2500,  1000, 10000],\n",
              "       [ 1000,  2500,  3000,  5000],\n",
              "       [ 6000,  5500,  7000, 16000]])"
            ]
          },
          "metadata": {},
          "execution_count": 51
        }
      ],
      "source": [
        "# lista dados_financeiros\n",
        "dados_financeiros = [[3000, 2500, 1000, 10000],[1000, 2500, 3000, 5000],[6000, 5500, 7000, 16000]]\n",
        "dados_financeiros\n",
        "\n",
        "nd_financeiros = np.array(dados_financeiros)\n",
        "nd_financeiros"
      ]
    },
    {
      "cell_type": "code",
      "execution_count": 59,
      "metadata": {
        "id": "ecRsPjml695r",
        "colab": {
          "base_uri": "https://localhost:8080/"
        },
        "outputId": "724735a9-b3bd-4f19-9f3e-a1983bd1d82a"
      },
      "outputs": [
        {
          "output_type": "stream",
          "name": "stdout",
          "text": [
            "[1000 2500 3000 5000]\n",
            "[2500 2500 5500]\n"
          ]
        }
      ],
      "source": [
        "nd_financeiros.transpose\n",
        "print(nd_financeiros[1]) # impressão da segunda linha\n",
        "print(nd_financeiros[:, 1]) # impressão da segunda coluna"
      ]
    },
    {
      "cell_type": "code",
      "execution_count": 61,
      "metadata": {
        "id": "RgMG-t9-695s",
        "colab": {
          "base_uri": "https://localhost:8080/"
        },
        "outputId": "778fd82a-17a5-41ed-c281-5497c1cf360c"
      },
      "outputs": [
        {
          "output_type": "execute_result",
          "data": {
            "text/plain": [
              "array([0.66666667, 0.90909091, 0.57142857, 0.9375    ])"
            ]
          },
          "metadata": {},
          "execution_count": 61
        }
      ],
      "source": [
        "endividamento_total = (nd_financeiros[0] + nd_financeiros[1]) / nd_financeiros[2]\n",
        "endividamento_total"
      ]
    },
    {
      "cell_type": "code",
      "execution_count": 63,
      "metadata": {
        "id": "FxaSHRgy695t",
        "colab": {
          "base_uri": "https://localhost:8080/"
        },
        "outputId": "0352e94d-27fa-4624-cac6-51f6f20a9099"
      },
      "outputs": [
        {
          "output_type": "execute_result",
          "data": {
            "text/plain": [
              "array([0.66666667, 0.90909091, 0.4       , 0.9375    ])"
            ]
          },
          "metadata": {},
          "execution_count": 63
        }
      ],
      "source": [
        "nd_financeiros[2, 2] = 10000\n",
        "\n",
        "endividamento_total = (nd_financeiros[0] + nd_financeiros[1]) / nd_financeiros[2]\n",
        "endividamento_total"
      ]
    },
    {
      "cell_type": "markdown",
      "metadata": {
        "id": "RghMgSOX695t"
      },
      "source": [
        "### 4) É muito comum precisarmos identificar valores especiais e darmos tratamento a eles quer seja alterando-os quer seja descartando-os. \n",
        "\n",
        "O trecho de código abaixo gera um ndarray com números pseudo aleatórios. Considere que para efeitos do estudo que virá, devemos desconsiderar valores iguais a zero. Sendo assim:\n",
        "\n",
        "i) crie um objeto ```bool_zero``` que traga uma sequencia de booleanos do mesmo tamanho que o objeto poi, e que vale ```True``` quando o valor de ```poi``` é zero, e ```False``` caso contrário.\n",
        "\n",
        "ii) Conte quantos valores zero existem. Lembre-se de que no final das contas, ```True``` vale 1 para o Python, e ```False``` vale zero, então uma boa dica seria usar a função ```sum()```.\n",
        "\n",
        "iii) Utilize a indexação booleana que você aprendeu para criar uma variável ```poi_nao_zero``` que aponta para os elementos de ```poi``` diferentes de zero. Dica: você vai pode inverter os elementos do objeto que criou em *ii)* ou escrever a comparação adequada."
      ]
    },
    {
      "cell_type": "code",
      "execution_count": 67,
      "metadata": {
        "id": "Y6JUhNiT695t",
        "outputId": "fe085e59-afb7-474c-f8af-77ec0cfb0e95",
        "colab": {
          "base_uri": "https://localhost:8080/"
        }
      },
      "outputs": [
        {
          "output_type": "execute_result",
          "data": {
            "text/plain": [
              "array([3, 3, 6, 2, 4, 5, 4, 4, 2, 0, 3, 3, 2, 8, 2, 3, 3, 3, 0, 4, 4, 2,\n",
              "       6, 6, 0, 3, 4, 3, 5, 2, 1, 3, 2, 2, 3, 2, 4, 4, 5, 7, 3, 5, 3, 3,\n",
              "       2, 2, 3, 6, 2, 2, 4, 3, 5, 2, 5, 3, 0, 2, 1, 1, 4, 4, 4, 6, 2, 4,\n",
              "       1, 2, 5, 5, 3, 4, 1, 4, 1, 1, 7, 1, 2, 1, 3, 7, 0, 4, 4, 0, 6, 1,\n",
              "       3, 4, 2, 5, 4, 5, 5, 3, 4, 6, 8, 2])"
            ]
          },
          "metadata": {},
          "execution_count": 67
        }
      ],
      "source": [
        "# objeto poi - obs: o comando np.random.seed(1234) garante que o mesmo resultado será gerado sempre\n",
        "np.random.seed(1234)\n",
        "poi = np.random.poisson(3, 100)\n",
        "poi"
      ]
    },
    {
      "cell_type": "code",
      "execution_count": 68,
      "metadata": {
        "id": "dWElD2MJ695u",
        "colab": {
          "base_uri": "https://localhost:8080/"
        },
        "outputId": "e2f0cdf6-ab31-49b8-bef9-57902a8c0227"
      },
      "outputs": [
        {
          "output_type": "execute_result",
          "data": {
            "text/plain": [
              "array([False, False, False, False, False, False, False, False, False,\n",
              "        True, False, False, False, False, False, False, False, False,\n",
              "        True, False, False, False, False, False,  True, False, False,\n",
              "       False, False, False, False, False, False, False, False, False,\n",
              "       False, False, False, False, False, False, False, False, False,\n",
              "       False, False, False, False, False, False, False, False, False,\n",
              "       False, False,  True, False, False, False, False, False, False,\n",
              "       False, False, False, False, False, False, False, False, False,\n",
              "       False, False, False, False, False, False, False, False, False,\n",
              "       False,  True, False, False,  True, False, False, False, False,\n",
              "       False, False, False, False, False, False, False, False, False,\n",
              "       False])"
            ]
          },
          "metadata": {},
          "execution_count": 68
        }
      ],
      "source": [
        "bool_zero = np.where(poi == 0, True, False)\n",
        "\n",
        "bool_zero"
      ]
    },
    {
      "cell_type": "code",
      "execution_count": 69,
      "metadata": {
        "id": "hr-knXzs695u",
        "colab": {
          "base_uri": "https://localhost:8080/"
        },
        "outputId": "69bb894c-12fd-43d0-e993-084898a88a3a"
      },
      "outputs": [
        {
          "output_type": "execute_result",
          "data": {
            "text/plain": [
              "6"
            ]
          },
          "metadata": {},
          "execution_count": 69
        }
      ],
      "source": [
        "qtd_zeros = bool_zero.sum()\n",
        "qtd_zeros"
      ]
    },
    {
      "cell_type": "code",
      "execution_count": 70,
      "metadata": {
        "id": "5s3DqCup695u",
        "colab": {
          "base_uri": "https://localhost:8080/"
        },
        "outputId": "9368dfe5-83a4-46ff-ccd6-0029cefb317b"
      },
      "outputs": [
        {
          "output_type": "execute_result",
          "data": {
            "text/plain": [
              "array([ True,  True,  True,  True,  True,  True,  True,  True,  True,\n",
              "       False,  True,  True,  True,  True,  True,  True,  True,  True,\n",
              "       False,  True,  True,  True,  True,  True, False,  True,  True,\n",
              "        True,  True,  True,  True,  True,  True,  True,  True,  True,\n",
              "        True,  True,  True,  True,  True,  True,  True,  True,  True,\n",
              "        True,  True,  True,  True,  True,  True,  True,  True,  True,\n",
              "        True,  True, False,  True,  True,  True,  True,  True,  True,\n",
              "        True,  True,  True,  True,  True,  True,  True,  True,  True,\n",
              "        True,  True,  True,  True,  True,  True,  True,  True,  True,\n",
              "        True, False,  True,  True, False,  True,  True,  True,  True,\n",
              "        True,  True,  True,  True,  True,  True,  True,  True,  True,\n",
              "        True])"
            ]
          },
          "metadata": {},
          "execution_count": 70
        }
      ],
      "source": [
        "poi_nao_zero = np.where(poi == 0, False, True)\n",
        "\n",
        "poi_nao_zero"
      ]
    }
  ],
  "metadata": {
    "kernelspec": {
      "display_name": "Python 3",
      "language": "python",
      "name": "python3"
    },
    "language_info": {
      "codemirror_mode": {
        "name": "ipython",
        "version": 3
      },
      "file_extension": ".py",
      "mimetype": "text/x-python",
      "name": "python",
      "nbconvert_exporter": "python",
      "pygments_lexer": "ipython3",
      "version": "3.8.5"
    },
    "colab": {
      "provenance": []
    }
  },
  "nbformat": 4,
  "nbformat_minor": 0
}