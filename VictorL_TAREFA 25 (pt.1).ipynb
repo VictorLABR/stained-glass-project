{
 "cells": [
  {
   "cell_type": "markdown",
   "metadata": {},
   "source": [
    "# Cálculo - Tarefa 01\n",
    "\n",
    "1. Marque quais desses métodos/algoritmos muito populares em Ciência de Dados são baseados no uso de *derivada*:\n",
    "\n",
    "    1. **Método Mínimos Quadrados** [SIM]\n",
    "> Para encontrar os parâmetros que minimizam a soma entre os valores observados e os valores previstos pelo modelo, é utilizado Cálculo Diferencial.\n",
    "    2. **Gradiente descendente** [SIM]\n",
    "> Algoritmo de otimização que utiliza derivadas para encontrar o mínimo de uma função. Ele ajusta iterativamente os parâmetros na direção oposta ao gradiente. A própria terminologia \"gradiente\" entrega a resposta; uma vez que é também uma função amplamente conhecida, com inúmeras aplicações tecnológicas.\n",
    "    3. **Newton-Raphson** [SIM]\n",
    "> É uma técnica iterativa que utiliza derivadas para encontrar raízes de funções. Também muito conhecida no âmbito de Calculo Numérico.\n",
    "    4. CART (Árvore de decisão) **[NÃO]**\n",
    "> Elas fazem divisões nos dados com base em critérios como ganho de informação ou índice Gini, mas não envolvem derivadas.\n",
    "\n",
    "2. Dada uma base de dados com uma variável resposta $y$ e um conjunto de variáveis explicativas. Considere uma estrutura de um modelo de regressão. Explique com suas palavras por que não é possível obter parâmetros que forneçam um erro quadrático médio (EQM) menor que o obtido com estimadores de mínimos quadrados (MMQ).\n",
    "\n",
    "> Essa é simples, ainda mais devido a minha formação inicial ser a bela matemática: ***a média nunca é menor que o mínimo valor que a compõe,*** quando estamos tratando de números inteiros positivos (n > 0).\n",
    "> \n",
    "> Como n é o número de obersações (estimativas) do modelo, sempre será estritamente maior que zero, o que fornece Tese à Hitótese de que EQM >= MMQ, para todos os valores de n.\n",
    "> \n",
    "> Mesmo que a média seja feita em valores iguais, ela nunca será menor que o próprio valor, no melhor dos casos, será igual a ele. Como EQM é calculado usando os Resíduos do Modelo, ou seja, exatamente o que o MMQ busca minimizar; o valor de MMQ sempre será o menor valor que compõe o cálculo de média do EQM."
   ]
  }
 ],
 "metadata": {
  "kernelspec": {
   "display_name": "Python 3 (ipykernel)",
   "language": "python",
   "name": "python3"
  },
  "language_info": {
   "codemirror_mode": {
    "name": "ipython",
    "version": 3
   },
   "file_extension": ".py",
   "mimetype": "text/x-python",
   "name": "python",
   "nbconvert_exporter": "python",
   "pygments_lexer": "ipython3",
   "version": "3.9.13"
  },
  "toc": {
   "base_numbering": 1,
   "nav_menu": {},
   "number_sections": true,
   "sideBar": true,
   "skip_h1_title": true,
   "title_cell": "Índice",
   "title_sidebar": "Conteúdo",
   "toc_cell": false,
   "toc_position": {},
   "toc_section_display": true,
   "toc_window_display": false
  },
  "varInspector": {
   "cols": {
    "lenName": 16,
    "lenType": 16,
    "lenVar": 40
   },
   "kernels_config": {
    "python": {
     "delete_cmd_postfix": "",
     "delete_cmd_prefix": "del ",
     "library": "var_list.py",
     "varRefreshCmd": "print(var_dic_list())"
    },
    "r": {
     "delete_cmd_postfix": ") ",
     "delete_cmd_prefix": "rm(",
     "library": "var_list.r",
     "varRefreshCmd": "cat(var_dic_list()) "
    }
   },
   "types_to_exclude": [
    "module",
    "function",
    "builtin_function_or_method",
    "instance",
    "_Feature"
   ],
   "window_display": false
  }
 },
 "nbformat": 4,
 "nbformat_minor": 4
}
