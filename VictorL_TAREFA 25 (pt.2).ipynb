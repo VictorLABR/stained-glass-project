{
 "cells": [
  {
   "cell_type": "markdown",
   "metadata": {},
   "source": [
    "# Cálculo - Tarefa 02\n",
    "\n",
    "1- Calcule de forma numérica a integral da função $x^3$ avaliada entre os pontos $1$ e $2$. Identifique o número de retângulos que você usou.  "
   ]
  },
  {
   "cell_type": "code",
   "execution_count": 1,
   "metadata": {},
   "outputs": [
    {
     "name": "stdout",
     "output_type": "stream",
     "text": [
      "-> Resultado numérico: 3.7499996242488765 ua\n",
      "-> Utilizando: 1000 retângulos\n"
     ]
    }
   ],
   "source": [
    "import numpy as np\n",
    "\n",
    "def calcula_area(a, b, func, frame_num):\n",
    "    num_bins = frame_num-1\n",
    "    delta = (b - a)/num_bins\n",
    "    x_cols = np.linspace(a, b - delta, num_bins)+ delta / 2\n",
    "    y_cols = f(x_cols)\n",
    "    return sum(delta * y_cols)\n",
    "\n",
    "def f(x):\n",
    "    return x ** 3\n",
    "\n",
    "a = 1\n",
    "b = 2\n",
    "retangulos = 1000\n",
    "\n",
    "resultado = calcula_area(a, b, f, retangulos)\n",
    "print(f\"-> Resultado numérico: {resultado} ua\\n-> Utilizando: {retangulos} retângulos\")"
   ]
  },
  {
   "cell_type": "markdown",
   "metadata": {},
   "source": [
    "2- Calcule essa área de forma analítica.\n",
    "\n",
    "A integral definida de f(x)=x³, entre 1 a 2, é dada por:\n",
    "\n",
    "$$\\int_{a}^{b} f(x) \\,dx = \\int_{1}^{2} x^3 \\,dx$$\n",
    "\n",
    "A Regra de Potência nos diz que a integral de $$x^n$$\n",
    "\n",
    "Em relação a x é a sua Antiderivada: $$F(x) = \\frac{x^{n+1}}{n+1}$$ Aplicando isso à integral, temos:\n",
    "\n",
    "$$\\int_{1}^{2} x^3 \\,dx = \\frac{x^{3+1}}{3+1} \\Big|_{1}^{2} = \\frac{x^4}{4} \\Big|_{1}^{2} = F(b) - F(a) = \\left( \\frac{b^4}{4} \\right) - \\left( \\frac{a^4}{4} \\right)$$\n",
    "\n",
    "Substituindo os limites de integração:\n",
    "\n",
    "$$\\left( \\frac{2^4}{4} \\right) - \\left( \\frac{1^4}{4} \\right) = \\frac{16}{4} - \\frac{1}{4} = 4 - \\frac{1}{4} = \\frac{15}{4}$$\n",
    "\n",
    "Portanto, a resposta é: $$\\\\frac{15}{4}\\$$."
   ]
  }
 ],
 "metadata": {
  "kernelspec": {
   "display_name": "Python 3 (ipykernel)",
   "language": "python",
   "name": "python3"
  },
  "language_info": {
   "codemirror_mode": {
    "name": "ipython",
    "version": 3
   },
   "file_extension": ".py",
   "mimetype": "text/x-python",
   "name": "python",
   "nbconvert_exporter": "python",
   "pygments_lexer": "ipython3",
   "version": "3.9.13"
  },
  "toc": {
   "base_numbering": 1,
   "nav_menu": {},
   "number_sections": true,
   "sideBar": true,
   "skip_h1_title": true,
   "title_cell": "Índice",
   "title_sidebar": "Conteúdo",
   "toc_cell": false,
   "toc_position": {},
   "toc_section_display": true,
   "toc_window_display": false
  },
  "varInspector": {
   "cols": {
    "lenName": 16,
    "lenType": 16,
    "lenVar": 40
   },
   "kernels_config": {
    "python": {
     "delete_cmd_postfix": "",
     "delete_cmd_prefix": "del ",
     "library": "var_list.py",
     "varRefreshCmd": "print(var_dic_list())"
    },
    "r": {
     "delete_cmd_postfix": ") ",
     "delete_cmd_prefix": "rm(",
     "library": "var_list.r",
     "varRefreshCmd": "cat(var_dic_list()) "
    }
   },
   "types_to_exclude": [
    "module",
    "function",
    "builtin_function_or_method",
    "instance",
    "_Feature"
   ],
   "window_display": false
  }
 },
 "nbformat": 4,
 "nbformat_minor": 4
}
