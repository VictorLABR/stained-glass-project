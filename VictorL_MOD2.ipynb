{
  "cells": [
    {
      "cell_type": "markdown",
      "source": [
        "Exercício 1.1: Crie uma lista chamada **filmes** com o nome dos **dez** primeiros filmes mais bem avaliados no site no *IMDB*. **Imprima o resultado**."
      ],
      "metadata": {
        "id": "Sy2wYqXTMEM1"
      }
    },
    {
      "cell_type": "code",
      "source": [
        "filmes=list()\n",
        "\n",
        "filmes.append('1º Um Sonho de Liberdade - 1994')\n",
        "filmes.append('2º O Poderoso Chefão - 1972')\n",
        "filmes.append('3º Batman: O Cavaleiro das Trevas - 2008')\n",
        "filmes.append('4º O Poderoso Chefão II - 1974')\n",
        "filmes.append('5º 12 Homens e uma Sentença - 1957')\n",
        "filmes.append('6º A Lista de Schindler - 1993')\n",
        "filmes.append('7º O Senhor dos Aneis: Retorno do Rei - 2003')\n",
        "filmes.append('8º Pulp Fiction: Tempo de Violência - 1994')\n",
        "filmes.append('9º O Senhor dos Anéis: A Sociedade do Anel - 2001')\n",
        "filmes.append('10º Três Homens em Conflito - 1966')\n",
        "\n",
        "print(filmes)\n",
        "print(type(filmes))"
      ],
      "metadata": {
        "id": "N46UxNkMMBIf",
        "outputId": "fa17f9a1-7721-4519-c906-d813ac6ab957",
        "colab": {
          "base_uri": "https://localhost:8080/"
        }
      },
      "execution_count": 1,
      "outputs": [
        {
          "output_type": "stream",
          "name": "stdout",
          "text": [
            "['1º Um Sonho de Liberdade - 1994', '2º O Poderoso Chefão - 1972', '3º Batman: O Cavaleiro das Trevas - 2008', '4º O Poderoso Chefão II - 1974', '5º 12 Homens e uma Sentença - 1957', '6º A Lista de Schindler - 1993', '7º O Senhor dos Aneis: Retorno do Rei - 2003', '8º Pulp Fiction: Tempo de Violência - 1994', '9º O Senhor dos Anéis: A Sociedade do Anel - 2001', '10º Três Homens em Conflito - 1966']\n",
            "<class 'list'>\n"
          ]
        }
      ]
    },
    {
      "cell_type": "markdown",
      "source": [
        "Exercício 1.2: Simule a movimentação do ranking. Utilize os métodos **insert** e **pop** para trocar a posição do **primeiro** e do **segundo** filme da lista. **Imprima o resultado**."
      ],
      "metadata": {
        "id": "5y75XlmfO-xn"
      }
    },
    {
      "cell_type": "code",
      "source": [
        "filmes.pop(0)\n",
        "filmes.pop(0)\n",
        "\n",
        "filmes.insert(0,'1º O Poderoso Chefão - 1972')\n",
        "filmes.insert(1,'2º Um Sonho de Liberdade - 1994')\n",
        "\n",
        "print(filmes)\n",
        "print(type(filmes))"
      ],
      "metadata": {
        "id": "6bg7MdipPMDW",
        "outputId": "060ea4e8-2863-4f07-b21d-9f87ebf35a21",
        "colab": {
          "base_uri": "https://localhost:8080/"
        }
      },
      "execution_count": 2,
      "outputs": [
        {
          "output_type": "stream",
          "name": "stdout",
          "text": [
            "['1º O Poderoso Chefão - 1972', '2º Um Sonho de Liberdade - 1994', '3º Batman: O Cavaleiro das Trevas - 2008', '4º O Poderoso Chefão II - 1974', '5º 12 Homens e uma Sentença - 1957', '6º A Lista de Schindler - 1993', '7º O Senhor dos Aneis: Retorno do Rei - 2003', '8º Pulp Fiction: Tempo de Violência - 1994', '9º O Senhor dos Anéis: A Sociedade do Anel - 2001', '10º Três Homens em Conflito - 1966']\n",
            "<class 'list'>\n"
          ]
        }
      ]
    },
    {
      "cell_type": "markdown",
      "source": [
        "Exercício 2.1: Aconteceu um erro no seu ranking. Simule a **duplicação** dos **três últimos** filmes da lista. **Imprima o resultado**"
      ],
      "metadata": {
        "id": "-bu9rGHcQX1k"
      }
    },
    {
      "cell_type": "code",
      "source": [
        "filmes.append('8º Pulp Fiction: Tempo de Violência - 1994')\n",
        "filmes.append('9º O Senhor dos Anéis: A Sociedade do Anel - 2001')\n",
        "filmes.append('10º Três Homens em Conflito - 1966')\n",
        "\n",
        "print(filmes)\n",
        "print(len(filmes))\n",
        "print(type(filmes))"
      ],
      "metadata": {
        "id": "wPy4rv94Qp0W",
        "colab": {
          "base_uri": "https://localhost:8080/"
        },
        "outputId": "3cbc140e-9548-4504-e8a3-42db16fcea5e"
      },
      "execution_count": 3,
      "outputs": [
        {
          "output_type": "stream",
          "name": "stdout",
          "text": [
            "['1º O Poderoso Chefão - 1972', '2º Um Sonho de Liberdade - 1994', '3º Batman: O Cavaleiro das Trevas - 2008', '4º O Poderoso Chefão II - 1974', '5º 12 Homens e uma Sentença - 1957', '6º A Lista de Schindler - 1993', '7º O Senhor dos Aneis: Retorno do Rei - 2003', '8º Pulp Fiction: Tempo de Violência - 1994', '9º O Senhor dos Anéis: A Sociedade do Anel - 2001', '10º Três Homens em Conflito - 1966', '8º Pulp Fiction: Tempo de Violência - 1994', '9º O Senhor dos Anéis: A Sociedade do Anel - 2001', '10º Três Homens em Conflito - 1966']\n",
            "13\n",
            "<class 'list'>\n"
          ]
        }
      ]
    },
    {
      "cell_type": "markdown",
      "source": [
        "Exercício 2.2: Utiliza a conversão *set* e *list* para **remover** os valores duplicados. **Imprima o resultado**. "
      ],
      "metadata": {
        "id": "fLsBAq71QqJF"
      }
    },
    {
      "cell_type": "code",
      "source": [
        "filmes=set(filmes)\n",
        "\n",
        "print(list(filmes))\n",
        "print(len(filmes))\n",
        "print(type(filmes))"
      ],
      "metadata": {
        "id": "v0cZYOKHQwFv",
        "colab": {
          "base_uri": "https://localhost:8080/"
        },
        "outputId": "943a3fbf-bc2e-4846-9345-c43ead993e37"
      },
      "execution_count": 4,
      "outputs": [
        {
          "output_type": "stream",
          "name": "stdout",
          "text": [
            "['10º Três Homens em Conflito - 1966', '4º O Poderoso Chefão II - 1974', '9º O Senhor dos Anéis: A Sociedade do Anel - 2001', '8º Pulp Fiction: Tempo de Violência - 1994', '7º O Senhor dos Aneis: Retorno do Rei - 2003', '3º Batman: O Cavaleiro das Trevas - 2008', '2º Um Sonho de Liberdade - 1994', '6º A Lista de Schindler - 1993', '1º O Poderoso Chefão - 1972', '5º 12 Homens e uma Sentença - 1957']\n",
            "10\n",
            "<class 'set'>\n"
          ]
        }
      ]
    },
    {
      "cell_type": "markdown",
      "source": [
        "Exercício 3: Repita os exercícios de Listas. Os elementos da lista filmes devem ser **dicionários** no seguinte formato: {'nome': <nome-do-filme>, 'ano': <ano do filme>,'sinopse': <sinopse do filme>} ."
      ],
      "metadata": {
        "id": "yEaOZI49QyIu"
      }
    },
    {
      "cell_type": "code",
      "source": [
        "filmes= dict(\n",
        "    nome='Um Sonho de Liberdade,O Poderoso Chefão,Batman: O Cavaleiro das Trevas,O Poderoso Chefão II,12 Homens e uma Sentença, A Lista de Schindler,O Senhor dos Aneis: Retorno do Rei,Pulp Fiction: Tempo de Violência,O Senhor dos Anéis: A Sociedade do Anel,Três Homens em Conflito',\n",
        "    ano='1994,1972,2008,1974,1957,1993,2003,1994,2011,1966',\n",
        "    sinopse='Dois homens presos se reúnem ao longo de vários anos encontrando consolo e eventual redenção através de atos de decência comum.,O patriarca idoso de uma dinastia do crime organizado transfere o controle de seu império clandestino para seu filho relutante.,Quando a ameaça conhecida como O Coringa surge de seu passado causa estragos e caos nas pessoas de Gotham. O Cavaleiro das Trevas deve aceitar um dos maiores testes para combater a injustiça.,Em 1950 Michael Corleone agora à frente da família tenta expandir o negócio do crime a Las Vegas Los Angeles e Cuba. Paralelamente é revelada a história de Vito Corleone e de como saiu da Sicília e chegou a Nova Iorque.,Um jurado que se aposenta tenta evitar um erro judicial forçando seus colegas a reconsiderarem as evidências.,Depois de testemunhar a perseguição dos judaicos na Polônia ocupada pelos alemães durante a Segunda Guerra Mundial o industrial Oskar Schindler se começa a preocupar com sua força de trabalho judaica.,Gandalf e Aragorn lideram o Mundo dos Homens contra o exército de Sauron para desviar o olhar de Frodo e Sam quando eles se aproximam á Montanha da Perdição com o Um Anel.,As vidas de dois assassinos da máfia um boxeador um gângster e sua esposa e um par de bandidos se entrelaçam em quatro histórias de violência e redenção.,Um manso hobbit do Condado e oito companheiros partem em uma jornada para destruir o poderoso Um Anel e salvar a Terra-média das Trevas.,Um impostor se junta com dois homens para encontrar fortuna num remoto cemitério.',\n",
        "    posicao_apos_movimentacao='1º,2º,3º,4º,5º,6º,7º,8º,9º,10º'\n",
        "    )\n",
        "\n",
        "print(filmes)\n",
        "print(type(filmes))"
      ],
      "metadata": {
        "id": "a_7pFIomRLlF",
        "colab": {
          "base_uri": "https://localhost:8080/"
        },
        "outputId": "8cc3a61d-6539-48b7-9bd1-00b7014f0026"
      },
      "execution_count": 5,
      "outputs": [
        {
          "output_type": "stream",
          "name": "stdout",
          "text": [
            "{'nome': 'Um Sonho de Liberdade,O Poderoso Chefão,Batman: O Cavaleiro das Trevas,O Poderoso Chefão II,12 Homens e uma Sentença, A Lista de Schindler,O Senhor dos Aneis: Retorno do Rei,Pulp Fiction: Tempo de Violência,O Senhor dos Anéis: A Sociedade do Anel,Três Homens em Conflito', 'ano': '1994,1972,2008,1974,1957,1993,2003,1994,2011,1966', 'sinopse': 'Dois homens presos se reúnem ao longo de vários anos encontrando consolo e eventual redenção através de atos de decência comum.,O patriarca idoso de uma dinastia do crime organizado transfere o controle de seu império clandestino para seu filho relutante.,Quando a ameaça conhecida como O Coringa surge de seu passado causa estragos e caos nas pessoas de Gotham. O Cavaleiro das Trevas deve aceitar um dos maiores testes para combater a injustiça.,Em 1950 Michael Corleone agora à frente da família tenta expandir o negócio do crime a Las Vegas Los Angeles e Cuba. Paralelamente é revelada a história de Vito Corleone e de como saiu da Sicília e chegou a Nova Iorque.,Um jurado que se aposenta tenta evitar um erro judicial forçando seus colegas a reconsiderarem as evidências.,Depois de testemunhar a perseguição dos judaicos na Polônia ocupada pelos alemães durante a Segunda Guerra Mundial o industrial Oskar Schindler se começa a preocupar com sua força de trabalho judaica.,Gandalf e Aragorn lideram o Mundo dos Homens contra o exército de Sauron para desviar o olhar de Frodo e Sam quando eles se aproximam á Montanha da Perdição com o Um Anel.,As vidas de dois assassinos da máfia um boxeador um gângster e sua esposa e um par de bandidos se entrelaçam em quatro histórias de violência e redenção.,Um manso hobbit do Condado e oito companheiros partem em uma jornada para destruir o poderoso Um Anel e salvar a Terra-média das Trevas.,Um impostor se junta com dois homens para encontrar fortuna num remoto cemitério.', 'posicao_apos_movimentacao': '1º,2º,3º,4º,5º,6º,7º,8º,9º,10º'}\n",
            "<class 'dict'>\n"
          ]
        }
      ]
    }
  ],
  "metadata": {
    "colab": {
      "provenance": []
    },
    "kernelspec": {
      "display_name": "Python 3",
      "name": "python3"
    }
  },
  "nbformat": 4,
  "nbformat_minor": 0
}