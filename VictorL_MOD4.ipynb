{
  "nbformat": 4,
  "nbformat_minor": 0,
  "metadata": {
    "colab": {
      "provenance": []
    },
    "kernelspec": {
      "name": "python3",
      "display_name": "Python 3"
    },
    "language_info": {
      "name": "python"
    }
  },
  "cells": [
    {
      "cell_type": "markdown",
      "source": [
        "Inicializando as bases de dados a serem trabalhadas."
      ],
      "metadata": {
        "id": "b6Qmn0AFOkvp"
      }
    },
    {
      "cell_type": "code",
      "execution_count": 1,
      "metadata": {
        "id": "xeAlB8fxORIB",
        "colab": {
          "base_uri": "https://localhost:8080/"
        },
        "outputId": "68dbf246-353e-4b5f-8da7-9f7adc0c21c8"
      },
      "outputs": [
        {
          "output_type": "stream",
          "name": "stdout",
          "text": [
            "Writing carros.csv\n"
          ]
        }
      ],
      "source": [
        "%%writefile carros.csv\n",
        "id,valor_venda,valor_manutencao,portas,pessoas,porta_malas\n",
        "1,vhigh,med,2,2,small\n",
        "2,med,vhigh,2,2,small\n",
        "3,low,vhigh,2,2,small\n",
        "3,low,vhigh,2,2,small\n",
        "4,low,high,2,2,small\n",
        "5,low,high,2,2,small\n",
        "6,low,high,4,4,big\n",
        "7,low,high,4,4,big\n",
        "8,low,med,2,2,small\n",
        "9,low,med,2,2,small\n",
        "10,low,med,2,2,small\n",
        "11,low,med,4,4,big\n",
        "12,low,low,2,2,small\n",
        "13,low,low,4,4,small\n",
        "14,low,low,4,4,med"
      ]
    },
    {
      "cell_type": "code",
      "source": [
        "%%writefile musica.txt\n",
        "Roda Viva\n",
        "Chico Buarque\n",
        "Tem dias que a gente se sente\n",
        "Como quem partiu ou morreu\n",
        "A gente estancou de repente\n",
        "Ou foi o mundo então que cresceu\n",
        "A gente quer ter voz ativa\n",
        "No nosso destino mandar\n",
        "Mas eis que chega a roda viva\n",
        "E carrega o destino pra lá\n",
        "Roda mundo, roda-gigante\n",
        "Roda moinho, roda pião\n",
        "O tempo rodou num instante\n",
        "Nas voltas do meu coração\n",
        "A gente vai contra a corrente\n",
        "Até não poder resistir\n",
        "Na volta do barco é que sente\n",
        "O quanto deixou de cumprir\n",
        "Faz tempo que a gente cultiva\n",
        "A mais linda roseira que há\n",
        "Mas eis que chega a roda viva\n",
        "E carrega a roseira pra lá\n",
        "Roda mundo, roda-gigante\n",
        "Roda moinho, roda pião"
      ],
      "metadata": {
        "colab": {
          "base_uri": "https://localhost:8080/"
        },
        "id": "8a-yvhixdf60",
        "outputId": "9464ba3e-061f-4f67-e8a3-9e3958f1faf4"
      },
      "execution_count": 2,
      "outputs": [
        {
          "output_type": "stream",
          "name": "stdout",
          "text": [
            "Writing musica.txt\n"
          ]
        }
      ]
    },
    {
      "cell_type": "markdown",
      "source": [
        "Exercício 1.1: **Extraia** os valores **valor_venda** e armazene-os em uma **lista**."
      ],
      "metadata": {
        "id": "SiuhN4vvdq10"
      }
    },
    {
      "cell_type": "code",
      "source": [
        "valor_venda = []\n",
        "\n",
        "with open(file='./carros.csv', mode='r', encoding='utf8') as fp:\n",
        "  linha= fp.readline()\n",
        "  linha= fp.readline()\n",
        "  while linha:\n",
        "    linha_separada= linha.split(sep=',')\n",
        "    linha_separada= linha_separada[1]\n",
        "    valor_venda.append(linha_separada)\n",
        "    linha= fp.readline()\n",
        "\n",
        "print(valor_venda)\n",
        "print(len(valor_venda))"
      ],
      "metadata": {
        "colab": {
          "base_uri": "https://localhost:8080/"
        },
        "id": "HWKXiULsdy_b",
        "outputId": "8c1e2464-9a9f-411a-c959-1c8d9f5e30aa"
      },
      "execution_count": 3,
      "outputs": [
        {
          "output_type": "stream",
          "name": "stdout",
          "text": [
            "['vhigh', 'med', 'low', 'low', 'low', 'low', 'low', 'low', 'low', 'low', 'low', 'low', 'low', 'low', 'low']\n",
            "15\n"
          ]
        }
      ]
    },
    {
      "cell_type": "markdown",
      "source": [
        "Exercício 1.2: **Complete** a função abaixo para **extrair uma coluna**, do arquivo .csv e armazene-a em uma **lista**."
      ],
      "metadata": {
        "id": "I-yKClTFgiRT"
      }
    },
    {
      "cell_type": "code",
      "source": [
        "def extrai_coluna_csv(nome_arquivo: str, indice_coluna: int) -> list:\n",
        " coluna = []\n",
        " with open(file=nome_arquivo, mode='r', encoding='utf8') as fp:\n",
        "   linha = fp.readline()\n",
        "   while len(linha):\n",
        "     linha = fp.readline()\n",
        "     linha_separada = linha.split(sep=',')\n",
        "     if indice_coluna >= len(linha_separada): # condição necessária se não a função falha ao percorrer toda a lista\n",
        "       break\n",
        "     linha = linha_separada[indice_coluna]\n",
        "     coluna.append(linha)\n",
        " return coluna"
      ],
      "metadata": {
        "id": "V_rOjd_zgwkq"
      },
      "execution_count": 4,
      "outputs": []
    },
    {
      "cell_type": "code",
      "source": [
        "# TESTE\n",
        "valor_manutencao = extrai_coluna_csv(nome_arquivo='./carros.csv', indice_coluna=2)\n",
        "print(valor_manutencao)\n",
        "print(len(valor_manutencao))"
      ],
      "metadata": {
        "colab": {
          "base_uri": "https://localhost:8080/"
        },
        "id": "vjlXCbg_lhMu",
        "outputId": "83ffb70b-d420-4f1f-bab1-66e361fa28e8"
      },
      "execution_count": 5,
      "outputs": [
        {
          "output_type": "stream",
          "name": "stdout",
          "text": [
            "['med', 'vhigh', 'vhigh', 'vhigh', 'high', 'high', 'high', 'high', 'med', 'med', 'med', 'med', 'low', 'low', 'low']\n",
            "15\n"
          ]
        }
      ]
    },
    {
      "cell_type": "markdown",
      "source": [
        "Exercício BÔNUS 1: **Complete** a função abaixo para **extrair uma coluna**, do arquivo .csv e armazene-a em uma **lista**. Os elementos devem ter o **tipo** de dado correto."
      ],
      "metadata": {
        "id": "6v4Y7hhi9i5i"
      }
    },
    {
      "cell_type": "code",
      "source": [
        "def extrai_coluna_csv(nome_arquivo: str, indice_coluna: int, tipo_dado: str) -> list:\n",
        " coluna = []\n",
        " with open(file=nome_arquivo, mode='r', encoding='utf8') as fp:\n",
        "   linha = fp.readline()\n",
        "   while len(linha):\n",
        "     linha = fp.readline()\n",
        "     linha_separada = linha.split(sep=',')\n",
        "     if indice_coluna >= len(linha_separada): # condição necessária se não a função falha ao percorrer toda a lista\n",
        "       break\n",
        "     linha = linha_separada[indice_coluna]\n",
        "     if tipo_dado == 'str': # tratamento dos tipos de dados, apenas entre str e int, pois são as classes pertencentes a lista\n",
        "       coluna.append(linha)\n",
        "     elif tipo_dado == 'int':\n",
        "       coluna.append(str(linha))\n",
        "     else:\n",
        "       print('A tabela contém apenas str ou int! Por favor, corrija o parâmetro!')\n",
        " return coluna"
      ],
      "metadata": {
        "id": "oE1yARet9yPC"
      },
      "execution_count": 6,
      "outputs": []
    },
    {
      "cell_type": "code",
      "source": [
        "# TESTE 1\n",
        "valor_venda = extrai_coluna_csv(nome_arquivo='./carros.csv', indice_coluna=1, tipo_dado='str')\n",
        "print(valor_venda)\n",
        "print(len(valor_venda))"
      ],
      "metadata": {
        "colab": {
          "base_uri": "https://localhost:8080/"
        },
        "id": "g3n1hx_H92m4",
        "outputId": "03f8a6bb-70fb-474b-aaac-b8f46141f231"
      },
      "execution_count": 7,
      "outputs": [
        {
          "output_type": "stream",
          "name": "stdout",
          "text": [
            "['vhigh', 'med', 'low', 'low', 'low', 'low', 'low', 'low', 'low', 'low', 'low', 'low', 'low', 'low', 'low']\n",
            "15\n"
          ]
        }
      ]
    },
    {
      "cell_type": "code",
      "source": [
        "# TESTE 2\n",
        "pessoas = extrai_coluna_csv(nome_arquivo='./carros.csv', indice_coluna=4, tipo_dado='int')\n",
        "print(pessoas)\n",
        "print(len(pessoas))"
      ],
      "metadata": {
        "colab": {
          "base_uri": "https://localhost:8080/"
        },
        "id": "FB8vmMBeOwv8",
        "outputId": "55a72e25-b023-468d-fdb4-514bd0e2e1de"
      },
      "execution_count": 8,
      "outputs": [
        {
          "output_type": "stream",
          "name": "stdout",
          "text": [
            "['2', '2', '2', '2', '2', '2', '4', '4', '2', '2', '2', '4', '2', '4', '4']\n",
            "15\n"
          ]
        }
      ]
    },
    {
      "cell_type": "markdown",
      "source": [
        "Exercício BÔNUS 2: **Complete** a função abaixo para **extrair uma linha**, do arquivo .txt e armazene-a em uma **lista**."
      ],
      "metadata": {
        "id": "vnGVmrPWPbtu"
      }
    },
    {
      "cell_type": "code",
      "source": [
        "def extrai_linha_txt(nome_arquivo: str, numero_linha: int):\n",
        "    palavras_linha = [ ]\n",
        "    i=0\n",
        "    with open(file=nome_arquivo, mode=\"r\", encoding=\"utf8\") as fp:\n",
        "        for i, linha in enumerate(fp, start=1):\n",
        "            if i == numero_linha:\n",
        "                palavras_linha.append(linha.split())\n",
        "                return palavras_linha"
      ],
      "metadata": {
        "id": "aY2wrQ17Pw6T"
      },
      "execution_count": 11,
      "outputs": []
    },
    {
      "cell_type": "code",
      "source": [
        "# TESTE :C\n",
        "linha10 = extrai_linha_txt(nome_arquivo='./musica.txt', numero_linha=10)\n",
        "print(linha10)"
      ],
      "metadata": {
        "colab": {
          "base_uri": "https://localhost:8080/"
        },
        "id": "stPVgxguQqcH",
        "outputId": "5880ea42-e00a-4447-9e42-0cdcc34e4833"
      },
      "execution_count": 12,
      "outputs": [
        {
          "output_type": "stream",
          "name": "stdout",
          "text": [
            "[['E', 'carrega', 'o', 'destino', 'pra', 'lá']]\n"
          ]
        }
      ]
    }
  ]
}