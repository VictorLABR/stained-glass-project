{
 "cells": [
  {
   "cell_type": "markdown",
   "metadata": {},
   "source": [
    "### 01 - Teste de gravidez\n",
    "Escreva uma célula com controle de fluxos que tem como premissa a existência das seguintes variáveis:\n",
    "\n",
    "- ```sexo``` como ```str``` indicando os valores '**M**' para masculino e '**F**' para feminino  \n",
    "- ```beta_hcg``` que indica a quantidade do beta-HCG no sangue em mUI/mL.\n",
    "\n",
    "A sua tarefa é escrever um código que imprima como resultado \"indivíduo do sexo masculino\" quando sexo = 'M', caso sexo = 'F', se o valor de beta-HCG for maior que 5, retorne \"Positivo\" indicando que a paciente está grávida, e retorne \"Negativo\" caso contrário.\n",
    "\n",
    "Não mexa nos valores da variável ```sexo``` nem em ```beta_hcg```, e escreva um código que funcione para quaisquer valores possíveis de ambos: ```sexo``` = '**M**' ou '**F**' e ```beta_hcg``` assumindo valores inteiros positivos."
   ]
  },
  {
   "cell_type": "code",
   "execution_count": 1,
   "metadata": {},
   "outputs": [
    {
     "name": "stdout",
     "output_type": "stream",
     "text": [
      "Indivíduo do sexo Masculino\n"
     ]
    }
   ],
   "source": [
    "sexo = 'M'\n",
    "beta_hcg = 0\n",
    "\n",
    "if sexo == \"M\":\n",
    "    print(\"Indivíduo do sexo Masculino\")\n",
    "elif beta_hcg > 5:\n",
    "    print(\"Positivo.\")\n",
    "else:\n",
    "    print(\"Negativo.\")"
   ]
  },
  {
   "cell_type": "markdown",
   "metadata": {},
   "source": [
    "### 02 - Renomeando variáveis\n",
    "\n",
    "Vamos ver adiante que uma forma de renomear variáveis de um conjunto de dados é através de dicionários - o dicionário deve conter como chave o nome original, associando a cada chave um único valor (tipo *str*) que contenha o nome novo.\n",
    "\n",
    "A sua tarefa é escrever um dicionário que possa ser utilizado para traduzir as variáveis ```name``` (nome), ```age``` (idade) e ```income``` (renda). Ou seja, esse dicionário deve relacionar as chaves *name, age* e *income* às suas respectivas traduções."
   ]
  },
  {
   "cell_type": "code",
   "execution_count": 2,
   "metadata": {},
   "outputs": [
    {
     "data": {
      "text/plain": [
       "{'name': 'nome', 'age': 'idade', 'income': 'renda'}"
      ]
     },
     "execution_count": 2,
     "metadata": {},
     "output_type": "execute_result"
    }
   ],
   "source": [
    "dic_renomeacao = {'name': 'nome','age': 'idade', 'income': 'renda'}\n",
    "dic_renomeacao"
   ]
  },
  {
   "cell_type": "markdown",
   "metadata": {},
   "source": [
    "### 03 - É divisível?\n",
    "A sua tarefa é escrever um código que indique se um número ```N``` é divisível por um número P. Escreva um programa que faça essa verificação para quaisquer combinações de ```N``` e ```M``` e devolva uma mensagem indicativa no output."
   ]
  },
  {
   "cell_type": "code",
   "execution_count": 3,
   "metadata": {},
   "outputs": [
    {
     "name": "stdout",
     "output_type": "stream",
     "text": [
      "Para dois números serem divisíveis, o resto da divisão deve ser igual a zero.\n",
      "Assim, o módulo da divisão de N por M é: 0\n",
      "São divisíveis!\n"
     ]
    }
   ],
   "source": [
    "N = 42\n",
    "M = 7\n",
    "\n",
    "modulo = N % M\n",
    "\n",
    "print(\"Para dois números serem divisíveis, o resto da divisão deve ser igual a zero.\")\n",
    "print(\"Assim, o módulo da divisão de N por M é:\", modulo)\n",
    "\n",
    "if modulo == 0:\n",
    "    print(\"São divisíveis!\")\n",
    "else:\n",
    "    print(\"Desta forma, não são divisíveis...\")"
   ]
  },
  {
   "cell_type": "markdown",
   "metadata": {},
   "source": [
    "### 04 - Números primos\n",
    "> Um número **N** é primo se e somente se é divisível por 1, -1, por **N** e por -**N**.  \n",
    "\n",
    "Escreva um script que verifica se ```N``` é um número primo, verificando se ```N``` é divisível por todos os números de ```1``` a ```N-1```. Você vai precisar usar alguma ferramenta de *loop* que você aprendeu para isto. No final, devolva uma mensagem no output indicando se o número é primo ou não."
   ]
  },
  {
   "cell_type": "code",
   "execution_count": 4,
   "metadata": {},
   "outputs": [
    {
     "name": "stdout",
     "output_type": "stream",
     "text": [
      "47 é primo!\n"
     ]
    }
   ],
   "source": [
    "N = 47\n",
    "i = 0\n",
    "\n",
    "for k in range(2, N):\n",
    "    if (N % k == 0):\n",
    "        print(N, \"não é primo, pois é múltiplo de\", k)\n",
    "        i += 1\n",
    "\n",
    "if (i == 0):\n",
    "    print(N, \"é primo!\")"
   ]
  },
  {
   "cell_type": "markdown",
   "metadata": {},
   "source": [
    "### 05 - Desafio\n",
    "O algorítmo do exercício anterior não é o mais eficiente. O que você pode fazer para deixá-lo mais eficiente? Ou seja, executar menos comparações, portanto consumir menos tempo.\n",
    "1. Será que precisamos correr o loop até o final sempre?\n",
    "2. Será que precisamos mesmo verificar **todos** os números?\n",
    "3. Será que precisamos ir até N-1?\n",
    "\n",
    "Essas perguntas levam ao tipo de pensamento voltado a deixar um algoritmo mais eficiente. Veja se você consegue melhorar o seu."
   ]
  },
  {
   "cell_type": "code",
   "execution_count": 5,
   "metadata": {},
   "outputs": [
    {
     "name": "stdout",
     "output_type": "stream",
     "text": [
      "É múltiplo de 2\n",
      "É múltiplo de 7\n",
      "98 número tem divisores diferentes de 1 e 98\n"
     ]
    }
   ],
   "source": [
    "# podemos encerrar o loop quando N for divisível por qualquer número >1 e <N\n",
    "# matematicamente podemos parar de explorar na metade dos valores entre 1 e N\n",
    "# mais que isso, podemos explorar até apenas a raiz quadrada de N (tive que pesquisar essa informação)\n",
    "\n",
    "import math\n",
    "\n",
    "N = 98\n",
    "i = 0\n",
    "\n",
    "for k in range(2, int(math.sqrt(N))):\n",
    "    if (N % k == 0):\n",
    "        print(\"É múltiplo de\", k) # não coloquei o break nesse trecho para poder mostrar os valores, mas poderia encerrar no primeiro valor que a divisão desse exata\n",
    "        i += 1\n",
    "\n",
    "if (i == 0):\n",
    "    print(\"É primo!\")\n",
    "else:\n",
    "    print(N, \"número tem divisores diferentes de 1 e\", N)"
   ]
  },
  {
   "cell_type": "markdown",
   "metadata": {},
   "source": [
    "### 06 - Peso ideal 1\n",
    "O IMC (índice de massa corpórea) é um indicador de saúde mais bem aceito que o peso. Ele é calculado como:\n",
    "\n",
    "$$ IMC = \\dfrac{peso}{altura^2}$$\n",
    "\n",
    "Segundo a OMS, valores *normais* são entre 18.5 e 24.9.\n",
    "\n",
    "Sua tarefa é encontrar o ponto médio dessa faixa."
   ]
  },
  {
   "cell_type": "code",
   "execution_count": 6,
   "metadata": {},
   "outputs": [
    {
     "name": "stdout",
     "output_type": "stream",
     "text": [
      "21.7 kg\n"
     ]
    }
   ],
   "source": [
    "imc_ideal = (18.5 + 24.9)/2\n",
    "print(imc_ideal, \"kg\")"
   ]
  },
  {
   "cell_type": "markdown",
   "metadata": {},
   "source": [
    "### 07 - Peso ideal 2\n",
    "Recebendo um valor de altura, encontre o peso '*ideal*' dessa pessoa, que fornece o IMC encontrado acima"
   ]
  },
  {
   "cell_type": "code",
   "execution_count": 7,
   "metadata": {},
   "outputs": [
    {
     "name": "stdout",
     "output_type": "stream",
     "text": [
      "62.71 kg\n"
     ]
    }
   ],
   "source": [
    "altura = 1.70\n",
    "\n",
    "peso_ideal = imc_ideal * (altura ** 2)\n",
    "print(round(peso_ideal, 2), \"kg\")"
   ]
  },
  {
   "cell_type": "markdown",
   "metadata": {},
   "source": [
    "### 08 - Peso ideal 3\n",
    "Dada uma lista contendo as alturas de pacientes, crie uma nova lista que contenha o peso '*ideal*' (que fornece o IMC calculado em **Peso ideal 1**) desses pacientes."
   ]
  },
  {
   "cell_type": "code",
   "execution_count": 8,
   "metadata": {},
   "outputs": [
    {
     "name": "stdout",
     "output_type": "stream",
     "text": [
      "[82.51, 91.19, 62.71, 59.08] kg\n"
     ]
    }
   ],
   "source": [
    "lista_alturas = [1.95, 2.05, 1.70, 1.65]\n",
    "lista_peso_ideal = []\n",
    "i = 0\n",
    "\n",
    "for i in range(i, len(lista_alturas)):\n",
    "    peso_ideal = imc_ideal * (lista_alturas[i] ** 2)\n",
    "    lista_peso_ideal.append(round(peso_ideal, 2))\n",
    "\n",
    "print(lista_peso_ideal, \"kg\")"
   ]
  },
  {
   "cell_type": "markdown",
   "metadata": {},
   "source": [
    "### 09 - Peso ideal 4\n",
    "Dada uma lista de tuplas - cada elemento da lista é uma tupla contendo altura e peso de um paciente - crie uma nova lista com o IMC desses pacientes."
   ]
  },
  {
   "cell_type": "code",
   "execution_count": 9,
   "metadata": {},
   "outputs": [
    {
     "name": "stdout",
     "output_type": "stream",
     "text": [
      "[27.8, 27.5, 19.2] adimensionais\n"
     ]
    }
   ],
   "source": [
    "altura_peso = [(1.80, 90), (1.65, 75), (1.91, 70)]\n",
    "imc = []\n",
    "i = 0\n",
    "\n",
    "for i in range(i, len(altura_peso)):\n",
    "    altura, peso = altura_peso[i]\n",
    "    calculo_imc = peso / (altura ** 2)\n",
    "    imc.append(round(calculo_imc, 1))\n",
    "\n",
    "print(imc, \"adimensionais\")"
   ]
  },
  {
   "cell_type": "markdown",
   "metadata": {},
   "source": [
    "### 10 - Peso ideal 5\n",
    "Dada uma lista de **listas** - cada elemento da lista é uma **lista** contendo altura e peso de um paciente, adicione mais um elemento à lista de cada paciente contendo o IMC do paciente. Verifique também se é 'baixo', 'normal' ou 'alto' segundo os padrões da OMS em que normal é entre 18.5 e 24.9.\n",
    "\n",
    "Reflexão: por que no problema anterior temos que criar uma nova lista, e não podemos adicionar os dados de cada indivíduo à tupla?"
   ]
  },
  {
   "cell_type": "code",
   "execution_count": 40,
   "metadata": {},
   "outputs": [
    {
     "name": "stdout",
     "output_type": "stream",
     "text": [
      "O IMC do paciente 0 está normal.\n",
      "O IMC do paciente 1 está normal.\n",
      "O IMC do paciente 2 está normal.\n",
      "[[1.8, 90, 19.2], [1.65, 75, 19.2], [1.91, 70, 19.2]]\n"
     ]
    }
   ],
   "source": [
    "# Reflexão: tuplas são imutáveis, impossibilitando de fazer essa ação sobre elas\n",
    "altura_peso = [[1.80, 90], [1.65, 75], [1.91, 70]]\n",
    "paciente = []\n",
    "calculo_imc = []\n",
    "i = 0\n",
    "\n",
    "for i in range(i, len(altura_peso)):\n",
    "    paciente.append([])\n",
    "    paciente[i] = altura_peso[i]\n",
    "    calculo_imc.append(imc)\n",
    "    paciente[i].append(imc)\n",
    "    if 18.5 <= calculo_imc[i] <= 24.9:\n",
    "        print(\"O IMC do paciente\", i, \"está normal.\")\n",
    "    elif calculo_imc[i] < 18.5:\n",
    "        print(\"O IMC do paciente\", i, \"está baixo! Cuidado.\")\n",
    "    else:\n",
    "        print(\"O IMC do paciente\", i, \"está ALTO! **ALERTA**\")\n",
    "    i += 1\n",
    "\n",
    "print(altura_peso)"
   ]
  }
 ],
 "metadata": {
  "kernelspec": {
   "display_name": "Python 3 (ipykernel)",
   "language": "python",
   "name": "python3"
  },
  "language_info": {
   "codemirror_mode": {
    "name": "ipython",
    "version": 3
   },
   "file_extension": ".py",
   "mimetype": "text/x-python",
   "name": "python",
   "nbconvert_exporter": "python",
   "pygments_lexer": "ipython3",
   "version": "3.9.13"
  }
 },
 "nbformat": 4,
 "nbformat_minor": 4
}
