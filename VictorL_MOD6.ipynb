{
  "nbformat": 4,
  "nbformat_minor": 0,
  "metadata": {
    "colab": {
      "provenance": []
    },
    "kernelspec": {
      "name": "python3",
      "display_name": "Python 3"
    },
    "language_info": {
      "name": "python"
    }
  },
  "cells": [
    {
      "cell_type": "markdown",
      "source": [
        "Recuperando exemplos já explorados para constratar paradidmas, sob os mesmos conjuntos de dados distintos."
      ],
      "metadata": {
        "id": "6Kvwt-8F8r_M"
      }
    },
    {
      "cell_type": "code",
      "execution_count": 1,
      "metadata": {
        "colab": {
          "base_uri": "https://localhost:8080/"
        },
        "id": "0M_iHHgk8kQ8",
        "outputId": "79ec9949-3bc3-43a0-db51-ede36e06a516"
      },
      "outputs": [
        {
          "output_type": "stream",
          "name": "stdout",
          "text": [
            "Overwriting carros.csv\n"
          ]
        }
      ],
      "source": [
        "%%writefile carros.csv\n",
        "id,valor_venda,valor_manutencao,portas,pessoas,porta_malas\n",
        "1,vhigh,med,2,2,small\n",
        "2,med,vhigh,2,2,small\n",
        "3,low,vhigh,2,2,small\n",
        "3,low,vhigh,2,2,small\n",
        "4,low,high,2,2,small\n",
        "5,low,high,2,2,small\n",
        "6,low,high,4,4,big\n",
        "7,low,high,4,4,big\n",
        "8,low,med,2,2,small\n",
        "9,low,med,2,2,small\n",
        "10,low,med,2,2,small\n",
        "11,low,med,4,4,big\n",
        "12,low,low,2,2,small\n",
        "13,low,low,4,4,small\n",
        "14,low,low,4,4,med"
      ]
    },
    {
      "cell_type": "code",
      "source": [
        "%%writefile musica.txt\n",
        "Roda Viva\n",
        "Chico Buarque\n",
        "Tem dias que a gente se sente\n",
        "Como quem partiu ou morreu\n",
        "A gente estancou de repente\n",
        "Ou foi o mundo então que cresceu\n",
        "A gente quer ter voz ativa\n",
        "No nosso destino mandar\n",
        "Mas eis que chega a roda viva\n",
        "E carrega o destino pra lá\n",
        "Roda mundo, roda-gigante\n",
        "Roda moinho, roda pião\n",
        "O tempo rodou num instante\n",
        "Nas voltas do meu coração\n",
        "A gente vai contra a corrente\n",
        "Até não poder resistir\n",
        "Na volta do barco é que sente\n",
        "O quanto deixou de cumprir\n",
        "Faz tempo que a gente cultiva\n",
        "A mais linda roseira que há\n",
        "Mas eis que chega a roda viva\n",
        "E carrega a roseira pra lá\n",
        "Roda mundo, roda-gigante\n",
        "Roda moinho, roda pião"
      ],
      "metadata": {
        "colab": {
          "base_uri": "https://localhost:8080/"
        },
        "id": "zRwOhcpy87h9",
        "outputId": "8d95e3e4-d016-4120-8ede-e55d59f939da"
      },
      "execution_count": 2,
      "outputs": [
        {
          "output_type": "stream",
          "name": "stdout",
          "text": [
            "Overwriting musica.txt\n"
          ]
        }
      ]
    },
    {
      "cell_type": "markdown",
      "source": [
        "Exercício 1: **Crie** a **Classe** com os devidos **atributos** e **métodos**. Depois **teste-a**."
      ],
      "metadata": {
        "id": "jvaenZZ49FUK"
      }
    },
    {
      "cell_type": "code",
      "source": [
        "class ArquivoTexto(object):\n",
        "  def __init__(self, arquivo: str):\n",
        "    self.arquivo = arquivo\n",
        "    self.conteudo = self.extrair_conteudo() # usando o método para preencher o atributo em lista\n",
        "  def extrair_conteudo(self):\n",
        "    conteudo=None # inicializando a lista\n",
        "    with open(file=self.arquivo,mode='r',encoding='utf8') as fp:\n",
        "      conteudo=fp.readlines() # preenchendo a lista com as linhas do texto\n",
        "      return conteudo\n",
        "  def extrair_linha(self, numero_linha: int):\n",
        "    return self.conteudo[numero_linha-1] # apresentando o texto na n-ésima linha que será exigida no argumento"
      ],
      "metadata": {
        "id": "twVnjvfe9hN6"
      },
      "execution_count": 3,
      "outputs": []
    },
    {
      "cell_type": "code",
      "source": [
        "# TESTES 1 & 2\n",
        "arquivo_texto = ArquivoTexto(arquivo='musica.txt')\n",
        "\n",
        "numero_linha = 1\n",
        "print(arquivo_texto.extrair_linha(numero_linha=numero_linha))\n",
        "\n",
        "numero_linha = 10\n",
        "print(arquivo_texto.extrair_linha(numero_linha=numero_linha))"
      ],
      "metadata": {
        "colab": {
          "base_uri": "https://localhost:8080/"
        },
        "id": "ekRKB9Ou9k9Z",
        "outputId": "6d375bb5-0e55-4681-c35e-4145ee8b465e"
      },
      "execution_count": 4,
      "outputs": [
        {
          "output_type": "stream",
          "name": "stdout",
          "text": [
            "Roda Viva\n",
            "\n",
            "E carrega o destino pra lá\n",
            "\n"
          ]
        }
      ]
    },
    {
      "cell_type": "markdown",
      "source": [
        "Exercício 2: **Crie** a **Classe** ArquivoCSV. Ela deve herdar a Classe ArquivoTexto. Além disso, adicione o devido **atributo** e **método**. Também faça os testes."
      ],
      "metadata": {
        "id": "pJmXFOzbBM1T"
      }
    },
    {
      "cell_type": "code",
      "source": [
        "class ArquivoCSV(ArquivoTexto):\n",
        "  def __init__(self, arquivo: str):\n",
        "    super().__init__(arquivo=arquivo)\n",
        "    self.colunas = self._extrair_nome_colunas() # usando o método para preencher o atributo em lista\n",
        "  def _extrair_nome_colunas(self):\n",
        "    return self.conteudo[0].strip().split(sep=',') # recortando a linha em colunas e escolhendo o título das colunas\n",
        "  def extrair_coluna(self, indice_coluna: int):\n",
        "    coluna = list()\n",
        "    for linha in self.conteudo: # combinação entre paradigmas para executar uma ação em conjunto\n",
        "      conteudo_linha = linha.strip().split(sep=',') # analogamente ao recorte do título, porém para todas as linhas da coluna\n",
        "      coluna.append(conteudo_linha[indice_coluna])\n",
        "    \n",
        "    coluna.pop(0) # necessário para retirar o título da coluna selecionada\n",
        "    return coluna"
      ],
      "metadata": {
        "id": "V-eIyEkRBt65"
      },
      "execution_count": 5,
      "outputs": []
    },
    {
      "cell_type": "code",
      "source": [
        "# TESTES 1, 2 & 3\n",
        "arquivo_csv = ArquivoCSV(arquivo='carros.csv')\n",
        "\n",
        "numero_linha=1\n",
        "print(arquivo_csv.extrair_linha(numero_linha=numero_linha))\n",
        "print(arquivo_csv.colunas)\n",
        "\n",
        "numero_linha=10\n",
        "print(arquivo_csv.extrair_linha(numero_linha=numero_linha))\n",
        "\n",
        "indice_coluna=2\n",
        "print(arquivo_csv.extrair_coluna(indice_coluna=indice_coluna))"
      ],
      "metadata": {
        "colab": {
          "base_uri": "https://localhost:8080/"
        },
        "id": "2M159pbzCCt9",
        "outputId": "432bfa7b-881a-4460-bc76-59cf2cf21aea"
      },
      "execution_count": 6,
      "outputs": [
        {
          "output_type": "stream",
          "name": "stdout",
          "text": [
            "id,valor_venda,valor_manutencao,portas,pessoas,porta_malas\n",
            "\n",
            "['id', 'valor_venda', 'valor_manutencao', 'portas', 'pessoas', 'porta_malas']\n",
            "8,low,med,2,2,small\n",
            "\n",
            "['med', 'vhigh', 'vhigh', 'vhigh', 'high', 'high', 'high', 'high', 'med', 'med', 'med', 'med', 'low', 'low', 'low']\n"
          ]
        }
      ]
    },
    {
      "cell_type": "markdown",
      "source": [
        "Exercício BÔNUS: **Crie** a **Classe** ArquivoCSV2. Ela deve herdar a Classe ArquivoTexto, reaproveitando *self.arquivo* e *self.extrair_linha*. Além disso, adicione o devido **atributo** e **método**. Também faça os testes."
      ],
      "metadata": {
        "id": "EG1a_Ae7KHC5"
      }
    },
    {
      "cell_type": "code",
      "source": [
        "class ArquivoCSV2(ArquivoTexto):\n",
        "  def __init__(self, arquivo: str):\n",
        "    super().__init__(arquivo=arquivo)\n",
        "  def extrair_coluna_da_linha(self, numero_linha: int, indice_coluna: int):\n",
        "    extracao = self.conteudo[numero_linha] # alimentando a variável auxiliar extração com o número da linha alvo a se extraír\n",
        "    extracao = extracao.split(sep=',')[indice_coluna -1] \n",
        "    return extracao # apresentando o texto na n-ésima pela i-ésima entrada que será exigida no binômio do argumento (n,i)"
      ],
      "metadata": {
        "id": "2aJZ2wPQKZcV"
      },
      "execution_count": 7,
      "outputs": []
    },
    {
      "cell_type": "code",
      "source": [
        "arquivo_csv2 = ArquivoCSV2(arquivo='carros.csv')\n",
        "\n",
        "numero_linha = 10\n",
        "indice_coluna = 2\n",
        "print(arquivo_csv2.extrair_coluna_da_linha(numero_linha=numero_linha,indice_coluna=indice_coluna))"
      ],
      "metadata": {
        "colab": {
          "base_uri": "https://localhost:8080/"
        },
        "id": "lT3nHl5zLahA",
        "outputId": "f67be660-d379-4201-9e2e-c9e55b5d8f73"
      },
      "execution_count": 8,
      "outputs": [
        {
          "output_type": "stream",
          "name": "stdout",
          "text": [
            "low\n"
          ]
        }
      ]
    }
  ]
}