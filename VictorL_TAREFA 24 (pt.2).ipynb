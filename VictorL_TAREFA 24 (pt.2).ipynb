{
 "cells": [
  {
   "cell_type": "markdown",
   "id": "31291bc5",
   "metadata": {},
   "source": [
    "**QUESTÃO 1:** Cite 5 diferenças entre o AdaBoost e o GBM.\n",
    "\n",
    "1. AdaBoost utiliza modelos fracos (geralmente árvores de decisão de pouca profundidade), enquanto o Gradient Boosting Machine (GBM) utiliza modelos mais complexos e ajusta-se sequencialmente aos resíduos.\n",
    "\n",
    "2. AdaBoost ajusta os pesos das instâncias durante o treinamento para focar em instâncias mal classificadas, enquanto o GBM ajusta os pesos dos resíduos, dando mais peso às instâncias onde o modelo anterior falhou.\n",
    "\n",
    "3. AdaBoost treina modelos sequencialmente, atribuindo pesos às instâncias, enquanto o GBM treina modelos de forma sequencial, ajustando-se aos resíduos do modelo anterior.\n",
    "\n",
    "4. AdaBoost combina modelos usando uma abordagem de voto ponderado, enquanto o GBM combina modelos somando suas previsões.\n",
    "\n",
    "5. AdaBoost é mais sensível a outliers, uma vez que ajusta os pesos das instâncias de forma a corrigir classificações incorretas, enquanto o GBM é menos suscetível devido ao ajuste aos resíduos.\n",
    "\n",
    "**QUESTÃO 2:** Acesse o link Scikit-learn – GBM, leia a explicação (traduza se for preciso) e crie um jupyter notebook contendo o exemplo de classificação e de regressão do GBM."
   ]
  },
  {
   "cell_type": "code",
   "execution_count": 1,
   "id": "d0c00752",
   "metadata": {},
   "outputs": [
    {
     "name": "stdout",
     "output_type": "stream",
     "text": [
      "Classification Score: 0.91\n",
      "Regression MSE: 0.77\n"
     ]
    }
   ],
   "source": [
    "from sklearn.datasets import make_hastie_10_2\n",
    "from sklearn.ensemble import GradientBoostingClassifier\n",
    "\n",
    "X, y = make_hastie_10_2(random_state=0)\n",
    "X_train, X_test = X[:2000], X[2000:]\n",
    "y_train, y_test = y[:2000], y[2000:]\n",
    "\n",
    "clf = GradientBoostingClassifier(n_estimators=100,\n",
    "                                 learning_rate=1.0,\n",
    "                                 max_depth=1,\n",
    "                                 random_state=0).fit(X_train, y_train)\n",
    "\n",
    "import numpy as np\n",
    "from sklearn.metrics import mean_squared_error\n",
    "from sklearn.datasets import make_friedman1\n",
    "from sklearn.ensemble import GradientBoostingRegressor\n",
    "\n",
    "X2, y2 = make_friedman1(n_samples=1200, random_state=0, noise=1.0)\n",
    "X2_train, X2_test = X[:200], X[200:]\n",
    "y2_train, y2_test = y[:200], y[200:]\n",
    "est = GradientBoostingRegressor(n_estimators=100,\n",
    "                                learning_rate=0.1,\n",
    "                                max_depth=1,\n",
    "                                random_state=0,\n",
    "                                loss='squared_error').fit(X2_train, y2_train)\n",
    "\n",
    "print(f\"Classification Score: {clf.score(X_test, y_test):.2f}\")\n",
    "print(f\"Regression MSE: {mean_squared_error(y2_test, est.predict(X2_test)):.2f}\")"
   ]
  },
  {
   "cell_type": "markdown",
   "id": "3b362019",
   "metadata": {},
   "source": [
    "**QUESTÃO 3:** Cite 5 Hyperparametros importantes no GBM.\n",
    "\n",
    "1. n_estimators\n",
    "2. learning_rate\n",
    "3. max_depth\n",
    "4. subsample\n",
    "5. loss\n",
    "\n",
    "**QUESTÃO 5:** Acessando o artigo do Jerome Friedman (Stochastic) e pensando no nome dado ao Stochastic GBM, qual é a maior diferença entre os dois algoritmos?\n",
    "\n",
    "> Utilizando o artigo de Jerome Friedman (Março, 1999) como referência, a maior diferença entre o GBM e o Stochastic GBM está na introdução de aleatoriedade na escolha das instâncias utilizadas para o treinamento de cada árvore. Isso adiciona uma camada de aleatoriedade ao processo de aprendizado, tornando o modelo mais robusto e menos suscetível a *overfitting* (mesmo sem estar claro o motivo dessa melhora)."
   ]
  }
 ],
 "metadata": {
  "kernelspec": {
   "display_name": "Python 3 (ipykernel)",
   "language": "python",
   "name": "python3"
  },
  "language_info": {
   "codemirror_mode": {
    "name": "ipython",
    "version": 3
   },
   "file_extension": ".py",
   "mimetype": "text/x-python",
   "name": "python",
   "nbconvert_exporter": "python",
   "pygments_lexer": "ipython3",
   "version": "3.9.13"
  }
 },
 "nbformat": 4,
 "nbformat_minor": 5
}
