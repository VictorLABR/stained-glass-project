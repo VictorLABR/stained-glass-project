{
  "nbformat": 4,
  "nbformat_minor": 0,
  "metadata": {
    "colab": {
      "provenance": []
    },
    "kernelspec": {
      "name": "python3",
      "display_name": "Python 3"
    },
    "language_info": {
      "name": "python"
    }
  },
  "cells": [
    {
      "cell_type": "markdown",
      "source": [
        "Exercício 1: Identifique o erro de sintaxe nos trechos de código abaixo e corrija-os para que funcionem."
      ],
      "metadata": {
        "id": "CMvzarQOr2sM"
      }
    },
    {
      "cell_type": "code",
      "execution_count": 1,
      "metadata": {
        "colab": {
          "base_uri": "https://localhost:8080/"
        },
        "id": "LFiF5x4SrsKz",
        "outputId": "a403fdaa-6962-41db-bf8a-5698cd842b1d"
      },
      "outputs": [
        {
          "output_type": "stream",
          "name": "stdout",
          "text": [
            "Para o documento 123, o valor do escore de crédito é 750.\n",
            "Para o documento 456, o valor do escore de crédito é 812.\n",
            "Para o documento 789, o valor do escore de crédito é 980.\n"
          ]
        }
      ],
      "source": [
        "credito = {'123': 750, '456': 812, '789': 980}\n",
        "\n",
        "for chave, valor in credito.items():\n",
        "  print(f'Para o documento {chave}, o valor do escore de crédito é {valor}.') # erro na concordância das aspas"
      ]
    },
    {
      "cell_type": "code",
      "source": [
        "def pi() -> float: # erro na quantidade de hífens que apontam para o tipo do resultado\n",
        "  return 3.14159265359 # erro na identação do return\n",
        "pi = pi()\n",
        "print(pi)"
      ],
      "metadata": {
        "colab": {
          "base_uri": "https://localhost:8080/"
        },
        "id": "QGpfssE4sVLl",
        "outputId": "fe914c71-a607-4720-a987-a82eb6940df0"
      },
      "execution_count": 2,
      "outputs": [
        {
          "output_type": "stream",
          "name": "stdout",
          "text": [
            "3.14159265359\n"
          ]
        }
      ]
    },
    {
      "cell_type": "code",
      "source": [
        "emails = ['andre.perez@gmail.com', 'andre.perez@live.com', 'andre.perez@yahoo.com'] # erro na separação das sentenças\n",
        "\n",
        "provedor_da_google = lambda email: 'gmail' in email # erro na quantidade de aspas do termo a ser extraído\n",
        "emails_google = filter(provedor_da_google, emails)\n",
        "print(list(emails_google))"
      ],
      "metadata": {
        "colab": {
          "base_uri": "https://localhost:8080/"
        },
        "id": "yuaUKQBXsWpv",
        "outputId": "443bfbb5-7d1f-480e-d0c8-a2b5a1377605"
      },
      "execution_count": 3,
      "outputs": [
        {
          "output_type": "stream",
          "name": "stdout",
          "text": [
            "['andre.perez@gmail.com']\n"
          ]
        }
      ]
    },
    {
      "cell_type": "code",
      "source": [
        "class Pessoa(object):\n",
        "  def __init__(self, nome: str, idade: int, documento: str): # erros na identação do código e falta da vírgula após a indicação do 'self'\n",
        "    self.nome = nome\n",
        "    self.idade = idade\n",
        "    self.documento = documento\n",
        "\n",
        "andre = Pessoa(nome=\"Andre\", idade=30, documento=\"123\") # erro na digitação do parâmetro"
      ],
      "metadata": {
        "id": "Vua5eh1hsYKu"
      },
      "execution_count": 4,
      "outputs": []
    },
    {
      "cell_type": "markdown",
      "source": [
        "Exercício 2: O código abaixo deve calcular o total emprestado por cada vendedor mas está \"estourando\" a exceção **ValueError** devido a um erro no conjunto de dados. Utilize a estrutura **try-catch** para garantir que o código seja executado com sucesso"
      ],
      "metadata": {
        "id": "u3G9isOT9FeA"
      }
    },
    {
      "cell_type": "code",
      "source": [
        "%%writefile credito.csv\n",
        "id_vendedor,valor_emprestimos,quantidade_emprestimos,data\n",
        "104271,448.0,1,20161208\n",
        "21476,826.7,3,20161208\n",
        "87440,313.6,3,20161208\n",
        "15980,808.0,6,20161208\n",
        "215906,2212.0,5,20161208\n",
        "33696,2771.3,2,20161208\n",
        "33893,2240.0,3,20161208\n",
        "214946,\"4151.0\",18,20161208\n",
        "123974,2021.95,2,20161208\n",
        "225870,4039.0,2,20161208"
      ],
      "metadata": {
        "colab": {
          "base_uri": "https://localhost:8080/"
        },
        "id": "M3i50fZ29EyU",
        "outputId": "3eb583d0-8154-4f5b-eda7-f56fc937d974"
      },
      "execution_count": 5,
      "outputs": [
        {
          "output_type": "stream",
          "name": "stdout",
          "text": [
            "Overwriting credito.csv\n"
          ]
        }
      ]
    },
    {
      "cell_type": "code",
      "source": [
        "def valor_total_emprestimo(valor: float, quantidade: int) -> float:\n",
        "  return valor*quantidade\n",
        "\n",
        "emprestimos = []\n",
        "with open(file='./credito.csv', mode='r', encoding='utf8') as fp:\n",
        "  fp.readline()\n",
        "  linha = fp.readline()\n",
        "  try:\n",
        "    while linha:\n",
        "      linha_emprestimo = {}\n",
        "      linha_elementos = linha.strip().split(sep=',')\n",
        "      linha_emprestimo['id_vendedor'] = linha_elementos[0]\n",
        "      linha_emprestimo['valor_emprestimos'] = float(linha_elementos[1])\n",
        "      linha_emprestimo['quantidade_emprestimos'] = int(linha_elementos[2])\n",
        "      linha_emprestimo['data'] = linha_elementos[3]\n",
        "      emprestimos.append(linha_emprestimo)\n",
        "      linha = fp.readline()\n",
        "  except ValueError as erro1:\n",
        "    while linha:\n",
        "      linha_emprestimo = {}\n",
        "      linha_elementos = linha.strip().split(sep=',')\n",
        "      linha_elementos[1]= linha_elementos[1].replace('\"','')\n",
        "      linha_emprestimo['id_vendedor'] = linha_elementos[0]\n",
        "      linha_emprestimo['valor_emprestimos'] = float(linha_elementos[1])\n",
        "      linha_emprestimo['quantidade_emprestimos'] = int(linha_elementos[2])\n",
        "      linha_emprestimo['data'] = linha_elementos[3]\n",
        "      emprestimos.append(linha_emprestimo)\n",
        "      linha = fp.readline()\n",
        "\n",
        "emprestimos_total = []\n",
        "for emprestimo in emprestimos:\n",
        "  valor_total = valor_total_emprestimo(valor=emprestimo['valor_emprestimos'],quantidade=emprestimo['quantidade_emprestimos'])\n",
        "  emprestimos_total.append({emprestimo['id_vendedor']: valor_total})\n",
        "\n",
        "for emprestimo_total in emprestimos_total:\n",
        "  print(emprestimo_total)"
      ],
      "metadata": {
        "colab": {
          "base_uri": "https://localhost:8080/"
        },
        "id": "ioNX9YtT-FJX",
        "outputId": "f4d32732-dcad-4ee4-b185-adbaa14b1026"
      },
      "execution_count": 18,
      "outputs": [
        {
          "output_type": "stream",
          "name": "stdout",
          "text": [
            "{'104271': 448.0}\n",
            "{'21476': 2480.1000000000004}\n",
            "{'87440': 940.8000000000001}\n",
            "{'15980': 4848.0}\n",
            "{'215906': 11060.0}\n",
            "{'33696': 5542.6}\n",
            "{'33893': 6720.0}\n",
            "{'214946': 74718.0}\n",
            "{'123974': 4043.9}\n",
            "{'225870': 8078.0}\n"
          ]
        }
      ]
    }
  ]
}