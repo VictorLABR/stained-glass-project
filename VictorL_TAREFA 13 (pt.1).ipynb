{
 "cells": [
  {
   "cell_type": "markdown",
   "metadata": {},
   "source": [
    "# EBAC - Regressão II - regressão múltipla\n",
    "\n",
    "## Tarefa I"
   ]
  },
  {
   "cell_type": "markdown",
   "metadata": {},
   "source": [
    "#### Previsão de renda\n",
    "\n",
    "Vamos trabalhar com a base 'previsao_de_renda.csv', que é a base do seu próximo projeto. Vamos usar os recursos que vimos até aqui nesta base.\n",
    "\n",
    "|variavel|descrição|\n",
    "|-|-|\n",
    "|data_ref                | Data de referência de coleta das variáveis |\n",
    "|index                   | Código de identificação do cliente|\n",
    "|sexo                    | Sexo do cliente|\n",
    "|posse_de_veiculo        | Indica se o cliente possui veículo|\n",
    "|posse_de_imovel         | Indica se o cliente possui imóvel|\n",
    "|qtd_filhos              | Quantidade de filhos do cliente|\n",
    "|tipo_renda              | Tipo de renda do cliente|\n",
    "|educacao                | Grau de instrução do cliente|\n",
    "|estado_civil            | Estado civil do cliente|\n",
    "|tipo_residencia         | Tipo de residência do cliente (própria, alugada etc)|\n",
    "|idade                   | Idade do cliente|\n",
    "|tempo_emprego           | Tempo no emprego atual|\n",
    "|qt_pessoas_residencia   | Quantidade de pessoas que moram na residência|\n",
    "|renda                   | Renda em reais|"
   ]
  },
  {
   "cell_type": "code",
   "execution_count": 1,
   "metadata": {},
   "outputs": [],
   "source": [
    "# Atualmente, este é meu bloco fixo de importações\n",
    "import pandas as pd\n",
    "import seaborn as sns\n",
    "from seaborn import load_dataset\n",
    "import numpy as np\n",
    "import matplotlib.pyplot as plt\n",
    "import requests as rq\n",
    "# Bloco de estudo estatístico\n",
    "import statsmodels.api as sm\n",
    "import statsmodels.formula.api as snf\n",
    "from sklearn.metrics import r2_score\n",
    "# Modelando com o Patsy\n",
    "import patsy"
   ]
  },
  {
   "cell_type": "code",
   "execution_count": 2,
   "metadata": {},
   "outputs": [],
   "source": [
    "df = pd.read_csv(\"previsao_de_renda.csv\")"
   ]
  },
  {
   "cell_type": "code",
   "execution_count": 3,
   "metadata": {},
   "outputs": [
    {
     "name": "stdout",
     "output_type": "stream",
     "text": [
      "Index(['Unnamed: 0', 'data_ref', 'id_cliente', 'sexo', 'posse_de_veiculo',\n",
      "       'posse_de_imovel', 'qtd_filhos', 'tipo_renda', 'educacao',\n",
      "       'estado_civil', 'tipo_residencia', 'idade', 'tempo_emprego',\n",
      "       'qt_pessoas_residencia', 'renda'],\n",
      "      dtype='object')\n",
      "<class 'pandas.core.frame.DataFrame'>\n",
      "RangeIndex: 15000 entries, 0 to 14999\n",
      "Data columns (total 15 columns):\n",
      " #   Column                 Non-Null Count  Dtype  \n",
      "---  ------                 --------------  -----  \n",
      " 0   Unnamed: 0             15000 non-null  int64  \n",
      " 1   data_ref               15000 non-null  object \n",
      " 2   id_cliente             15000 non-null  int64  \n",
      " 3   sexo                   15000 non-null  object \n",
      " 4   posse_de_veiculo       15000 non-null  bool   \n",
      " 5   posse_de_imovel        15000 non-null  bool   \n",
      " 6   qtd_filhos             15000 non-null  int64  \n",
      " 7   tipo_renda             15000 non-null  object \n",
      " 8   educacao               15000 non-null  object \n",
      " 9   estado_civil           15000 non-null  object \n",
      " 10  tipo_residencia        15000 non-null  object \n",
      " 11  idade                  15000 non-null  int64  \n",
      " 12  tempo_emprego          12427 non-null  float64\n",
      " 13  qt_pessoas_residencia  15000 non-null  float64\n",
      " 14  renda                  15000 non-null  float64\n",
      "dtypes: bool(2), float64(3), int64(4), object(6)\n",
      "memory usage: 1.5+ MB\n"
     ]
    }
   ],
   "source": [
    "print(df.columns)\n",
    "df.info()"
   ]
  },
  {
   "cell_type": "markdown",
   "metadata": {},
   "source": [
    "1. Ajuste um modelo para prever log(renda) considerando todas as covariáveis disponíveis.\n",
    "    - Utilizando os recursos do Patsy, coloque as variáveis qualitativas como *dummies*.\n",
    "    - Mantenha sempre a categoria mais frequente como casela de referência\n",
    "    - Avalie os parâmetros e veja se parecem fazer sentido prático.  \n",
    "\n",
    "\n",
    "2. Remova a variável menos significante e analise:\n",
    "    - Observe os indicadores que vimos, e avalie se o modelo melhorou ou piorou na sua opinião.\n",
    "    - Observe os parâmetros e veja se algum se alterou muito.  \n",
    "\n",
    "\n",
    "3. Siga removendo as variáveis menos significantes, sempre que o *p-value* for menor que 5%. Compare o modelo final com o inicial. Observe os indicadores e conclua se o modelo parece melhor. \n",
    "    "
   ]
  },
  {
   "cell_type": "code",
   "execution_count": 4,
   "metadata": {},
   "outputs": [
    {
     "name": "stdout",
     "output_type": "stream",
     "text": [
      "                            OLS Regression Results                            \n",
      "==============================================================================\n",
      "Dep. Variable:          np.log(renda)   R-squared:                       0.357\n",
      "Model:                            OLS   Adj. R-squared:                  0.356\n",
      "Method:                 Least Squares   F-statistic:                     287.5\n",
      "Date:                Tue, 15 Aug 2023   Prob (F-statistic):               0.00\n",
      "Time:                        18:29:22   Log-Likelihood:                -13568.\n",
      "No. Observations:               12427   AIC:                         2.719e+04\n",
      "Df Residuals:                   12402   BIC:                         2.737e+04\n",
      "Df Model:                          24                                         \n",
      "Covariance Type:            nonrobust                                         \n",
      "=======================================================================================================\n",
      "                                          coef    std err          t      P>|t|      [0.025      0.975]\n",
      "-------------------------------------------------------------------------------------------------------\n",
      "Intercept                               6.5847      0.235     28.006      0.000       6.124       7.046\n",
      "C(sexo)[T.M]                            0.7874      0.015     53.723      0.000       0.759       0.816\n",
      "posse_de_veiculo[T.True]                0.0441      0.014      3.119      0.002       0.016       0.072\n",
      "posse_de_imovel[T.True]                 0.0829      0.014      5.926      0.000       0.055       0.110\n",
      "C(tipo_renda)[T.Bolsista]               0.2209      0.241      0.916      0.360      -0.252       0.694\n",
      "C(tipo_renda)[T.Empresário]             0.1551      0.015     10.387      0.000       0.126       0.184\n",
      "C(tipo_renda)[T.Pensionista]           -0.3087      0.241     -1.280      0.201      -0.782       0.164\n",
      "C(tipo_renda)[T.Servidor público]       0.0576      0.022      2.591      0.010       0.014       0.101\n",
      "C(educacao)[T.Pós graduação]            0.1071      0.159      0.673      0.501      -0.205       0.419\n",
      "C(educacao)[T.Secundário]              -0.0141      0.072     -0.196      0.844      -0.155       0.127\n",
      "C(educacao)[T.Superior completo]        0.0938      0.072      1.298      0.194      -0.048       0.235\n",
      "C(educacao)[T.Superior incompleto]     -0.0432      0.078     -0.555      0.579      -0.196       0.109\n",
      "C(estado_civil)[T.Separado]             0.3265      0.111      2.935      0.003       0.108       0.545\n",
      "C(estado_civil)[T.Solteiro]             0.2672      0.109      2.453      0.014       0.054       0.481\n",
      "C(estado_civil)[T.União]               -0.0343      0.025     -1.361      0.174      -0.084       0.015\n",
      "C(estado_civil)[T.Viúvo]                0.3689      0.116      3.191      0.001       0.142       0.596\n",
      "C(tipo_residencia)[T.Casa]             -0.0442      0.054     -0.815      0.415      -0.150       0.062\n",
      "C(tipo_residencia)[T.Com os pais]      -0.0258      0.060     -0.427      0.670      -0.144       0.093\n",
      "C(tipo_residencia)[T.Comunitário]      -0.1196      0.105     -1.135      0.256      -0.326       0.087\n",
      "C(tipo_residencia)[T.Estúdio]           0.0665      0.099      0.670      0.503      -0.128       0.261\n",
      "C(tipo_residencia)[T.Governamental]    -0.0571      0.066     -0.865      0.387      -0.186       0.072\n",
      "qtd_filhos                             -0.2658      0.108     -2.463      0.014      -0.477      -0.054\n",
      "idade                                   0.0053      0.001      6.624      0.000       0.004       0.007\n",
      "tempo_emprego                           0.0617      0.001     59.398      0.000       0.060       0.064\n",
      "qt_pessoas_residencia                   0.2926      0.108      2.716      0.007       0.081       0.504\n",
      "==============================================================================\n",
      "Omnibus:                        0.858   Durbin-Watson:                   2.023\n",
      "Prob(Omnibus):                  0.651   Jarque-Bera (JB):                0.839\n",
      "Skew:                           0.019   Prob(JB):                        0.657\n",
      "Kurtosis:                       3.012   Cond. No.                     2.18e+03\n",
      "==============================================================================\n",
      "\n",
      "Notes:\n",
      "[1] Standard Errors assume that the covariance matrix of the errors is correctly specified.\n",
      "[2] The condition number is large, 2.18e+03. This might indicate that there are\n",
      "strong multicollinearity or other numerical problems.\n"
     ]
    },
    {
     "data": {
      "text/plain": [
       "['Intercept',\n",
       " 'C(sexo)[T.M]',\n",
       " 'posse_de_veiculo[T.True]',\n",
       " 'posse_de_imovel[T.True]',\n",
       " 'C(tipo_renda)[T.Empresário]',\n",
       " 'C(tipo_renda)[T.Servidor público]',\n",
       " 'C(estado_civil)[T.Separado]',\n",
       " 'C(estado_civil)[T.Solteiro]',\n",
       " 'C(estado_civil)[T.Viúvo]',\n",
       " 'qtd_filhos',\n",
       " 'idade',\n",
       " 'tempo_emprego',\n",
       " 'qt_pessoas_residencia']"
      ]
     },
     "execution_count": 4,
     "metadata": {},
     "output_type": "execute_result"
    }
   ],
   "source": [
    "# Modelando com os recursos do Patsy\n",
    "construc_mod = \"np.log(renda) ~ C(sexo) + posse_de_veiculo + posse_de_imovel + qtd_filhos + C(tipo_renda) + C(educacao) + C(estado_civil) + C(tipo_residencia) + idade + tempo_emprego + qt_pessoas_residencia\"\n",
    "\n",
    "y, X = patsy.dmatrices(construc_mod, data = df, return_type = \"dataframe\")\n",
    "mod_lnrenda = sm.OLS(y, X).fit()\n",
    "print(mod_lnrenda.summary())\n",
    "\n",
    "# Obtendo os p-valores das variaveis independentes, garantindo o formato da entrada para comparacao de significancia\n",
    "p_values = mod_lnrenda.summary().tables[1].data[1:]\n",
    "p_values = [float(row[4]) for row in p_values]\n",
    "\n",
    "# Extraindo a tabela sem contabilizar as informacoes do cabeçalho\n",
    "significantes = mod_lnrenda.summary().tables[1].data[1:]\n",
    "\n",
    "# Filtrando para uma lista através pelas linhas de acordo com sua significancia de 5%\n",
    "significantes = [row[0] for row in significantes if float(row[4]) < 0.05]\n",
    "\n",
    "significantes"
   ]
  },
  {
   "cell_type": "code",
   "execution_count": 7,
   "metadata": {},
   "outputs": [
    {
     "name": "stdout",
     "output_type": "stream",
     "text": [
      "                            OLS Regression Results                            \n",
      "==============================================================================\n",
      "Dep. Variable:          np.log(renda)   R-squared:                       0.354\n",
      "Model:                            OLS   Adj. R-squared:                  0.353\n",
      "Method:                 Least Squares   F-statistic:                     453.1\n",
      "Date:                Tue, 15 Aug 2023   Prob (F-statistic):               0.00\n",
      "Time:                        18:33:18   Log-Likelihood:                -13603.\n",
      "No. Observations:               12427   AIC:                         2.724e+04\n",
      "Df Residuals:                   12411   BIC:                         2.736e+04\n",
      "Df Model:                          15                                         \n",
      "Covariance Type:            nonrobust                                         \n",
      "=====================================================================================================\n",
      "                                        coef    std err          t      P>|t|      [0.025      0.975]\n",
      "-----------------------------------------------------------------------------------------------------\n",
      "Intercept                             6.5951      0.219     30.152      0.000       6.166       7.024\n",
      "C(sexo)[T.M]                          0.7819      0.015     53.480      0.000       0.753       0.811\n",
      "posse_de_veiculo[T.True]              0.0535      0.014      3.789      0.000       0.026       0.081\n",
      "posse_de_imovel[T.True]               0.0848      0.014      6.172      0.000       0.058       0.112\n",
      "C(tipo_renda)[T.Bolsista]             0.2998      0.242      1.241      0.215      -0.174       0.773\n",
      "C(tipo_renda)[T.Empresário]           0.1655      0.015     11.120      0.000       0.136       0.195\n",
      "C(tipo_renda)[T.Pensionista]         -0.2540      0.242     -1.051      0.293      -0.728       0.220\n",
      "C(tipo_renda)[T.Servidor público]     0.0769      0.022      3.472      0.001       0.033       0.120\n",
      "C(estado_civil)[T.Separado]           0.3241      0.112      2.907      0.004       0.106       0.543\n",
      "C(estado_civil)[T.Solteiro]           0.2623      0.109      2.403      0.016       0.048       0.476\n",
      "C(estado_civil)[T.União]             -0.0361      0.025     -1.431      0.153      -0.086       0.013\n",
      "C(estado_civil)[T.Viúvo]              0.3588      0.116      3.097      0.002       0.132       0.586\n",
      "qtd_filhos                           -0.2560      0.108     -2.366      0.018      -0.468      -0.044\n",
      "idade                                 0.0048      0.001      6.147      0.000       0.003       0.006\n",
      "tempo_emprego                         0.0617      0.001     59.407      0.000       0.060       0.064\n",
      "qt_pessoas_residencia                 0.2839      0.108      2.629      0.009       0.072       0.496\n",
      "==============================================================================\n",
      "Omnibus:                        1.149   Durbin-Watson:                   2.024\n",
      "Prob(Omnibus):                  0.563   Jarque-Bera (JB):                1.121\n",
      "Skew:                           0.021   Prob(JB):                        0.571\n",
      "Kurtosis:                       3.019   Cond. No.                     2.13e+03\n",
      "==============================================================================\n",
      "\n",
      "Notes:\n",
      "[1] Standard Errors assume that the covariance matrix of the errors is correctly specified.\n",
      "[2] The condition number is large, 2.13e+03. This might indicate that there are\n",
      "strong multicollinearity or other numerical problems.\n"
     ]
    },
    {
     "data": {
      "text/plain": [
       "['Intercept',\n",
       " 'C(sexo)[T.M]',\n",
       " 'posse_de_veiculo[T.True]',\n",
       " 'posse_de_imovel[T.True]',\n",
       " 'C(tipo_renda)[T.Empresário]',\n",
       " 'C(tipo_renda)[T.Servidor público]',\n",
       " 'C(estado_civil)[T.Separado]',\n",
       " 'C(estado_civil)[T.Solteiro]',\n",
       " 'C(estado_civil)[T.Viúvo]',\n",
       " 'qtd_filhos',\n",
       " 'idade',\n",
       " 'tempo_emprego',\n",
       " 'qt_pessoas_residencia']"
      ]
     },
     "execution_count": 7,
     "metadata": {},
     "output_type": "execute_result"
    }
   ],
   "source": [
    "# Remodelando com os recursos do Patsy\n",
    "teste1_mod = \"np.log(renda) ~ C(sexo) + posse_de_veiculo + posse_de_imovel + qtd_filhos + C(tipo_renda) + C(estado_civil) + idade + tempo_emprego + qt_pessoas_residencia\"\n",
    "\n",
    "y, X = patsy.dmatrices(teste1_mod, data = df, return_type = \"dataframe\")\n",
    "mod2_lnrenda = sm.OLS(y, X).fit()\n",
    "print(mod2_lnrenda.summary())\n",
    "\n",
    "# Obtendo os p-valores das variaveis independentes, garantindo o formato da entrada para comparacao de significancia\n",
    "p_values = mod2_lnrenda.summary().tables[1].data[1:]\n",
    "p_values = [float(row[4]) for row in p_values]\n",
    "\n",
    "significantes2 = mod2_lnrenda.summary().tables[1].data[1:] # Extraindo a tabela sem contabilizar as informacoes do cabeçalho\n",
    "\n",
    "# Filtrando para uma lista através pelas linhas de acordo com sua significancia de 5%\n",
    "significantes2 = [row[0] for row in significantes2 if float(row[4]) < 0.05]\n",
    "\n",
    "significantes2"
   ]
  },
  {
   "cell_type": "code",
   "execution_count": 8,
   "metadata": {},
   "outputs": [
    {
     "name": "stdout",
     "output_type": "stream",
     "text": [
      "                            OLS Regression Results                            \n",
      "==============================================================================\n",
      "Dep. Variable:          np.log(renda)   R-squared:                       0.347\n",
      "Model:                            OLS   Adj. R-squared:                  0.346\n",
      "Method:                 Least Squares   F-statistic:                     940.8\n",
      "Date:                Tue, 15 Aug 2023   Prob (F-statistic):               0.00\n",
      "Time:                        18:34:18   Log-Likelihood:                -13672.\n",
      "No. Observations:               12427   AIC:                         2.736e+04\n",
      "Df Residuals:                   12419   BIC:                         2.742e+04\n",
      "Df Model:                           7                                         \n",
      "Covariance Type:            nonrobust                                         \n",
      "============================================================================================\n",
      "                               coef    std err          t      P>|t|      [0.025      0.975]\n",
      "--------------------------------------------------------------------------------------------\n",
      "Intercept                    7.2377      0.043    166.875      0.000       7.153       7.323\n",
      "C(sexo)[T.M]                 0.7694      0.015     52.676      0.000       0.741       0.798\n",
      "posse_de_veiculo[T.True]     0.0569      0.014      4.022      0.000       0.029       0.085\n",
      "posse_de_imovel[T.True]      0.0866      0.014      6.275      0.000       0.060       0.114\n",
      "qtd_filhos                   0.0338      0.019      1.735      0.083      -0.004       0.072\n",
      "idade                        0.0049      0.001      6.408      0.000       0.003       0.006\n",
      "tempo_emprego                0.0610      0.001     59.075      0.000       0.059       0.063\n",
      "qt_pessoas_residencia       -0.0092      0.016     -0.566      0.572      -0.041       0.023\n",
      "==============================================================================\n",
      "Omnibus:                        1.240   Durbin-Watson:                   2.025\n",
      "Prob(Omnibus):                  0.538   Jarque-Bera (JB):                1.213\n",
      "Skew:                           0.022   Prob(JB):                        0.545\n",
      "Kurtosis:                       3.019   Cond. No.                         300.\n",
      "==============================================================================\n",
      "\n",
      "Notes:\n",
      "[1] Standard Errors assume that the covariance matrix of the errors is correctly specified.\n"
     ]
    },
    {
     "data": {
      "text/plain": [
       "['Intercept',\n",
       " 'C(sexo)[T.M]',\n",
       " 'posse_de_veiculo[T.True]',\n",
       " 'posse_de_imovel[T.True]',\n",
       " 'idade',\n",
       " 'tempo_emprego']"
      ]
     },
     "execution_count": 8,
     "metadata": {},
     "output_type": "execute_result"
    }
   ],
   "source": [
    "# Remodelando com os recursos do Patsy\n",
    "teste2_mod = \"np.log(renda) ~ C(sexo) + posse_de_veiculo + posse_de_imovel + qtd_filhos + idade + tempo_emprego + qt_pessoas_residencia\"\n",
    "\n",
    "y, X = patsy.dmatrices(teste2_mod, data = df, return_type = \"dataframe\")\n",
    "mod3_lnrenda = sm.OLS(y, X).fit()\n",
    "print(mod3_lnrenda.summary())\n",
    "\n",
    "# Obtendo os p-valores das variaveis independentes, garantindo o formato da entrada para comparacao de significancia\n",
    "p_values = mod3_lnrenda.summary().tables[1].data[1:]\n",
    "p_values = [float(row[4]) for row in p_values]\n",
    "\n",
    "significantes3 = mod3_lnrenda.summary().tables[1].data[1:] # Extraindo a tabela sem contabilizar as informacoes do cabeçalho\n",
    "\n",
    "# Filtrando para uma lista através pelas linhas de acordo com sua significancia de 5%\n",
    "significantes3 = [row[0] for row in significantes3 if float(row[4]) < 0.05]\n",
    "\n",
    "significantes3"
   ]
  },
  {
   "cell_type": "code",
   "execution_count": 11,
   "metadata": {},
   "outputs": [
    {
     "name": "stdout",
     "output_type": "stream",
     "text": [
      "                            OLS Regression Results                            \n",
      "==============================================================================\n",
      "Dep. Variable:          np.log(renda)   R-squared:                       0.346\n",
      "Model:                            OLS   Adj. R-squared:                  0.346\n",
      "Method:                 Least Squares   F-statistic:                     1315.\n",
      "Date:                Tue, 15 Aug 2023   Prob (F-statistic):               0.00\n",
      "Time:                        18:37:20   Log-Likelihood:                -13676.\n",
      "No. Observations:               12427   AIC:                         2.736e+04\n",
      "Df Residuals:                   12421   BIC:                         2.741e+04\n",
      "Df Model:                           5                                         \n",
      "Covariance Type:            nonrobust                                         \n",
      "============================================================================================\n",
      "                               coef    std err          t      P>|t|      [0.025      0.975]\n",
      "--------------------------------------------------------------------------------------------\n",
      "Intercept                    7.2550      0.032    228.981      0.000       7.193       7.317\n",
      "C(sexo)[T.M]                 0.7700      0.015     52.851      0.000       0.741       0.799\n",
      "posse_de_veiculo[T.True]     0.0579      0.014      4.116      0.000       0.030       0.085\n",
      "posse_de_imovel[T.True]      0.0880      0.014      6.379      0.000       0.061       0.115\n",
      "idade                        0.0044      0.001      5.871      0.000       0.003       0.006\n",
      "tempo_emprego                0.0611      0.001     59.199      0.000       0.059       0.063\n",
      "==============================================================================\n",
      "Omnibus:                        1.248   Durbin-Watson:                   2.026\n",
      "Prob(Omnibus):                  0.536   Jarque-Bera (JB):                1.221\n",
      "Skew:                           0.022   Prob(JB):                        0.543\n",
      "Kurtosis:                       3.019   Cond. No.                         209.\n",
      "==============================================================================\n",
      "\n",
      "Notes:\n",
      "[1] Standard Errors assume that the covariance matrix of the errors is correctly specified.\n"
     ]
    },
    {
     "data": {
      "text/plain": [
       "['Intercept',\n",
       " 'C(sexo)[T.M]',\n",
       " 'posse_de_veiculo[T.True]',\n",
       " 'posse_de_imovel[T.True]',\n",
       " 'idade',\n",
       " 'tempo_emprego']"
      ]
     },
     "execution_count": 11,
     "metadata": {},
     "output_type": "execute_result"
    }
   ],
   "source": [
    "# Remodelando com os recursos do Patsy\n",
    "teste3_mod = \"np.log(renda) ~ C(sexo) + posse_de_veiculo + posse_de_imovel + idade + tempo_emprego\"\n",
    "\n",
    "y, X = patsy.dmatrices(teste3_mod, data = df, return_type = \"dataframe\")\n",
    "mod3_lnrenda = sm.OLS(y, X).fit()\n",
    "print(mod3_lnrenda.summary())\n",
    "\n",
    "# Obtendo os p-valores das variaveis independentes, garantindo o formato da entrada para comparacao de significancia\n",
    "p_values = mod3_lnrenda.summary().tables[1].data[1:]\n",
    "p_values = [float(row[4]) for row in p_values]\n",
    "\n",
    "significantes4 = mod3_lnrenda.summary().tables[1].data[1:] # Extraindo a tabela sem contabilizar as informacoes do cabeçalho\n",
    "\n",
    "# Filtrando para uma lista através pelas linhas de acordo com sua significancia de 5%\n",
    "significantes4 = [row[0] for row in significantes4 if float(row[4]) < 0.05]\n",
    "\n",
    "significantes4"
   ]
  },
  {
   "cell_type": "markdown",
   "metadata": {},
   "source": [
    "Apesar do R² reduzir um pouco [de 0,357 para 0,346], aparentemente os outros parâmetros ficaram melhores relativamente ao inicio."
   ]
  }
 ],
 "metadata": {
  "kernelspec": {
   "display_name": "Python 3 (ipykernel)",
   "language": "python",
   "name": "python3"
  },
  "language_info": {
   "codemirror_mode": {
    "name": "ipython",
    "version": 3
   },
   "file_extension": ".py",
   "mimetype": "text/x-python",
   "name": "python",
   "nbconvert_exporter": "python",
   "pygments_lexer": "ipython3",
   "version": "3.9.13"
  }
 },
 "nbformat": 4,
 "nbformat_minor": 4
}
