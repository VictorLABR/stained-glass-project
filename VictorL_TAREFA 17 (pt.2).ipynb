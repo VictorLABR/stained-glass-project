{
 "cells": [
  {
   "cell_type": "markdown",
   "metadata": {},
   "source": [
    "# Árvores II - Tarefa 2"
   ]
  },
  {
   "cell_type": "markdown",
   "metadata": {},
   "source": [
    "### 1. Carregar as bases\n",
    "\n",
    "Vamos carregar as bases lidas na tarefa passada. Se você salvou essas bases em arquivo texto, basta fazer a leitura com o comando ```pd.read_csv``` das seguintes bases:\n",
    "\n",
    "- X_train\n",
    "- Y_train\n",
    "- X_test\n",
    "- Y_test\n",
    "\n",
    "Não se esqueça de considerar a leitura dos índices dos arquivos no ```read_csv()```!"
   ]
  },
  {
   "cell_type": "code",
   "execution_count": 1,
   "metadata": {},
   "outputs": [
    {
     "name": "stdout",
     "output_type": "stream",
     "text": [
      "Tamanho de X_treino: (7352, 561)\n",
      "Tamanho de X_teste: (2947, 561)\n",
      "Tamanho de y_treino: (7352, 1)\n",
      "Tamanho de y_teste: (2947, 1)\n"
     ]
    }
   ],
   "source": [
    "# Trecho de importações\n",
    "import pandas as pd\n",
    "import seaborn as sns\n",
    "import matplotlib.pyplot as plt\n",
    "import numpy as np\n",
    "\n",
    "from sklearn.tree import DecisionTreeClassifier\n",
    "from sklearn.metrics import accuracy_score\n",
    "from sklearn.model_selection import train_test_split\n",
    "from sklearn.metrics import plot_confusion_matrix\n",
    "\n",
    "# Trecho de leitura dos arquivos a serem utilizados\n",
    "X_treino = pd.read_csv('X_treino.csv', index_col = [0, 1])\n",
    "X_teste = pd.read_csv('X_teste.csv', index_col = [0, 1])\n",
    "y_treino = pd.read_csv('y_treino.csv', sep = '\\t')\n",
    "y_teste = pd.read_csv('y_teste.csv', sep = '\\t')\n",
    "\n",
    "# Impressão dos formatos dos conjuntos\n",
    "print(\"Tamanho de X_treino:\", X_treino.shape)\n",
    "print(\"Tamanho de X_teste:\", X_teste.shape)\n",
    "print(\"Tamanho de y_treino:\", y_treino.shape)\n",
    "print(\"Tamanho de y_teste:\", y_teste.shape)"
   ]
  },
  {
   "cell_type": "markdown",
   "metadata": {},
   "source": [
    "### 2. Divisão da base em Treino, Validação e Teste\n",
    "\n",
    "A base já se encontra dividida em Treino e Validação. O que vamos fazer então é extrair uma base de Validação da base de Treino.\n",
    "\n",
    "Extraia 25% da base de treino como base de validação."
   ]
  },
  {
   "cell_type": "code",
   "execution_count": 2,
   "metadata": {},
   "outputs": [
    {
     "name": "stdout",
     "output_type": "stream",
     "text": [
      "Tamanho de X_treino: (5514, 561)\n",
      "Tamanho de X_validacao: (1838, 561)\n",
      "Tamanho de y_treino: (5514, 1)\n",
      "Tamanho de y_validacao: (1838, 1)\n"
     ]
    }
   ],
   "source": [
    "# Extraindo conjuntos de validação de dentro dos treinamentos\n",
    "X_train, X_validacao, y_train, y_val = train_test_split(X_treino, y_treino, test_size = 0.25, random_state = 42)\n",
    "\n",
    "# Impressão dos formatos dos conjuntos\n",
    "print(\"Tamanho de X_treino:\", X_train.shape)\n",
    "print(\"Tamanho de X_validacao:\", X_validacao.shape)\n",
    "print(\"Tamanho de y_treino:\", y_train.shape)\n",
    "print(\"Tamanho de y_validacao:\", y_val.shape)"
   ]
  },
  {
   "cell_type": "markdown",
   "metadata": {},
   "source": [
    "### 3. Melhores 3 variáveis\n",
    "\n",
    "Rode uma árvore com profundidade máxima igual a 4 para prever a atividade humana com todas as variáveis.\n",
    "Observe a importância das variáveis e considere as 3 variáveis com maior importância para os próximos passos.\n",
    "Dica: utilize o atributo ```clf.feature_importances_``` da árvore treinada."
   ]
  },
  {
   "cell_type": "code",
   "execution_count": 3,
   "metadata": {},
   "outputs": [
    {
     "name": "stdout",
     "output_type": "stream",
     "text": [
      "Wall time: 2min 37s\n"
     ]
    },
    {
     "data": {
      "text/plain": [
       "338 fBodyAcc-bandsEnergy()-57,64    0.2\n",
       "294 fBodyAcc-meanFreq()-X           0.2\n",
       "154 tBodyGyro-arCoeff()-Z,1         0.2\n",
       "dtype: float64"
      ]
     },
     "execution_count": 3,
     "metadata": {},
     "output_type": "execute_result"
    }
   ],
   "source": [
    "%%time\n",
    "\n",
    "top_3 = []\n",
    "\n",
    "# Rodando a árvore requisitada\n",
    "clf = DecisionTreeClassifier(random_state = 42, max_depth = 4).fit(X_train, y_train)\n",
    "\n",
    "# Coletando o TOP 3 importancias\n",
    "importancias = pd.Series(clf.feature_importances_, index = X_train.columns)\n",
    "importancias.sort_values(ascending = False, inplace = True)\n",
    "top_3 = importancias.index[:3]\n",
    "\n",
    "importancias.head(3)"
   ]
  },
  {
   "cell_type": "markdown",
   "metadata": {},
   "source": [
    "### 4. Construa uma árvore com as 3 melhores variáveis\n",
    "\n",
    "Utilizando as três variáveis encontradas acima, construa uma árvore de decisão. Encontre o melhor ```ccp_alpha``` utilizando a base de validação, conforme a estrutura que vimos em aula."
   ]
  },
  {
   "cell_type": "code",
   "execution_count": 6,
   "metadata": {},
   "outputs": [
    {
     "name": "stdout",
     "output_type": "stream",
     "text": [
      "Acurácia:  100.0 %\n",
      "Wall time: 6min 48s\n"
     ]
    },
    {
     "data": {
      "text/plain": [
       "DecisionTreeClassifier(random_state=42)"
      ]
     },
     "execution_count": 6,
     "metadata": {},
     "output_type": "execute_result"
    }
   ],
   "source": [
    "%%time\n",
    "\n",
    "X_train_3 = X_train[top_3]\n",
    "X_val_3 = X_validacao[top_3]\n",
    "X_teste_3 = X_teste[top_3]\n",
    "\n",
    "path = DecisionTreeClassifier(random_state = 42).cost_complexity_pruning_path(X_train_3, y_train)\n",
    "ccp_alphas = path.ccp_alphas\n",
    "\n",
    "ccp_alphas = ccp_alphas[::5]\n",
    "\n",
    "clfs = []\n",
    "for ccp_alpha in ccp_alphas:\n",
    "    clf = DecisionTreeClassifier(random_state = 42, ccp_alpha = ccp_alpha).fit(X_val_3, y_val)\n",
    "    clfs.append(clf)\n",
    "\n",
    "val_scores = [clf.score(X_val_3, y_val) for clf in clfs]\n",
    "\n",
    "ind_melhor_arvore = len(val_scores) - val_scores[::-1].index(max(val_scores)) - 1\n",
    "melhor_arvore = clfs[ind_melhor_arvore]\n",
    "\n",
    "acuracia_valid = melhor_arvore.score(X_val_3, y_val)\n",
    "\n",
    "print(f'Acurácia: {acuracia_valid * 100: .1f} %')\n",
    "melhor_arvore"
   ]
  },
  {
   "cell_type": "markdown",
   "metadata": {},
   "source": [
    "### 5. Avaliação do modelo\n",
    "\n",
    "Avalie a árvore encontrada no item anterior na base de testes."
   ]
  },
  {
   "cell_type": "code",
   "execution_count": 7,
   "metadata": {},
   "outputs": [
    {
     "name": "stdout",
     "output_type": "stream",
     "text": [
      "Acurácia:  0.0 %\n"
     ]
    }
   ],
   "source": [
    "acuracia_teste = melhor_arvore.score(X_teste_3, y_teste)\n",
    "\n",
    "print(f'Acurácia: {acuracia_teste * 100: .1f} %')"
   ]
  },
  {
   "cell_type": "markdown",
   "metadata": {},
   "source": [
    "> Apesar de fazer e refazer a tarefa algumas vezes, não entendo o porquê de obter 100% e 0% de acurácia, respectivamente, nos conjuntos Treino/Validação e no Teste.\n",
    "\n",
    "> Mesmo entendendo que isso por ser um <i>overfit</i> do ccp_alpha, o Cross-Validation tem o ideal de evitar isso, no entanto, nao consigo descobrir o porquê. Alterei conjuntos utilizados no fit da Árvore, alterei seed, alterei cortes de ccp_alpha...\n",
    "\n",
    "> Talvez seja um equívoco meu durante a interpretação do Módulo, uma vez que perdi as contas das vezes que o professor menciona \"treino\" e esta se referindo a \"validação\", ou algo assim. Sinto que o mesmo deve ter acontecido nos enunciados do exercicio.\n",
    "\n",
    "> Ainda sim, sinto também que há um certo \"vão de aprendizado\" entre o proposto em aula e na tarefa, diferentemente do que há na maioria dos módulos anteriores."
   ]
  }
 ],
 "metadata": {
  "kernelspec": {
   "display_name": "Python 3 (ipykernel)",
   "language": "python",
   "name": "python3"
  },
  "language_info": {
   "codemirror_mode": {
    "name": "ipython",
    "version": 3
   },
   "file_extension": ".py",
   "mimetype": "text/x-python",
   "name": "python",
   "nbconvert_exporter": "python",
   "pygments_lexer": "ipython3",
   "version": "3.9.13"
  }
 },
 "nbformat": 4,
 "nbformat_minor": 4
}
