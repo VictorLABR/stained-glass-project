{
 "cells": [
  {
   "cell_type": "markdown",
   "metadata": {},
   "source": [
    "# Árvores II - Tarefa 2"
   ]
  },
  {
   "cell_type": "markdown",
   "metadata": {},
   "source": [
    "### 1. Carregar as bases\n",
    "\n",
    "Vamos carregar as bases lidas na tarefa passada. Se você salvou essas bases em arquivo texto, basta fazer a leitura com o comando ```pd.read_csv``` das seguintes bases:\n",
    "\n",
    "- X_train\n",
    "- Y_train\n",
    "- X_test\n",
    "- Y_test\n",
    "\n",
    "Não se esqueça de considerar a leitura dos índices dos arquivos no ```read_csv()```!"
   ]
  },
  {
   "cell_type": "code",
   "execution_count": 1,
   "metadata": {},
   "outputs": [
    {
     "name": "stdout",
     "output_type": "stream",
     "text": [
      "Tamanho de X_treino: (7352, 561)\n",
      "Tamanho de X_teste: (2947, 561)\n",
      "Tamanho de y_treino: (7352, 1)\n",
      "Tamanho de y_teste: (2947, 1)\n"
     ]
    }
   ],
   "source": [
    "# Trecho de importações\n",
    "import warnings\n",
    "import pandas as pd\n",
    "import seaborn as sns\n",
    "import matplotlib.pyplot as plt\n",
    "import numpy as np\n",
    "\n",
    "warnings.filterwarnings(\"ignore\", category=FutureWarning)\n",
    "\n",
    "from sklearn.tree import DecisionTreeClassifier\n",
    "from sklearn.metrics import accuracy_score\n",
    "from sklearn.model_selection import train_test_split\n",
    "from sklearn.metrics import plot_confusion_matrix\n",
    "\n",
    "# Trecho de leitura dos arquivos a serem utilizados\n",
    "X_treino = pd.read_csv('X_treino.csv', index_col = [0, 1])\n",
    "X_teste = pd.read_csv('X_teste.csv', index_col = [0, 1])\n",
    "y_treino = pd.read_csv('y_treino.csv', index_col=[0])\n",
    "y_teste = pd.read_csv('y_teste.csv', index_col=[0])\n",
    "\n",
    "# Impressão dos formatos dos conjuntos\n",
    "print(\"Tamanho de X_treino:\", X_treino.shape)\n",
    "print(\"Tamanho de X_teste:\", X_teste.shape)\n",
    "print(\"Tamanho de y_treino:\", y_treino.shape)\n",
    "print(\"Tamanho de y_teste:\", y_teste.shape)"
   ]
  },
  {
   "cell_type": "markdown",
   "metadata": {},
   "source": [
    "### 2. Divisão da base em Treino, Validação e Teste\n",
    "\n",
    "A base já se encontra dividida em Treino e Validação. O que vamos fazer então é extrair uma base de Validação da base de Treino.\n",
    "\n",
    "Extraia 25% da base de treino como base de validação."
   ]
  },
  {
   "cell_type": "code",
   "execution_count": 2,
   "metadata": {},
   "outputs": [
    {
     "name": "stdout",
     "output_type": "stream",
     "text": [
      "Tamanho de X_treino: (5514, 561)\n",
      "Tamanho de X_validacao: (1838, 561)\n",
      "Tamanho de y_treino: (5514, 1)\n",
      "Tamanho de y_validacao: (1838, 1)\n"
     ]
    }
   ],
   "source": [
    "# Extraindo conjuntos de validação de dentro dos treinamentos\n",
    "X_train, X_validacao, y_train, y_val = train_test_split(X_treino, y_treino, test_size = 0.25, random_state = 42)\n",
    "\n",
    "# Impressão dos formatos dos conjuntos\n",
    "print(\"Tamanho de X_treino:\", X_train.shape)\n",
    "print(\"Tamanho de X_validacao:\", X_validacao.shape)\n",
    "print(\"Tamanho de y_treino:\", y_train.shape)\n",
    "print(\"Tamanho de y_validacao:\", y_val.shape)"
   ]
  },
  {
   "cell_type": "markdown",
   "metadata": {},
   "source": [
    "### 3. Melhores 3 variáveis\n",
    "\n",
    "Rode uma árvore com profundidade máxima igual a 4 para prever a atividade humana com todas as variáveis.\n",
    "Observe a importância das variáveis e considere as 3 variáveis com maior importância para os próximos passos.\n",
    "Dica: utilize o atributo ```clf.feature_importances_``` da árvore treinada."
   ]
  },
  {
   "cell_type": "code",
   "execution_count": 3,
   "metadata": {},
   "outputs": [
    {
     "name": "stdout",
     "output_type": "stream",
     "text": [
      "Wall time: 1.53 s\n"
     ]
    },
    {
     "data": {
      "text/plain": [
       "array(['560 angle(Y,gravityMean)', '382 fBodyAccJerk-bandsEnergy()-1,8',\n",
       "       '53 tGravityAcc-min()-X'], dtype=object)"
      ]
     },
     "execution_count": 3,
     "metadata": {},
     "output_type": "execute_result"
    }
   ],
   "source": [
    "%%time\n",
    "\n",
    "clf = DecisionTreeClassifier(max_depth = 4).fit(X_train, y_train)\n",
    "importances = clf.feature_importances_\n",
    "\n",
    "sorted_indices = np.argsort(importances)\n",
    "features = np.array(X_train.columns)[[sorted_indices[-3:]]]\n",
    "\n",
    "features"
   ]
  },
  {
   "cell_type": "markdown",
   "metadata": {},
   "source": [
    "> **Por que fica mudando o TOP 3 todas as vezes que rodo essa célula? Não deveria ser sempre os 3 mesmos?**"
   ]
  },
  {
   "cell_type": "markdown",
   "metadata": {},
   "source": [
    "### 4. Construa uma árvore com as 3 melhores variáveis\n",
    "\n",
    "Utilizando as três variáveis encontradas acima, construa uma árvore de decisão. Encontre o melhor ```ccp_alpha``` utilizando a base de validação, conforme a estrutura que vimos em aula."
   ]
  },
  {
   "cell_type": "code",
   "execution_count": 4,
   "metadata": {},
   "outputs": [
    {
     "data": {
      "text/html": [
       "<div>\n",
       "<style scoped>\n",
       "    .dataframe tbody tr th:only-of-type {\n",
       "        vertical-align: middle;\n",
       "    }\n",
       "\n",
       "    .dataframe tbody tr th {\n",
       "        vertical-align: top;\n",
       "    }\n",
       "\n",
       "    .dataframe thead th {\n",
       "        text-align: right;\n",
       "    }\n",
       "</style>\n",
       "<table border=\"1\" class=\"dataframe\">\n",
       "  <thead>\n",
       "    <tr style=\"text-align: right;\">\n",
       "      <th></th>\n",
       "      <th></th>\n",
       "      <th>560 angle(Y,gravityMean)</th>\n",
       "      <th>382 fBodyAccJerk-bandsEnergy()-1,8</th>\n",
       "      <th>53 tGravityAcc-min()-X</th>\n",
       "    </tr>\n",
       "    <tr>\n",
       "      <th></th>\n",
       "      <th>indicador_individuo</th>\n",
       "      <th></th>\n",
       "      <th></th>\n",
       "      <th></th>\n",
       "    </tr>\n",
       "  </thead>\n",
       "  <tbody>\n",
       "    <tr>\n",
       "      <th>6593</th>\n",
       "      <th>28</th>\n",
       "      <td>0.257591</td>\n",
       "      <td>-0.562317</td>\n",
       "      <td>0.909123</td>\n",
       "    </tr>\n",
       "    <tr>\n",
       "      <th>3519</th>\n",
       "      <th>17</th>\n",
       "      <td>-0.540630</td>\n",
       "      <td>-0.999995</td>\n",
       "      <td>-0.168695</td>\n",
       "    </tr>\n",
       "    <tr>\n",
       "      <th>4376</th>\n",
       "      <th>22</th>\n",
       "      <td>0.217049</td>\n",
       "      <td>-0.999988</td>\n",
       "      <td>0.979529</td>\n",
       "    </tr>\n",
       "    <tr>\n",
       "      <th>4294</th>\n",
       "      <th>21</th>\n",
       "      <td>-0.362547</td>\n",
       "      <td>-0.999924</td>\n",
       "      <td>-0.192011</td>\n",
       "    </tr>\n",
       "    <tr>\n",
       "      <th>29</th>\n",
       "      <th>1</th>\n",
       "      <td>-0.021567</td>\n",
       "      <td>-0.999995</td>\n",
       "      <td>0.850499</td>\n",
       "    </tr>\n",
       "    <tr>\n",
       "      <th>...</th>\n",
       "      <th>...</th>\n",
       "      <td>...</td>\n",
       "      <td>...</td>\n",
       "      <td>...</td>\n",
       "    </tr>\n",
       "    <tr>\n",
       "      <th>5191</th>\n",
       "      <th>25</th>\n",
       "      <td>0.159112</td>\n",
       "      <td>-0.939434</td>\n",
       "      <td>0.929265</td>\n",
       "    </tr>\n",
       "    <tr>\n",
       "      <th>5226</th>\n",
       "      <th>25</th>\n",
       "      <td>0.106156</td>\n",
       "      <td>-0.824835</td>\n",
       "      <td>0.895652</td>\n",
       "    </tr>\n",
       "    <tr>\n",
       "      <th>5390</th>\n",
       "      <th>25</th>\n",
       "      <td>0.183547</td>\n",
       "      <td>-0.954805</td>\n",
       "      <td>0.980335</td>\n",
       "    </tr>\n",
       "    <tr>\n",
       "      <th>860</th>\n",
       "      <th>5</th>\n",
       "      <td>0.081388</td>\n",
       "      <td>-0.999997</td>\n",
       "      <td>0.975233</td>\n",
       "    </tr>\n",
       "    <tr>\n",
       "      <th>7270</th>\n",
       "      <th>30</th>\n",
       "      <td>0.188226</td>\n",
       "      <td>-0.846094</td>\n",
       "      <td>0.971153</td>\n",
       "    </tr>\n",
       "  </tbody>\n",
       "</table>\n",
       "<p>5514 rows × 3 columns</p>\n",
       "</div>"
      ],
      "text/plain": [
       "                          560 angle(Y,gravityMean)  \\\n",
       "     indicador_individuo                             \n",
       "6593 28                                   0.257591   \n",
       "3519 17                                  -0.540630   \n",
       "4376 22                                   0.217049   \n",
       "4294 21                                  -0.362547   \n",
       "29   1                                   -0.021567   \n",
       "...                                            ...   \n",
       "5191 25                                   0.159112   \n",
       "5226 25                                   0.106156   \n",
       "5390 25                                   0.183547   \n",
       "860  5                                    0.081388   \n",
       "7270 30                                   0.188226   \n",
       "\n",
       "                          382 fBodyAccJerk-bandsEnergy()-1,8  \\\n",
       "     indicador_individuo                                       \n",
       "6593 28                                            -0.562317   \n",
       "3519 17                                            -0.999995   \n",
       "4376 22                                            -0.999988   \n",
       "4294 21                                            -0.999924   \n",
       "29   1                                             -0.999995   \n",
       "...                                                      ...   \n",
       "5191 25                                            -0.939434   \n",
       "5226 25                                            -0.824835   \n",
       "5390 25                                            -0.954805   \n",
       "860  5                                             -0.999997   \n",
       "7270 30                                            -0.846094   \n",
       "\n",
       "                          53 tGravityAcc-min()-X  \n",
       "     indicador_individuo                          \n",
       "6593 28                                 0.909123  \n",
       "3519 17                                -0.168695  \n",
       "4376 22                                 0.979529  \n",
       "4294 21                                -0.192011  \n",
       "29   1                                  0.850499  \n",
       "...                                          ...  \n",
       "5191 25                                 0.929265  \n",
       "5226 25                                 0.895652  \n",
       "5390 25                                 0.980335  \n",
       "860  5                                  0.975233  \n",
       "7270 30                                 0.971153  \n",
       "\n",
       "[5514 rows x 3 columns]"
      ]
     },
     "execution_count": 4,
     "metadata": {},
     "output_type": "execute_result"
    }
   ],
   "source": [
    "X_train_best = X_train.iloc[:,sorted_indices[-3:]]\n",
    "X_valid_best = X_validacao.iloc[:,sorted_indices[-3:]]\n",
    "X_test_best = X_teste.iloc[:,sorted_indices[-3:]]\n",
    "\n",
    "X_train_best"
   ]
  },
  {
   "cell_type": "code",
   "execution_count": 5,
   "metadata": {},
   "outputs": [
    {
     "name": "stdout",
     "output_type": "stream",
     "text": [
      "Wall time: 24.5 ms\n"
     ]
    },
    {
     "data": {
      "text/plain": [
       "array([0.00000000e+00, 1.45085238e-04, 1.48382629e-04, 1.51680021e-04,\n",
       "       1.58686979e-04, 1.63220892e-04, 1.66243501e-04, 1.69266111e-04,\n",
       "       1.71811466e-04, 1.74846312e-04, 1.76318865e-04, 1.77934725e-04,\n",
       "       1.79893994e-04, 1.81356547e-04, 1.97843506e-04, 2.04607386e-04,\n",
       "       2.22161770e-04, 2.37158561e-04, 2.41808729e-04, 2.41808729e-04,\n",
       "       2.46846411e-04, 2.60493949e-04, 2.71479841e-04, 2.72034820e-04,\n",
       "       2.82110184e-04, 2.88310408e-04, 2.90170475e-04, 2.90353664e-04,\n",
       "       3.03124514e-04, 3.10896938e-04, 3.17373957e-04, 3.29032592e-04,\n",
       "       3.33847177e-04, 3.48647591e-04, 3.62713094e-04, 3.80100293e-04,\n",
       "       4.11775328e-04, 4.14529250e-04, 4.32773847e-04, 4.55306312e-04,\n",
       "       4.89662677e-04, 5.33365065e-04, 5.70630992e-04, 6.21793875e-04,\n",
       "       6.60757248e-04, 7.63146761e-04, 8.39524094e-04, 8.70511425e-04,\n",
       "       9.37302583e-04, 1.16167919e-03, 1.36460182e-03, 1.57890938e-03,\n",
       "       2.21225135e-03, 2.89871137e-03, 3.40804409e-03, 9.71672876e-03,\n",
       "       1.87299386e-01])"
      ]
     },
     "execution_count": 5,
     "metadata": {},
     "output_type": "execute_result"
    }
   ],
   "source": [
    "%%time\n",
    "\n",
    "path = DecisionTreeClassifier(random_state = 42).cost_complexity_pruning_path(X_train_best, y_train)\n",
    "ccp_alphas = path.ccp_alphas\n",
    "ccp_alphas = ccp_alphas[::5]\n",
    "\n",
    "ccp_alphas # Exibindo todos valores"
   ]
  },
  {
   "cell_type": "code",
   "execution_count": 6,
   "metadata": {},
   "outputs": [
    {
     "data": {
      "image/png": "[encoded data removed]",
      "text/plain": [
       "<Figure size 640x480 with 1 Axes>"
      ]
     },
     "metadata": {},
     "output_type": "display_data"
    },
    {
     "name": "stdout",
     "output_type": "stream",
     "text": [
      "Wall time: 8.4 s\n"
     ]
    },
    {
     "data": {
      "text/plain": [
       "DecisionTreeClassifier(ccp_alpha=0.0003618421726719254, random_state=42)"
      ]
     },
     "execution_count": 6,
     "metadata": {},
     "output_type": "execute_result"
    }
   ],
   "source": [
    "%%time\n",
    "\n",
    "path = DecisionTreeClassifier(random_state=42).cost_complexity_pruning_path(X_train_best, y_train)\n",
    "ccp_alphas = path.ccp_alphas\n",
    "\n",
    "clfs = []\n",
    "for ccp_alpha in ccp_alphas:\n",
    "    clf = DecisionTreeClassifier(random_state=42, ccp_alpha=ccp_alpha).fit(X_train_best, y_train)\n",
    "    clfs.append(clf)\n",
    "\n",
    "train_scores = [clf.score(X_train_best, y_train) for clf in clfs]\n",
    "valid_scores = [clf.score(X_valid_best, y_val) for clf in clfs]\n",
    "\n",
    "fig, ax = plt.subplots()\n",
    "ax.set_xlabel(\"Alpha\")\n",
    "ax.set_ylabel(\"Acurácia\")\n",
    "ax.set_title(\"Acurácia por Alpha - Conjuntos de Treino X Validação\")\n",
    "ax.plot(ccp_alphas, train_scores, marker='o', label=\"validação\",\n",
    "        drawstyle=\"steps-post\")\n",
    "ax.plot(ccp_alphas, valid_scores, marker='o', label=\"teste\",\n",
    "        drawstyle=\"steps-post\")\n",
    "\n",
    "ax.legend()\n",
    "plt.show()\n",
    "\n",
    "index_clf = len(valid_scores) - valid_scores[::-1].index(max(valid_scores)) - 1\n",
    "best_clf = clfs[index_clf]\n",
    "best_clf"
   ]
  },
  {
   "cell_type": "markdown",
   "metadata": {},
   "source": [
    "### 5. Avaliação do modelo\n",
    "\n",
    "Avalie a árvore encontrada no item anterior na base de testes."
   ]
  },
  {
   "cell_type": "code",
   "execution_count": 7,
   "metadata": {},
   "outputs": [
    {
     "name": "stdout",
     "output_type": "stream",
     "text": [
      "Acurácia:  74.5 %\n"
     ]
    }
   ],
   "source": [
    "score = best_clf.score(X_test_best, y_teste)\n",
    "\n",
    "print(f'Acurácia: {score * 100: .1f} %')"
   ]
  }
 ],
 "metadata": {
  "kernelspec": {
   "display_name": "Python 3 (ipykernel)",
   "language": "python",
   "name": "python3"
  },
  "language_info": {
   "codemirror_mode": {
    "name": "ipython",
    "version": 3
   },
   "file_extension": ".py",
   "mimetype": "text/x-python",
   "name": "python",
   "nbconvert_exporter": "python",
   "pygments_lexer": "ipython3",
   "version": "3.9.13"
  }
 },
 "nbformat": 4,
 "nbformat_minor": 4
}
