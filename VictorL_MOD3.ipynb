{
  "nbformat": 4,
  "nbformat_minor": 0,
  "metadata": {
    "colab": {
      "provenance": []
    },
    "kernelspec": {
      "name": "python3",
      "display_name": "Python 3"
    },
    "language_info": {
      "name": "python"
    }
  },
  "cells": [
    {
      "cell_type": "markdown",
      "source": [
        "Exercício 1: Na lista abaixo, estão presente os dados de usuários que acessaram um determinado site e se o mesmo clicou em uma propaganda. **Imprime** os seguintes valores da lista: **tempo_gasto_site** e **idade**\n",
        "\n",
        "**Dica*: Utilize os conceitos de chave e valor de elementos de uma lista para selecionar os valores de uma chave (lista[chave])."
      ],
      "metadata": {
        "id": "J7BXldjvC0r9"
      }
    },
    {
      "cell_type": "code",
      "execution_count": 1,
      "metadata": {
        "id": "tYB06yPW7uDy",
        "colab": {
          "base_uri": "https://localhost:8080/"
        },
        "outputId": "5c4f7432-31b7-40da-ca3c-eb8d9226acab"
      },
      "outputs": [
        {
          "output_type": "stream",
          "name": "stdout",
          "text": [
            "Tempo gasto no site: 68.95s\n",
            "Idade do usuário: 35 anos\n",
            "\n",
            "\n",
            "Tempo gasto no site: 80.23s\n",
            "Idade do usuário: 31 anos\n",
            "\n",
            "\n",
            "Tempo gasto no site: 69.47s\n",
            "Idade do usuário: 26 anos\n",
            "\n",
            "\n",
            "Tempo gasto no site: 68.37s\n",
            "Idade do usuário: 35 anos\n",
            "\n",
            "\n",
            "Tempo gasto no site: 88.91s\n",
            "Idade do usuário: 33 anos\n",
            "\n",
            "\n",
            "Tempo gasto no site: Nones\n",
            "Idade do usuário: 48 anos\n",
            "\n",
            "\n",
            "Tempo gasto no site: 74.53s\n",
            "Idade do usuário: 30 anos\n",
            "\n",
            "\n",
            "Tempo gasto no site: 69.88s\n",
            "Idade do usuário: 20 anos\n",
            "\n",
            "\n"
          ]
        }
      ],
      "source": [
        "propaganda_online = [\n",
        "  {'tempo_gasto_site': 68.95, 'idade': 35, 'renda_area': 61833.90, 'tempo_gasto_internet': 256.09, 'cidade': 'Wrightburgh', 'pais': 'Tunisia', 'clicou_no_ad': 0},\n",
        "  {'tempo_gasto_site': 80.23, 'idade': 31, 'renda_area': 68441.85, 'tempo_gasto_internet': 193.77, 'cidade': 'West Jodi', 'pais': 'Nauru', 'clicou_no_ad': 0},\n",
        "  {'tempo_gasto_site': 69.47, 'idade': 26, 'renda_area': 59785.94, 'tempo_gasto_internet': 236.50, 'cidade': 'Davidton', 'pais': 'San Marino', 'clicou_no_ad': 0},\n",
        "  {'tempo_gasto_site': 68.37, 'idade': 35, 'renda_area': 73889.99, 'tempo_gasto_internet': 225.58, 'cidade': 'South Manuel', 'pais': 'Iceland', 'clicou_no_ad': 0},\n",
        "  {'tempo_gasto_site': 88.91, 'idade': 33, 'renda_area': 53852.85, 'tempo_gasto_internet': 208.36, 'cidade': 'Brandonstad', 'pais': 'Myanmar', 'clicou_no_ad': 0},\n",
        "  {'tempo_gasto_site': None, 'idade': 48, 'renda_area': 24593.33, 'tempo_gasto_internet': 131.76, 'cidade': 'Port Jefferybury', 'pais': 'Australia', 'clicou_no_ad': 1},\n",
        "  {'tempo_gasto_site': 74.53, 'idade': 30, 'renda_area': 68862.00, 'tempo_gasto_internet': 221.51, 'cidade': 'West Colin', 'pais': 'Grenada','clicou_no_ad': 1},\n",
        "  {'tempo_gasto_site': 69.88, 'idade': 20, 'renda_area': 55642.32, 'tempo_gasto_internet': 183.82, 'cidade': 'Ramirezton', 'pais': 'Ghana', 'clicou_no_ad': 0}\n",
        "]\n",
        "\n",
        "for dado_de_usuario in propaganda_online:\n",
        "    print('Tempo gasto no site: '+str(dado_de_usuario['tempo_gasto_site'])+'s')\n",
        "    print('Idade do usuário: '+str(dado_de_usuario['idade'])+' anos')\n",
        "    print('\\n')"
      ]
    },
    {
      "cell_type": "markdown",
      "source": [
        "Exercício 2: Utilize a estrutura **if/else** para imprimir a **cidade** dos usuários que gastaram mais de **100 horas** de tempo na **internet**.\n",
        "\n",
        "**Dica*: Após a iteração dos elementos da lista (Através da estrutura condicional FOR), utilize a estrutura if/else para criar a condição dos valores da chave tempo_gasto_internet."
      ],
      "metadata": {
        "id": "1hW1AuITGjhv"
      }
    },
    {
      "cell_type": "code",
      "source": [
        "for dado_de_usuario in propaganda_online:\n",
        "  if (dado_de_usuario['tempo_gasto_internet'] >= 100):\n",
        "    print('Um usuário que gastou MAIS do que cem horas na internet, reside em '+str(dado_de_usuario['cidade'])+'.')\n",
        "  else:\n",
        "    print('Um usuário que gastou menos que cem horas na internet, reside em '+str(dado_de_usuario['cidade'])+'.')"
      ],
      "metadata": {
        "colab": {
          "base_uri": "https://localhost:8080/"
        },
        "id": "IEA_Ho7qGx6P",
        "outputId": "4fa3377a-b42e-47d8-ef74-161606ff8acb"
      },
      "execution_count": 2,
      "outputs": [
        {
          "output_type": "stream",
          "name": "stdout",
          "text": [
            "Um usuário que gastou MAIS do que cem horas na internet, reside em Wrightburgh.\n",
            "Um usuário que gastou MAIS do que cem horas na internet, reside em West Jodi.\n",
            "Um usuário que gastou MAIS do que cem horas na internet, reside em Davidton.\n",
            "Um usuário que gastou MAIS do que cem horas na internet, reside em South Manuel.\n",
            "Um usuário que gastou MAIS do que cem horas na internet, reside em Brandonstad.\n",
            "Um usuário que gastou MAIS do que cem horas na internet, reside em Port Jefferybury.\n",
            "Um usuário que gastou MAIS do que cem horas na internet, reside em West Colin.\n",
            "Um usuário que gastou MAIS do que cem horas na internet, reside em Ramirezton.\n"
          ]
        }
      ]
    },
    {
      "cell_type": "markdown",
      "source": [
        "Exercício 3: Utilize a estrutura **try/except** para **imprimir** as **cidades** dos usuários que passaram **mais de 70 segundos no site**.\n",
        "\n",
        "**Dica*: Realize o tratamento de exceções dentro da execução da iteração dos elementos da lista."
      ],
      "metadata": {
        "id": "h19mxOnKNQva"
      }
    },
    {
      "cell_type": "code",
      "source": [
        "for dado_de_usuario in propaganda_online:\n",
        "  try:\n",
        "    dado_de_usuario['tempo_gasto_site'] > 70.00\n",
        "    print('Este usuário reside em '+str(dado_de_usuario['cidade'])+', passando mais do que 70s no site.')\n",
        "  except TypeError:\n",
        "    dado_de_usuario['tempo_gasto_site']=0\n",
        "    print('* * * Usuário gastou MENOS do que setenta segundos no site e reside em '+str(dado_de_usuario['cidade'])+'. * * *')"
      ],
      "metadata": {
        "colab": {
          "base_uri": "https://localhost:8080/"
        },
        "id": "4OAAUwL2NbNo",
        "outputId": "4b1f4126-ef03-4964-e10e-72bbcf846780"
      },
      "execution_count": 3,
      "outputs": [
        {
          "output_type": "stream",
          "name": "stdout",
          "text": [
            "Este usuário reside em Wrightburgh, passando mais do que 70s no site.\n",
            "Este usuário reside em West Jodi, passando mais do que 70s no site.\n",
            "Este usuário reside em Davidton, passando mais do que 70s no site.\n",
            "Este usuário reside em South Manuel, passando mais do que 70s no site.\n",
            "Este usuário reside em Brandonstad, passando mais do que 70s no site.\n",
            "* * * Usuário gastou MENOS do que setenta segundos no site e reside em Port Jefferybury. * * *\n",
            "Este usuário reside em West Colin, passando mais do que 70s no site.\n",
            "Este usuário reside em Ramirezton, passando mais do que 70s no site.\n"
          ]
        }
      ]
    },
    {
      "cell_type": "markdown",
      "source": [
        "BÔNUS 1: Crie uma **lista** chamada ***paises*** com o país dos usuários com **mais de 30 anos**.\n",
        "\n",
        "**Dica*: Para armazenar os países dos usuários na lista paises utilize o método append()."
      ],
      "metadata": {
        "id": "g4T8cHQXcfTE"
      }
    },
    {
      "cell_type": "code",
      "source": [
        "paises=[]\n",
        "\n",
        "for dado_de_usuario in propaganda_online:\n",
        "  if (dado_de_usuario['idade'] > 30):\n",
        "    paises.append(dado_de_usuario['cidade'])\n",
        "\n",
        "print(paises)"
      ],
      "metadata": {
        "colab": {
          "base_uri": "https://localhost:8080/"
        },
        "id": "Zu7QJbhacrLq",
        "outputId": "860d9ed3-6060-4a40-8ac1-f306502592a9"
      },
      "execution_count": 4,
      "outputs": [
        {
          "output_type": "stream",
          "name": "stdout",
          "text": [
            "['Wrightburgh', 'West Jodi', 'South Manuel', 'Brandonstad', 'Port Jefferybury']\n"
          ]
        }
      ]
    },
    {
      "cell_type": "markdown",
      "source": [
        "BÔNUS 2: Crie uma lista chamada **leads** com a **renda dos usuários** que **clicaram na propaganda**.\n",
        "\n",
        "**Dica*: Para armazenar a renda dos usuários na lista leads utilize o método append()"
      ],
      "metadata": {
        "id": "Kkh8zq91dck8"
      }
    },
    {
      "cell_type": "code",
      "source": [
        "leads=[]\n",
        "\n",
        "for dado_de_usuario in propaganda_online:\n",
        "  if (dado_de_usuario['clicou_no_ad'] > 0):\n",
        "    leads.append(dado_de_usuario['renda_area'])\n",
        "\n",
        "print(leads)"
      ],
      "metadata": {
        "colab": {
          "base_uri": "https://localhost:8080/"
        },
        "id": "XzDDRy-PeBuO",
        "outputId": "717c7ae9-677b-49f0-e136-22ddfb4c7945"
      },
      "execution_count": 5,
      "outputs": [
        {
          "output_type": "stream",
          "name": "stdout",
          "text": [
            "[24593.33, 68862.0]\n"
          ]
        }
      ]
    }
  ]
}