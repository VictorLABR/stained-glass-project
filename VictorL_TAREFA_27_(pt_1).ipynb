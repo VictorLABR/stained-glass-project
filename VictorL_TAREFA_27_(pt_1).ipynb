{
  "cells": [
    {
      "cell_type": "markdown",
      "metadata": {
        "id": "xJlIQKTQcW0x"
      },
      "source": [
        "![Cabec%CC%A7alho_notebook.png](cabecalho_notebook.png)"
      ]
    },
    {
      "cell_type": "markdown",
      "metadata": {
        "id": "rZcPz474cW0z"
      },
      "source": [
        "# PCA - Tarefa 01: *HAR* com PCA\n",
        "\n",
        "Vamos trabalhar com a base da demonstração feita em aula, mas vamos explorar um pouco melhor como é o desempenho da árvore variando o número de componentes principais."
      ]
    },
    {
      "cell_type": "code",
      "source": [
        "########## IMPORTATIONS BLOCK ##########\n",
        "\n",
        "import time\n",
        "import pandas as pd\n",
        "import plotly.graph_objects as go\n",
        "\n",
        "from sklearn.tree import DecisionTreeClassifier\n",
        "from sklearn.decomposition import PCA\n",
        "from sklearn.metrics import accuracy_score\n",
        "from sklearn.model_selection import cross_val_score\n",
        "from sklearn.model_selection import GridSearchCV"
      ],
      "metadata": {
        "id": "lAF87tXt1Xvw"
      },
      "execution_count": 1,
      "outputs": []
    },
    {
      "cell_type": "code",
      "execution_count": 2,
      "metadata": {
        "id": "HXMdRoopcW00"
      },
      "outputs": [],
      "source": [
        "########## FILE OPENING BLOCK (USING GOOGLE COLAB) ##########\n",
        "\n",
        "filename_features = \"features.txt\"\n",
        "filename_labels = \"activity_labels.txt\"\n",
        "filename_subtrain = \"subject_train.txt\"\n",
        "filename_xtrain = \"X_train.txt\"\n",
        "filename_ytrain = \"y_train.txt\"\n",
        "filename_subtest = \"subject_test.txt\"\n",
        "filename_xtest = \"X_test.txt\"\n",
        "filename_ytest = \"y_test.txt\"\n",
        "\n",
        "########## FILE READING BLOCK ##########\n",
        "\n",
        "features = pd.read_csv(filename_features, header=None, names=['nome_var'], sep=\"#\").squeeze(\"columns\")\n",
        "labels = pd.read_csv(filename_labels, delim_whitespace=True, header=None, names=['cod_label', 'label'])\n",
        "\n",
        "subject_train = pd.read_csv(filename_subtrain, header=None, names=['subject_id']).squeeze(\"columns\")\n",
        "subject_test = pd.read_csv(filename_subtest, header=None, names=['subject_id']).squeeze(\"columns\")\n",
        "\n",
        "X_train = pd.read_csv(filename_xtrain, delim_whitespace=True, header=None, names=features.tolist())\n",
        "y_train = pd.read_csv(filename_ytrain, header=None, names=['cod_label'])\n",
        "X_test = pd.read_csv(filename_xtest, delim_whitespace=True, header=None, names=features.tolist())\n",
        "y_test = pd.read_csv(filename_ytest, header=None, names=['cod_label'])"
      ]
    },
    {
      "cell_type": "markdown",
      "metadata": {
        "id": "VQc8lJhfcW02"
      },
      "source": [
        "## Árvore de decisão\n",
        "\n",
        "Rode uma árvore de decisão com todas as variáveis, utilizando o ```ccp_alpha=0.001```. Avalie a acurácia nas bases de treinamento e teste. Avalie o tempo de processamento."
      ]
    },
    {
      "cell_type": "code",
      "execution_count": 3,
      "metadata": {
        "id": "xSogAFZHcW02",
        "colab": {
          "base_uri": "https://localhost:8080/"
        },
        "outputId": "06c4a16f-cce2-4482-b180-f2c9cfc06033"
      },
      "outputs": [
        {
          "output_type": "stream",
          "name": "stdout",
          "text": [
            "CPU times: user 6.96 s, sys: 19.9 ms, total: 6.98 s\n",
            "Wall time: 10.3 s\n",
            "Training accuracy:  97.6%\n",
            "Testing accuracy:  88.1%\n"
          ]
        }
      ],
      "source": [
        "# Model configuration\n",
        "tree = DecisionTreeClassifier(ccp_alpha=0.001)\n",
        "\n",
        "# Training & timing\n",
        "%time tree.fit(X_train, y_train)\n",
        "\n",
        "# Prediction & evaluation\n",
        "train_pred = tree.predict(X_train)\n",
        "test_pred = tree.predict(X_test)\n",
        "train_accuracy = accuracy_score(y_train, train_pred)\n",
        "test_accuracy = accuracy_score(y_test, test_pred)\n",
        "\n",
        "print(f\"Training accuracy: {train_accuracy * 100: .1f}%\")\n",
        "print(f\"Testing accuracy: {test_accuracy * 100: .1f}%\")"
      ]
    },
    {
      "cell_type": "markdown",
      "metadata": {
        "id": "wVgKIsVicW02"
      },
      "source": [
        "## Árvore com PCA\n",
        "\n",
        "Faça uma análise de componentes principais das variáveis originais. Utilize apenas uma componente. Faça uma árvore de decisão com esta componente como variável explicativa.\n",
        "\n",
        "- Avalie a acurácia nas bases de treinamento e teste\n",
        "- Avalie o tempo de processamento"
      ]
    },
    {
      "cell_type": "code",
      "execution_count": 4,
      "metadata": {
        "id": "Ygrlnp9ScW02",
        "colab": {
          "base_uri": "https://localhost:8080/"
        },
        "outputId": "fb191f25-c0a5-42fd-9f14-954ac34529d0"
      },
      "outputs": [
        {
          "output_type": "stream",
          "name": "stdout",
          "text": [
            "CPU times: user 119 ms, sys: 15.3 ms, total: 134 ms\n",
            "Wall time: 252 ms\n",
            "Training accuracy PCA (1 component):  50.0%\n",
            "Testing accuracy (1 component):  45.7%\n"
          ]
        }
      ],
      "source": [
        "# Performing PCA with only one component\n",
        "pca = PCA(n_components=1)\n",
        "X_train_pca = pca.fit_transform(X_train)\n",
        "X_test_pca = pca.transform(X_test)\n",
        "\n",
        "# Timming the training\n",
        "%time tree.fit(X_train_pca, y_train)\n",
        "\n",
        "# Prediction & evaluation\n",
        "train_pred_pca = tree.predict(X_train_pca)\n",
        "test_pred_pca = tree.predict(X_test_pca)\n",
        "train_accuracy_pca = accuracy_score(y_train, train_pred_pca)\n",
        "test_accuracy_pca = accuracy_score(y_test, test_pred_pca)\n",
        "\n",
        "print(f\"Training accuracy PCA (1 component): {train_accuracy_pca * 100: .1f}%\")\n",
        "print(f\"Testing accuracy (1 component): {test_accuracy_pca * 100: .1f}%\")"
      ]
    },
    {
      "cell_type": "markdown",
      "metadata": {
        "id": "TNATVpj0cW02"
      },
      "source": [
        "## Testando o número de componentes\n",
        "\n",
        "Com base no código acima, teste a árvore de classificação com pelo menos as seguintes possibilidades de quantidades de componentes: ```[1, 2, 5, 10, 50]```. Avalie para cada uma delas:\n",
        "\n",
        "- Acurácia nas bases de treino e teste\n",
        "- Tempo de processamento\n"
      ]
    },
    {
      "cell_type": "code",
      "execution_count": 7,
      "metadata": {
        "id": "7FZUMfzMcW02",
        "colab": {
          "base_uri": "https://localhost:8080/",
          "height": 238
        },
        "outputId": "51c49975-2603-4e6c-cf54-3632fb821d40"
      },
      "outputs": [
        {
          "output_type": "execute_result",
          "data": {
            "text/plain": [
              "<pandas.io.formats.style.Styler at 0x7b384c23eb30>"
            ],
            "text/html": [
              "<style type=\"text/css\">\n",
              "</style>\n",
              "<table id=\"T_0e40c\" class=\"dataframe\">\n",
              "  <thead>\n",
              "    <tr>\n",
              "      <th class=\"blank level0\" >&nbsp;</th>\n",
              "      <th id=\"T_0e40c_level0_col0\" class=\"col_heading level0 col0\" >Train Accuracy (%)</th>\n",
              "      <th id=\"T_0e40c_level0_col1\" class=\"col_heading level0 col1\" >Test Accuracy (%)</th>\n",
              "      <th id=\"T_0e40c_level0_col2\" class=\"col_heading level0 col2\" >Processing Time (s)</th>\n",
              "    </tr>\n",
              "    <tr>\n",
              "      <th class=\"index_name level0\" >Components</th>\n",
              "      <th class=\"blank col0\" >&nbsp;</th>\n",
              "      <th class=\"blank col1\" >&nbsp;</th>\n",
              "      <th class=\"blank col2\" >&nbsp;</th>\n",
              "    </tr>\n",
              "  </thead>\n",
              "  <tbody>\n",
              "    <tr>\n",
              "      <th id=\"T_0e40c_level0_row0\" class=\"row_heading level0 row0\" >1</th>\n",
              "      <td id=\"T_0e40c_row0_col0\" class=\"data row0 col0\" >49,97</td>\n",
              "      <td id=\"T_0e40c_row0_col1\" class=\"data row0 col1\" >45,71</td>\n",
              "      <td id=\"T_0e40c_row0_col2\" class=\"data row0 col2\" >0,30</td>\n",
              "    </tr>\n",
              "    <tr>\n",
              "      <th id=\"T_0e40c_level0_row1\" class=\"row_heading level0 row1\" >2</th>\n",
              "      <td id=\"T_0e40c_row1_col0\" class=\"data row1 col0\" >61,28</td>\n",
              "      <td id=\"T_0e40c_row1_col1\" class=\"data row1 col1\" >58,47</td>\n",
              "      <td id=\"T_0e40c_row1_col2\" class=\"data row1 col2\" >0,16</td>\n",
              "    </tr>\n",
              "    <tr>\n",
              "      <th id=\"T_0e40c_level0_row2\" class=\"row_heading level0 row2\" >5</th>\n",
              "      <td id=\"T_0e40c_row2_col0\" class=\"data row2 col0\" >84,60</td>\n",
              "      <td id=\"T_0e40c_row2_col1\" class=\"data row2 col1\" >78,86</td>\n",
              "      <td id=\"T_0e40c_row2_col2\" class=\"data row2 col2\" >0,09</td>\n",
              "    </tr>\n",
              "    <tr>\n",
              "      <th id=\"T_0e40c_level0_row3\" class=\"row_heading level0 row3\" >10</th>\n",
              "      <td id=\"T_0e40c_row3_col0\" class=\"data row3 col0\" >89,32</td>\n",
              "      <td id=\"T_0e40c_row3_col1\" class=\"data row3 col1\" >82,29</td>\n",
              "      <td id=\"T_0e40c_row3_col2\" class=\"data row3 col2\" >0,19</td>\n",
              "    </tr>\n",
              "    <tr>\n",
              "      <th id=\"T_0e40c_level0_row4\" class=\"row_heading level0 row4\" >50</th>\n",
              "      <td id=\"T_0e40c_row4_col0\" class=\"data row4 col0\" >91,95</td>\n",
              "      <td id=\"T_0e40c_row4_col1\" class=\"data row4 col1\" >81,54</td>\n",
              "      <td id=\"T_0e40c_row4_col2\" class=\"data row4 col2\" >0,89</td>\n",
              "    </tr>\n",
              "  </tbody>\n",
              "</table>\n"
            ]
          },
          "metadata": {},
          "execution_count": 7
        }
      ],
      "source": [
        "# Inicializing the list to insert the informations\n",
        "results = []\n",
        "\n",
        "# Same code but running throught all numbers of components needed\n",
        "for n_components in [1, 2, 5, 10, 50]:\n",
        "    pca = PCA(n_components=n_components)\n",
        "    X_train_pca = pca.fit_transform(X_train)\n",
        "    X_test_pca = pca.transform(X_test)\n",
        "\n",
        "    tree = DecisionTreeClassifier(ccp_alpha=0.001)\n",
        "\n",
        "    start_time = time.time()\n",
        "    tree.fit(X_train_pca, y_train)\n",
        "    training_time = time.time() - start_time\n",
        "\n",
        "    train_pred = tree.predict(X_train_pca)\n",
        "    test_pred = tree.predict(X_test_pca)\n",
        "    train_accuracy = accuracy_score(y_train, train_pred)\n",
        "    test_accuracy = accuracy_score(y_test, test_pred)\n",
        "\n",
        "    # Storing each result on the df\n",
        "    results.append({'Components': n_components,\n",
        "                    'Train Accuracy (%)': train_accuracy * 100,\n",
        "                    'Test Accuracy (%)': test_accuracy * 100,\n",
        "                    'Processing Time (s)': training_time})\n",
        "\n",
        "# Using Pandas to better visualize the results and able its easily comparison and engineering\n",
        "results_df = pd.DataFrame(results)\n",
        "results_df.set_index('Components', inplace=True)\n",
        "results_df.style.format(precision=2, decimal=',')"
      ]
    },
    {
      "cell_type": "code",
      "execution_count": 21,
      "metadata": {
        "id": "r2E_AwzycW03",
        "colab": {
          "base_uri": "https://localhost:8080/",
          "height": 542
        },
        "outputId": "a2cd16ba-bdd7-4e46-f0f5-1cba3241b67f"
      },
      "outputs": [
        {
          "output_type": "display_data",
          "data": {
            "text/html": [
              "<html>\n",
              "<head><meta charset=\"utf-8\" /></head>\n",
              "<body>\n",
              "    <div>            <script src=\"https://cdnjs.cloudflare.com/ajax/libs/mathjax/2.7.5/MathJax.js?config=TeX-AMS-MML_SVG\"></script><script type=\"text/javascript\">if (window.MathJax && window.MathJax.Hub && window.MathJax.Hub.Config) {window.MathJax.Hub.Config({SVG: {font: \"STIX-Web\"}});}</script>                <script type=\"text/javascript\">window.PlotlyConfig = {MathJaxConfig: 'local'};</script>\n",
              "        <script charset=\"utf-8\" src=\"https://cdn.plot.ly/plotly-2.24.1.min.js\"></script>                <div id=\"fbe9d159-5ff3-4237-aa6d-d948e399990e\" class=\"plotly-graph-div\" style=\"height:525px; width:100%;\"></div>            <script type=\"text/javascript\">                                    window.PLOTLYENV=window.PLOTLYENV || {};                                    if (document.getElementById(\"fbe9d159-5ff3-4237-aa6d-d948e399990e\")) {                    Plotly.newPlot(                        \"fbe9d159-5ff3-4237-aa6d-d948e399990e\",                        [{\"marker\":{\"color\":\"gray\"},\"mode\":\"lines+markers\",\"name\":\"Train\",\"x\":[1,2,5,10,50],\"y\":[49.9727965179543,61.27584330794341,84.60282916213275,89.32263329706203,91.94776931447225],\"type\":\"scatter\"},{\"marker\":{\"color\":\"blue\"},\"mode\":\"lines+markers\",\"name\":\"Test\",\"x\":[1,2,5,10,50],\"y\":[45.70749915167968,58.46623685103495,78.85985748218528,82.2870715982355,81.54054971157109],\"type\":\"scatter\"},{\"marker\":{\"color\":\"red\"},\"mode\":\"lines+markers\",\"name\":\"Processing Time\",\"x\":[1,2,5,10,50],\"y\":[0.2995774745941162,0.1633622646331787,0.089324951171875,0.1885991096496582,0.8853838443756104],\"yaxis\":\"y2\",\"type\":\"scatter\"}],                        {\"template\":{\"data\":{\"barpolar\":[{\"marker\":{\"line\":{\"color\":\"white\",\"width\":0.5},\"pattern\":{\"fillmode\":\"overlay\",\"size\":10,\"solidity\":0.2}},\"type\":\"barpolar\"}],\"bar\":[{\"error_x\":{\"color\":\"rgb(36,36,36)\"},\"error_y\":{\"color\":\"rgb(36,36,36)\"},\"marker\":{\"line\":{\"color\":\"white\",\"width\":0.5},\"pattern\":{\"fillmode\":\"overlay\",\"size\":10,\"solidity\":0.2}},\"type\":\"bar\"}],\"carpet\":[{\"aaxis\":{\"endlinecolor\":\"rgb(36,36,36)\",\"gridcolor\":\"white\",\"linecolor\":\"white\",\"minorgridcolor\":\"white\",\"startlinecolor\":\"rgb(36,36,36)\"},\"baxis\":{\"endlinecolor\":\"rgb(36,36,36)\",\"gridcolor\":\"white\",\"linecolor\":\"white\",\"minorgridcolor\":\"white\",\"startlinecolor\":\"rgb(36,36,36)\"},\"type\":\"carpet\"}],\"choropleth\":[{\"colorbar\":{\"outlinewidth\":1,\"tickcolor\":\"rgb(36,36,36)\",\"ticks\":\"outside\"},\"type\":\"choropleth\"}],\"contourcarpet\":[{\"colorbar\":{\"outlinewidth\":1,\"tickcolor\":\"rgb(36,36,36)\",\"ticks\":\"outside\"},\"type\":\"contourcarpet\"}],\"contour\":[{\"colorbar\":{\"outlinewidth\":1,\"tickcolor\":\"rgb(36,36,36)\",\"ticks\":\"outside\"},\"colorscale\":[[0.0,\"#440154\"],[0.1111111111111111,\"#482878\"],[0.2222222222222222,\"#3e4989\"],[0.3333333333333333,\"#31688e\"],[0.4444444444444444,\"#26828e\"],[0.5555555555555556,\"#1f9e89\"],[0.6666666666666666,\"#35b779\"],[0.7777777777777778,\"#6ece58\"],[0.8888888888888888,\"#b5de2b\"],[1.0,\"#fde725\"]],\"type\":\"contour\"}],\"heatmapgl\":[{\"colorbar\":{\"outlinewidth\":1,\"tickcolor\":\"rgb(36,36,36)\",\"ticks\":\"outside\"},\"colorscale\":[[0.0,\"#440154\"],[0.1111111111111111,\"#482878\"],[0.2222222222222222,\"#3e4989\"],[0.3333333333333333,\"#31688e\"],[0.4444444444444444,\"#26828e\"],[0.5555555555555556,\"#1f9e89\"],[0.6666666666666666,\"#35b779\"],[0.7777777777777778,\"#6ece58\"],[0.8888888888888888,\"#b5de2b\"],[1.0,\"#fde725\"]],\"type\":\"heatmapgl\"}],\"heatmap\":[{\"colorbar\":{\"outlinewidth\":1,\"tickcolor\":\"rgb(36,36,36)\",\"ticks\":\"outside\"},\"colorscale\":[[0.0,\"#440154\"],[0.1111111111111111,\"#482878\"],[0.2222222222222222,\"#3e4989\"],[0.3333333333333333,\"#31688e\"],[0.4444444444444444,\"#26828e\"],[0.5555555555555556,\"#1f9e89\"],[0.6666666666666666,\"#35b779\"],[0.7777777777777778,\"#6ece58\"],[0.8888888888888888,\"#b5de2b\"],[1.0,\"#fde725\"]],\"type\":\"heatmap\"}],\"histogram2dcontour\":[{\"colorbar\":{\"outlinewidth\":1,\"tickcolor\":\"rgb(36,36,36)\",\"ticks\":\"outside\"},\"colorscale\":[[0.0,\"#440154\"],[0.1111111111111111,\"#482878\"],[0.2222222222222222,\"#3e4989\"],[0.3333333333333333,\"#31688e\"],[0.4444444444444444,\"#26828e\"],[0.5555555555555556,\"#1f9e89\"],[0.6666666666666666,\"#35b779\"],[0.7777777777777778,\"#6ece58\"],[0.8888888888888888,\"#b5de2b\"],[1.0,\"#fde725\"]],\"type\":\"histogram2dcontour\"}],\"histogram2d\":[{\"colorbar\":{\"outlinewidth\":1,\"tickcolor\":\"rgb(36,36,36)\",\"ticks\":\"outside\"},\"colorscale\":[[0.0,\"#440154\"],[0.1111111111111111,\"#482878\"],[0.2222222222222222,\"#3e4989\"],[0.3333333333333333,\"#31688e\"],[0.4444444444444444,\"#26828e\"],[0.5555555555555556,\"#1f9e89\"],[0.6666666666666666,\"#35b779\"],[0.7777777777777778,\"#6ece58\"],[0.8888888888888888,\"#b5de2b\"],[1.0,\"#fde725\"]],\"type\":\"histogram2d\"}],\"histogram\":[{\"marker\":{\"line\":{\"color\":\"white\",\"width\":0.6}},\"type\":\"histogram\"}],\"mesh3d\":[{\"colorbar\":{\"outlinewidth\":1,\"tickcolor\":\"rgb(36,36,36)\",\"ticks\":\"outside\"},\"type\":\"mesh3d\"}],\"parcoords\":[{\"line\":{\"colorbar\":{\"outlinewidth\":1,\"tickcolor\":\"rgb(36,36,36)\",\"ticks\":\"outside\"}},\"type\":\"parcoords\"}],\"pie\":[{\"automargin\":true,\"type\":\"pie\"}],\"scatter3d\":[{\"line\":{\"colorbar\":{\"outlinewidth\":1,\"tickcolor\":\"rgb(36,36,36)\",\"ticks\":\"outside\"}},\"marker\":{\"colorbar\":{\"outlinewidth\":1,\"tickcolor\":\"rgb(36,36,36)\",\"ticks\":\"outside\"}},\"type\":\"scatter3d\"}],\"scattercarpet\":[{\"marker\":{\"colorbar\":{\"outlinewidth\":1,\"tickcolor\":\"rgb(36,36,36)\",\"ticks\":\"outside\"}},\"type\":\"scattercarpet\"}],\"scattergeo\":[{\"marker\":{\"colorbar\":{\"outlinewidth\":1,\"tickcolor\":\"rgb(36,36,36)\",\"ticks\":\"outside\"}},\"type\":\"scattergeo\"}],\"scattergl\":[{\"marker\":{\"colorbar\":{\"outlinewidth\":1,\"tickcolor\":\"rgb(36,36,36)\",\"ticks\":\"outside\"}},\"type\":\"scattergl\"}],\"scattermapbox\":[{\"marker\":{\"colorbar\":{\"outlinewidth\":1,\"tickcolor\":\"rgb(36,36,36)\",\"ticks\":\"outside\"}},\"type\":\"scattermapbox\"}],\"scatterpolargl\":[{\"marker\":{\"colorbar\":{\"outlinewidth\":1,\"tickcolor\":\"rgb(36,36,36)\",\"ticks\":\"outside\"}},\"type\":\"scatterpolargl\"}],\"scatterpolar\":[{\"marker\":{\"colorbar\":{\"outlinewidth\":1,\"tickcolor\":\"rgb(36,36,36)\",\"ticks\":\"outside\"}},\"type\":\"scatterpolar\"}],\"scatter\":[{\"fillpattern\":{\"fillmode\":\"overlay\",\"size\":10,\"solidity\":0.2},\"type\":\"scatter\"}],\"scatterternary\":[{\"marker\":{\"colorbar\":{\"outlinewidth\":1,\"tickcolor\":\"rgb(36,36,36)\",\"ticks\":\"outside\"}},\"type\":\"scatterternary\"}],\"surface\":[{\"colorbar\":{\"outlinewidth\":1,\"tickcolor\":\"rgb(36,36,36)\",\"ticks\":\"outside\"},\"colorscale\":[[0.0,\"#440154\"],[0.1111111111111111,\"#482878\"],[0.2222222222222222,\"#3e4989\"],[0.3333333333333333,\"#31688e\"],[0.4444444444444444,\"#26828e\"],[0.5555555555555556,\"#1f9e89\"],[0.6666666666666666,\"#35b779\"],[0.7777777777777778,\"#6ece58\"],[0.8888888888888888,\"#b5de2b\"],[1.0,\"#fde725\"]],\"type\":\"surface\"}],\"table\":[{\"cells\":{\"fill\":{\"color\":\"rgb(237,237,237)\"},\"line\":{\"color\":\"white\"}},\"header\":{\"fill\":{\"color\":\"rgb(217,217,217)\"},\"line\":{\"color\":\"white\"}},\"type\":\"table\"}]},\"layout\":{\"annotationdefaults\":{\"arrowhead\":0,\"arrowwidth\":1},\"autotypenumbers\":\"strict\",\"coloraxis\":{\"colorbar\":{\"outlinewidth\":1,\"tickcolor\":\"rgb(36,36,36)\",\"ticks\":\"outside\"}},\"colorscale\":{\"diverging\":[[0.0,\"rgb(103,0,31)\"],[0.1,\"rgb(178,24,43)\"],[0.2,\"rgb(214,96,77)\"],[0.3,\"rgb(244,165,130)\"],[0.4,\"rgb(253,219,199)\"],[0.5,\"rgb(247,247,247)\"],[0.6,\"rgb(209,229,240)\"],[0.7,\"rgb(146,197,222)\"],[0.8,\"rgb(67,147,195)\"],[0.9,\"rgb(33,102,172)\"],[1.0,\"rgb(5,48,97)\"]],\"sequential\":[[0.0,\"#440154\"],[0.1111111111111111,\"#482878\"],[0.2222222222222222,\"#3e4989\"],[0.3333333333333333,\"#31688e\"],[0.4444444444444444,\"#26828e\"],[0.5555555555555556,\"#1f9e89\"],[0.6666666666666666,\"#35b779\"],[0.7777777777777778,\"#6ece58\"],[0.8888888888888888,\"#b5de2b\"],[1.0,\"#fde725\"]],\"sequentialminus\":[[0.0,\"#440154\"],[0.1111111111111111,\"#482878\"],[0.2222222222222222,\"#3e4989\"],[0.3333333333333333,\"#31688e\"],[0.4444444444444444,\"#26828e\"],[0.5555555555555556,\"#1f9e89\"],[0.6666666666666666,\"#35b779\"],[0.7777777777777778,\"#6ece58\"],[0.8888888888888888,\"#b5de2b\"],[1.0,\"#fde725\"]]},\"colorway\":[\"#1F77B4\",\"#FF7F0E\",\"#2CA02C\",\"#D62728\",\"#9467BD\",\"#8C564B\",\"#E377C2\",\"#7F7F7F\",\"#BCBD22\",\"#17BECF\"],\"font\":{\"color\":\"rgb(36,36,36)\"},\"geo\":{\"bgcolor\":\"white\",\"lakecolor\":\"white\",\"landcolor\":\"white\",\"showlakes\":true,\"showland\":true,\"subunitcolor\":\"white\"},\"hoverlabel\":{\"align\":\"left\"},\"hovermode\":\"closest\",\"mapbox\":{\"style\":\"light\"},\"paper_bgcolor\":\"white\",\"plot_bgcolor\":\"white\",\"polar\":{\"angularaxis\":{\"gridcolor\":\"rgb(232,232,232)\",\"linecolor\":\"rgb(36,36,36)\",\"showgrid\":false,\"showline\":true,\"ticks\":\"outside\"},\"bgcolor\":\"white\",\"radialaxis\":{\"gridcolor\":\"rgb(232,232,232)\",\"linecolor\":\"rgb(36,36,36)\",\"showgrid\":false,\"showline\":true,\"ticks\":\"outside\"}},\"scene\":{\"xaxis\":{\"backgroundcolor\":\"white\",\"gridcolor\":\"rgb(232,232,232)\",\"gridwidth\":2,\"linecolor\":\"rgb(36,36,36)\",\"showbackground\":true,\"showgrid\":false,\"showline\":true,\"ticks\":\"outside\",\"zeroline\":false,\"zerolinecolor\":\"rgb(36,36,36)\"},\"yaxis\":{\"backgroundcolor\":\"white\",\"gridcolor\":\"rgb(232,232,232)\",\"gridwidth\":2,\"linecolor\":\"rgb(36,36,36)\",\"showbackground\":true,\"showgrid\":false,\"showline\":true,\"ticks\":\"outside\",\"zeroline\":false,\"zerolinecolor\":\"rgb(36,36,36)\"},\"zaxis\":{\"backgroundcolor\":\"white\",\"gridcolor\":\"rgb(232,232,232)\",\"gridwidth\":2,\"linecolor\":\"rgb(36,36,36)\",\"showbackground\":true,\"showgrid\":false,\"showline\":true,\"ticks\":\"outside\",\"zeroline\":false,\"zerolinecolor\":\"rgb(36,36,36)\"}},\"shapedefaults\":{\"fillcolor\":\"black\",\"line\":{\"width\":0},\"opacity\":0.3},\"ternary\":{\"aaxis\":{\"gridcolor\":\"rgb(232,232,232)\",\"linecolor\":\"rgb(36,36,36)\",\"showgrid\":false,\"showline\":true,\"ticks\":\"outside\"},\"baxis\":{\"gridcolor\":\"rgb(232,232,232)\",\"linecolor\":\"rgb(36,36,36)\",\"showgrid\":false,\"showline\":true,\"ticks\":\"outside\"},\"bgcolor\":\"white\",\"caxis\":{\"gridcolor\":\"rgb(232,232,232)\",\"linecolor\":\"rgb(36,36,36)\",\"showgrid\":false,\"showline\":true,\"ticks\":\"outside\"}},\"title\":{\"x\":0.05},\"xaxis\":{\"automargin\":true,\"gridcolor\":\"rgb(232,232,232)\",\"linecolor\":\"rgb(36,36,36)\",\"showgrid\":false,\"showline\":true,\"ticks\":\"outside\",\"title\":{\"standoff\":15},\"zeroline\":false,\"zerolinecolor\":\"rgb(36,36,36)\"},\"yaxis\":{\"automargin\":true,\"gridcolor\":\"rgb(232,232,232)\",\"linecolor\":\"rgb(36,36,36)\",\"showgrid\":false,\"showline\":true,\"ticks\":\"outside\",\"title\":{\"standoff\":15},\"zeroline\":false,\"zerolinecolor\":\"rgb(36,36,36)\"}}},\"font\":{\"size\":24,\"color\":\"black\",\"family\":\"Calibri\"},\"yaxis2\":{\"title\":{\"text\":\"Time (s)\"},\"overlaying\":\"y\",\"side\":\"right\"},\"legend\":{\"x\":0.375,\"y\":1.1,\"orientation\":\"h\"},\"title\":{\"text\":\"Accuracies and Processing Time by Components\",\"x\":0.5},\"xaxis\":{\"title\":{\"text\":\"Number of Components (-)\"}},\"yaxis\":{\"title\":{\"text\":\"Accuracy (%)\"}}},                        {\"responsive\": true}                    ).then(function(){\n",
              "                            \n",
              "var gd = document.getElementById('fbe9d159-5ff3-4237-aa6d-d948e399990e');\n",
              "var x = new MutationObserver(function (mutations, observer) {{\n",
              "        var display = window.getComputedStyle(gd).display;\n",
              "        if (!display || display === 'none') {{\n",
              "            console.log([gd, 'removed!']);\n",
              "            Plotly.purge(gd);\n",
              "            observer.disconnect();\n",
              "        }}\n",
              "}});\n",
              "\n",
              "// Listen for the removal of the full notebook cells\n",
              "var notebookContainer = gd.closest('#notebook-container');\n",
              "if (notebookContainer) {{\n",
              "    x.observe(notebookContainer, {childList: true});\n",
              "}}\n",
              "\n",
              "// Listen for the clearing of the current output cell\n",
              "var outputEl = gd.closest('.output');\n",
              "if (outputEl) {{\n",
              "    x.observe(outputEl, {childList: true});\n",
              "}}\n",
              "\n",
              "                        })                };                            </script>        </div>\n",
              "</body>\n",
              "</html>"
            ]
          },
          "metadata": {}
        }
      ],
      "source": [
        "# Plotting the curves along the components\n",
        "fig = go.Figure()\n",
        "fig.add_trace(go.Scatter(x=results_df.index, y=results_df['Train Accuracy (%)'], mode='lines+markers', name='Train', marker=dict(color='gray')))\n",
        "fig.add_trace(go.Scatter(x=results_df.index, y=results_df['Test Accuracy (%)'], mode='lines+markers', name='Test', marker=dict(color='blue')))\n",
        "fig.add_trace(go.Scatter(x=results_df.index, y=results_df['Processing Time (s)'], mode='lines+markers', name='Processing Time', marker=dict(color='red'), yaxis='y2'))\n",
        "\n",
        "# Setting adjustments\n",
        "fig.update_layout(title='Accuracies and Processing Time by Components',\n",
        "                  font=dict(size=24,\n",
        "                            color='black',\n",
        "                            family='Calibri'),\n",
        "                  xaxis_title='Number of Components (-)',\n",
        "                  yaxis_title='Accuracy (%)',\n",
        "                  yaxis2=dict(title='Time (s)',\n",
        "                              overlaying='y',\n",
        "                              side='right'),\n",
        "                  legend=dict(x=0.375, y=1.1, orientation='h'),\n",
        "                  template='simple_white',\n",
        "                  title_x=0.5)\n",
        "fig.show()"
      ]
    },
    {
      "cell_type": "markdown",
      "metadata": {
        "id": "exCVHaQCcW03"
      },
      "source": [
        "## O que aconteceu com a acurácia?\n",
        "\n",
        "> Atingiu no máximo, cerca de 82% de ajuste ao conjunto teste, sendo que essa eficiência foi obtida com cerca de apenas 10 componentes.\n",
        "\n",
        "## O que aconteceu com o tempo de processamento?\n",
        "\n",
        "> Parece que a taxa de crescimento está aumentando gradualmente, indicando um crescimento não linear. Essa característica é típica de um crescimento exponencial ou polinomial (onde a taxa de mudança não é constante)\n",
        "\n",
        "## Conclusão:\n",
        "\n",
        "> Naturalmente, ao inserirmos mais componentes, o custo de tempo aumentaria não linearmente, mas a acurácia da árvore se manteria próxima dos 80% no conjunto teste, resultando em um trade-off negativo.\n",
        ">\n",
        "> Podemos dizer para essa análise de PCA, n=5 é a quantidade ideal de componentes para esse conjunto de dados usando ccp_alpha=0,001, pois possui o menor tempo de processamento frente a acurácia obtida."
      ]
    }
  ],
  "metadata": {
    "kernelspec": {
      "display_name": "Python 3",
      "language": "python",
      "name": "python3"
    },
    "language_info": {
      "codemirror_mode": {
        "name": "ipython",
        "version": 3
      },
      "file_extension": ".py",
      "mimetype": "text/x-python",
      "name": "python",
      "nbconvert_exporter": "python",
      "pygments_lexer": "ipython3",
      "version": "3.8.5"
    },
    "toc": {
      "base_numbering": 1,
      "nav_menu": {},
      "number_sections": true,
      "sideBar": true,
      "skip_h1_title": true,
      "title_cell": "Índice",
      "title_sidebar": "Conteúdo",
      "toc_cell": false,
      "toc_position": {},
      "toc_section_display": true,
      "toc_window_display": false
    },
    "varInspector": {
      "cols": {
        "lenName": 16,
        "lenType": 16,
        "lenVar": 40
      },
      "kernels_config": {
        "python": {
          "delete_cmd_postfix": "",
          "delete_cmd_prefix": "del ",
          "library": "var_list.py",
          "varRefreshCmd": "print(var_dic_list())"
        },
        "r": {
          "delete_cmd_postfix": ") ",
          "delete_cmd_prefix": "rm(",
          "library": "var_list.r",
          "varRefreshCmd": "cat(var_dic_list()) "
        }
      },
      "types_to_exclude": [
        "module",
        "function",
        "builtin_function_or_method",
        "instance",
        "_Feature"
      ],
      "window_display": false
    },
    "colab": {
      "provenance": []
    }
  },
  "nbformat": 4,
  "nbformat_minor": 0
}